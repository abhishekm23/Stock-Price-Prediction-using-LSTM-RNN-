{
  "nbformat": 4,
  "nbformat_minor": 0,
  "metadata": {
    "colab": {
      "name": "NLPstockpriceProjectmain.ipynb",
      "provenance": [],
      "collapsed_sections": []
    },
    "kernelspec": {
      "name": "python3",
      "display_name": "Python 3"
    },
    "language_info": {
      "name": "python"
    },
    "accelerator": "GPU",
    "widgets": {
      "application/vnd.jupyter.widget-state+json": {
        "b9f1d5ca3beb4371bcf56c82f3c6f4af": {
          "model_module": "@jupyter-widgets/controls",
          "model_name": "HBoxModel",
          "model_module_version": "1.5.0",
          "state": {
            "_dom_classes": [],
            "_model_module": "@jupyter-widgets/controls",
            "_model_module_version": "1.5.0",
            "_model_name": "HBoxModel",
            "_view_count": null,
            "_view_module": "@jupyter-widgets/controls",
            "_view_module_version": "1.5.0",
            "_view_name": "HBoxView",
            "box_style": "",
            "children": [
              "IPY_MODEL_691a793b6bdc418195c84b94dd823e5c",
              "IPY_MODEL_da9b54670b284cecb9b2b034b7b85fb1",
              "IPY_MODEL_32f86d5cd4a446a7a1ae5541686f9709"
            ],
            "layout": "IPY_MODEL_80bbcd1659cb4f37be56ea670942abea"
          }
        },
        "691a793b6bdc418195c84b94dd823e5c": {
          "model_module": "@jupyter-widgets/controls",
          "model_name": "HTMLModel",
          "model_module_version": "1.5.0",
          "state": {
            "_dom_classes": [],
            "_model_module": "@jupyter-widgets/controls",
            "_model_module_version": "1.5.0",
            "_model_name": "HTMLModel",
            "_view_count": null,
            "_view_module": "@jupyter-widgets/controls",
            "_view_module_version": "1.5.0",
            "_view_name": "HTMLView",
            "description": "",
            "description_tooltip": null,
            "layout": "IPY_MODEL_cbe610183b6246cd8d4a5408d0d35f05",
            "placeholder": "​",
            "style": "IPY_MODEL_d8d115428d9447688d780e1c43da0bcc",
            "value": "Done! Use &#x27;show&#x27; commands to display/save.   "
          }
        },
        "da9b54670b284cecb9b2b034b7b85fb1": {
          "model_module": "@jupyter-widgets/controls",
          "model_name": "FloatProgressModel",
          "model_module_version": "1.5.0",
          "state": {
            "_dom_classes": [],
            "_model_module": "@jupyter-widgets/controls",
            "_model_module_version": "1.5.0",
            "_model_name": "FloatProgressModel",
            "_view_count": null,
            "_view_module": "@jupyter-widgets/controls",
            "_view_module_version": "1.5.0",
            "_view_name": "ProgressView",
            "bar_style": "success",
            "description": "",
            "description_tooltip": null,
            "layout": "IPY_MODEL_7d2556ec03974ffab514fbf57fe30050",
            "max": 1,
            "min": 0,
            "orientation": "horizontal",
            "style": "IPY_MODEL_b91fe56ab9ed4ea1aa61b95d4c1af0cc",
            "value": 1
          }
        },
        "32f86d5cd4a446a7a1ae5541686f9709": {
          "model_module": "@jupyter-widgets/controls",
          "model_name": "HTMLModel",
          "model_module_version": "1.5.0",
          "state": {
            "_dom_classes": [],
            "_model_module": "@jupyter-widgets/controls",
            "_model_module_version": "1.5.0",
            "_model_name": "HTMLModel",
            "_view_count": null,
            "_view_module": "@jupyter-widgets/controls",
            "_view_module_version": "1.5.0",
            "_view_name": "HTMLView",
            "description": "",
            "description_tooltip": null,
            "layout": "IPY_MODEL_16fc580490e94a29a05b628f839ac271",
            "placeholder": "​",
            "style": "IPY_MODEL_d9ddc8e52a4f4cffae2cbab741d615db",
            "value": " [100%]   00:00 -&gt; (00:00 left)"
          }
        },
        "80bbcd1659cb4f37be56ea670942abea": {
          "model_module": "@jupyter-widgets/base",
          "model_name": "LayoutModel",
          "model_module_version": "1.2.0",
          "state": {
            "_model_module": "@jupyter-widgets/base",
            "_model_module_version": "1.2.0",
            "_model_name": "LayoutModel",
            "_view_count": null,
            "_view_module": "@jupyter-widgets/base",
            "_view_module_version": "1.2.0",
            "_view_name": "LayoutView",
            "align_content": null,
            "align_items": null,
            "align_self": null,
            "border": null,
            "bottom": null,
            "display": "inline-flex",
            "flex": null,
            "flex_flow": "row wrap",
            "grid_area": null,
            "grid_auto_columns": null,
            "grid_auto_flow": null,
            "grid_auto_rows": null,
            "grid_column": null,
            "grid_gap": null,
            "grid_row": null,
            "grid_template_areas": null,
            "grid_template_columns": null,
            "grid_template_rows": null,
            "height": null,
            "justify_content": null,
            "justify_items": null,
            "left": null,
            "margin": null,
            "max_height": null,
            "max_width": null,
            "min_height": null,
            "min_width": null,
            "object_fit": null,
            "object_position": null,
            "order": null,
            "overflow": null,
            "overflow_x": null,
            "overflow_y": null,
            "padding": null,
            "right": null,
            "top": null,
            "visibility": null,
            "width": "100%"
          }
        },
        "cbe610183b6246cd8d4a5408d0d35f05": {
          "model_module": "@jupyter-widgets/base",
          "model_name": "LayoutModel",
          "model_module_version": "1.2.0",
          "state": {
            "_model_module": "@jupyter-widgets/base",
            "_model_module_version": "1.2.0",
            "_model_name": "LayoutModel",
            "_view_count": null,
            "_view_module": "@jupyter-widgets/base",
            "_view_module_version": "1.2.0",
            "_view_name": "LayoutView",
            "align_content": null,
            "align_items": null,
            "align_self": null,
            "border": null,
            "bottom": null,
            "display": null,
            "flex": null,
            "flex_flow": null,
            "grid_area": null,
            "grid_auto_columns": null,
            "grid_auto_flow": null,
            "grid_auto_rows": null,
            "grid_column": null,
            "grid_gap": null,
            "grid_row": null,
            "grid_template_areas": null,
            "grid_template_columns": null,
            "grid_template_rows": null,
            "height": null,
            "justify_content": null,
            "justify_items": null,
            "left": null,
            "margin": null,
            "max_height": null,
            "max_width": null,
            "min_height": null,
            "min_width": null,
            "object_fit": null,
            "object_position": null,
            "order": null,
            "overflow": null,
            "overflow_x": null,
            "overflow_y": null,
            "padding": null,
            "right": null,
            "top": null,
            "visibility": null,
            "width": null
          }
        },
        "d8d115428d9447688d780e1c43da0bcc": {
          "model_module": "@jupyter-widgets/controls",
          "model_name": "DescriptionStyleModel",
          "model_module_version": "1.5.0",
          "state": {
            "_model_module": "@jupyter-widgets/controls",
            "_model_module_version": "1.5.0",
            "_model_name": "DescriptionStyleModel",
            "_view_count": null,
            "_view_module": "@jupyter-widgets/base",
            "_view_module_version": "1.2.0",
            "_view_name": "StyleView",
            "description_width": ""
          }
        },
        "7d2556ec03974ffab514fbf57fe30050": {
          "model_module": "@jupyter-widgets/base",
          "model_name": "LayoutModel",
          "model_module_version": "1.2.0",
          "state": {
            "_model_module": "@jupyter-widgets/base",
            "_model_module_version": "1.2.0",
            "_model_name": "LayoutModel",
            "_view_count": null,
            "_view_module": "@jupyter-widgets/base",
            "_view_module_version": "1.2.0",
            "_view_name": "LayoutView",
            "align_content": null,
            "align_items": null,
            "align_self": null,
            "border": null,
            "bottom": null,
            "display": null,
            "flex": "2",
            "flex_flow": null,
            "grid_area": null,
            "grid_auto_columns": null,
            "grid_auto_flow": null,
            "grid_auto_rows": null,
            "grid_column": null,
            "grid_gap": null,
            "grid_row": null,
            "grid_template_areas": null,
            "grid_template_columns": null,
            "grid_template_rows": null,
            "height": null,
            "justify_content": null,
            "justify_items": null,
            "left": null,
            "margin": null,
            "max_height": null,
            "max_width": null,
            "min_height": null,
            "min_width": null,
            "object_fit": null,
            "object_position": null,
            "order": null,
            "overflow": null,
            "overflow_x": null,
            "overflow_y": null,
            "padding": null,
            "right": null,
            "top": null,
            "visibility": null,
            "width": null
          }
        },
        "b91fe56ab9ed4ea1aa61b95d4c1af0cc": {
          "model_module": "@jupyter-widgets/controls",
          "model_name": "ProgressStyleModel",
          "model_module_version": "1.5.0",
          "state": {
            "_model_module": "@jupyter-widgets/controls",
            "_model_module_version": "1.5.0",
            "_model_name": "ProgressStyleModel",
            "_view_count": null,
            "_view_module": "@jupyter-widgets/base",
            "_view_module_version": "1.2.0",
            "_view_name": "StyleView",
            "bar_color": null,
            "description_width": ""
          }
        },
        "16fc580490e94a29a05b628f839ac271": {
          "model_module": "@jupyter-widgets/base",
          "model_name": "LayoutModel",
          "model_module_version": "1.2.0",
          "state": {
            "_model_module": "@jupyter-widgets/base",
            "_model_module_version": "1.2.0",
            "_model_name": "LayoutModel",
            "_view_count": null,
            "_view_module": "@jupyter-widgets/base",
            "_view_module_version": "1.2.0",
            "_view_name": "LayoutView",
            "align_content": null,
            "align_items": null,
            "align_self": null,
            "border": null,
            "bottom": null,
            "display": null,
            "flex": null,
            "flex_flow": null,
            "grid_area": null,
            "grid_auto_columns": null,
            "grid_auto_flow": null,
            "grid_auto_rows": null,
            "grid_column": null,
            "grid_gap": null,
            "grid_row": null,
            "grid_template_areas": null,
            "grid_template_columns": null,
            "grid_template_rows": null,
            "height": null,
            "justify_content": null,
            "justify_items": null,
            "left": null,
            "margin": null,
            "max_height": null,
            "max_width": null,
            "min_height": null,
            "min_width": null,
            "object_fit": null,
            "object_position": null,
            "order": null,
            "overflow": null,
            "overflow_x": null,
            "overflow_y": null,
            "padding": null,
            "right": null,
            "top": null,
            "visibility": null,
            "width": null
          }
        },
        "d9ddc8e52a4f4cffae2cbab741d615db": {
          "model_module": "@jupyter-widgets/controls",
          "model_name": "DescriptionStyleModel",
          "model_module_version": "1.5.0",
          "state": {
            "_model_module": "@jupyter-widgets/controls",
            "_model_module_version": "1.5.0",
            "_model_name": "DescriptionStyleModel",
            "_view_count": null,
            "_view_module": "@jupyter-widgets/base",
            "_view_module_version": "1.2.0",
            "_view_name": "StyleView",
            "description_width": ""
          }
        }
      }
    }
  },
  "cells": [
    {
      "cell_type": "code",
      "execution_count": null,
      "metadata": {
        "id": "tDge4yznqjQ9"
      },
      "outputs": [],
      "source": [
        "from urllib.request import urlopen, Request\n",
        "from bs4 import BeautifulSoup\n",
        "from nltk.sentiment.vader import SentimentIntensityAnalyzer\n",
        "import pandas as pd\n",
        "import matplotlib.pyplot as plt\n",
        "\n"
      ]
    },
    {
      "cell_type": "code",
      "source": [
        "finviz_url = 'https://finviz.com/quote.ashx?t='\n",
        "tickers = []\n",
        "symbol = input('Enter the code for the stock:')\n",
        "tickers.append(symbol)\n",
        "\n",
        "news_tables = {}\n",
        "for ticker in tickers:\n",
        "    url = finviz_url + ticker\n",
        "\n",
        "    req = Request(url=url, headers={'user-agent': 'my-app'})\n",
        "    response = urlopen(req)\n",
        "\n",
        "    html = BeautifulSoup(response, features='html.parser')\n",
        "    news_table = html.find(id='news-table')\n",
        "    news_tables[ticker] = news_table\n"
      ],
      "metadata": {
        "colab": {
          "base_uri": "https://localhost:8080/"
        },
        "id": "We4ogd0aqrE1",
        "outputId": "952dd865-dbc0-4783-9d79-28841c70dd61"
      },
      "execution_count": null,
      "outputs": [
        {
          "name": "stdout",
          "output_type": "stream",
          "text": [
            "Enter the code for the stock:FB\n"
          ]
        }
      ]
    },
    {
      "cell_type": "code",
      "source": [
        "news_tables"
      ],
      "metadata": {
        "colab": {
          "base_uri": "https://localhost:8080/"
        },
        "id": "U9Cnn1HX2FJ9",
        "outputId": "34bc9aeb-e6f8-482c-ceb8-8c2cc05b2cf9"
      },
      "execution_count": null,
      "outputs": [
        {
          "output_type": "execute_result",
          "data": {
            "text/plain": [
              "{'FB': <table border=\"0\" cellpadding=\"1\" cellspacing=\"0\" class=\"fullview-news-outer\" id=\"news-table\" width=\"100%\">\n",
              " <tr><td align=\"right\" style=\"white-space:nowrap\" width=\"130\">Mar-25-22 03:01PM  </td><td align=\"left\"><div class=\"news-link-container\"><div class=\"news-link-left\"><a class=\"tab-link-news\" href=\"https://www.marketwatch.com/story/europes-new-big-tech-law-could-actually-produce-results-like-imessage-and-facebook-messenger-playing-nicely-and-big-money-fines-11648234878?siteid=yhoof2\" target=\"_blank\">Europes new Big Tech law could actually produce results, like iMessage and Facebook Messenger playing nicely and big-money fines</a></div><div class=\"news-link-right\"><span style=\"color:#aa6dc0;font-size:9px\"> MarketWatch</span></div></div></td></tr>\n",
              " <tr><td align=\"right\" width=\"130\">02:47PM  </td><td align=\"left\"><div class=\"news-link-container\"><div class=\"news-link-left\"><a class=\"tab-link-news\" href=\"https://finance.yahoo.com/news/apple-pays-another-round-rare-184718310.html\" target=\"_blank\">Apple Pays Another Round of Rare $200,000 Bonuses to Some Staff</a></div><div class=\"news-link-right\"><span style=\"color:#aa6dc0;font-size:9px\"> Bloomberg</span></div></div></td></tr>\n",
              " <tr><td align=\"right\" width=\"130\">01:30PM  </td><td align=\"left\"><div class=\"news-link-container\"><div class=\"news-link-left\"><a class=\"tab-link-news\" href=\"https://finance.yahoo.com/news/big-tech-blackout-set-averted-111044421.html\" target=\"_blank\">Big Tech Blackout Set to Be Averted With EU-U.S. Data Pact</a></div><div class=\"news-link-right\"><span style=\"color:#aa6dc0;font-size:9px\"> Bloomberg</span></div></div></td></tr>\n",
              " <tr><td align=\"right\" width=\"130\">12:25PM  </td><td align=\"left\"><div class=\"news-link-container\"><div class=\"news-link-left\"><a class=\"tab-link-news\" href=\"https://finance.yahoo.com/news/meta-fb-steps-forward-metaverse-162504733.html\" target=\"_blank\">Meta (FB) Steps Forward in Metaverse With VNTANA Collaboration</a></div><div class=\"news-link-right\"><span style=\"color:#aa6dc0;font-size:9px\"> Zacks</span></div></div></td></tr>\n",
              " <tr><td align=\"right\" width=\"130\">12:01PM  </td><td align=\"left\"><div class=\"news-link-container\"><div class=\"news-link-left\"><a class=\"tab-link-news\" href=\"https://www.investopedia.com/us-tech-giants-face-tough-new-rules-in-europe-5223658?utm_campaign=quote-yahoo&amp;utm_source=yahoo&amp;utm_medium=referral\" target=\"_blank\">U.S. Tech Giants Face Tough New Rules in Europe</a></div><div class=\"news-link-right\"><span style=\"color:#aa6dc0;font-size:9px\"> Investopedia</span></div></div></td></tr>\n",
              " <tr><td align=\"right\" width=\"130\">11:23AM  </td><td align=\"left\"><div class=\"news-link-container\"><div class=\"news-link-left\"><a class=\"tab-link-news\" href=\"https://finance.yahoo.com/video/eu-tech-regulation-u-giants-152331640.html\" target=\"_blank\">EU tech regulation: U.S. giants would no longer function as economic toll bridges, expert says</a></div><div class=\"news-link-right\"><span style=\"color:#aa6dc0;font-size:9px\"> Yahoo Finance Video</span></div></div></td></tr>\n",
              " <tr><td align=\"right\" width=\"130\">09:42AM  </td><td align=\"left\"><div class=\"news-link-container\"><div class=\"news-link-left\"><a class=\"tab-link-news\" href=\"https://finance.yahoo.com/news/instacart-slashes-valuation-almost-40-023211167.html\" target=\"_blank\">Instacart Slashes Its Valuation by Almost 40% to $24 Billion</a></div><div class=\"news-link-right\"><span style=\"color:#aa6dc0;font-size:9px\"> Bloomberg</span></div></div></td></tr>\n",
              " <tr><td align=\"right\" width=\"130\">09:42AM  </td><td align=\"left\"><div class=\"news-link-container\"><div class=\"news-link-left\"><a class=\"tab-link-news\" href=\"https://finance.yahoo.com/video/eu-takes-aim-u-tech-134206431.html\" target=\"_blank\">EU takes aim at U.S. tech giants with Digital Markets Act</a></div><div class=\"news-link-right\"><span style=\"color:#aa6dc0;font-size:9px\"> Yahoo Finance Video</span></div></div></td></tr>\n",
              " <tr><td align=\"right\" width=\"130\">08:42AM  </td><td align=\"left\"><div class=\"news-link-container\"><div class=\"news-link-left\"><a class=\"tab-link-news\" href=\"https://www.fool.com/investing/2022/03/25/better-metaverse-stock-nvidia-vs-amd/?source=eptyholnk0000202&amp;utm_source=yahoo-host&amp;utm_medium=feed&amp;utm_campaign=article\" target=\"_blank\">Better Metaverse Stock: Nvidia vs. AMD</a></div><div class=\"news-link-right\"><span style=\"color:#aa6dc0;font-size:9px\"> Motley Fool</span></div></div></td></tr>\n",
              " <tr><td align=\"right\" width=\"130\">08:00AM  </td><td align=\"left\"><div class=\"news-link-container\"><div class=\"news-link-left\"><a class=\"tab-link-news\" href=\"https://www.fool.com/investing/2022/03/25/got-500-top-growth-stocks-buy-could-double/?source=eptyholnk0000202&amp;utm_source=yahoo-host&amp;utm_medium=feed&amp;utm_campaign=article\" target=\"_blank\">Got $500? 2 Top Growth Stocks to Buy That Could Double Your Money</a></div><div class=\"news-link-right\"><span style=\"color:#aa6dc0;font-size:9px\"> Motley Fool</span></div></div></td></tr>\n",
              " <tr><td align=\"right\" width=\"130\">06:47AM  </td><td align=\"left\"><div class=\"news-link-container\"><div class=\"news-link-left\"><a class=\"tab-link-news\" href=\"https://www.fool.com/investing/2022/03/25/meta-platforms-stock-rising-again-why-its-a-buy/?source=eptyholnk0000202&amp;utm_source=yahoo-host&amp;utm_medium=feed&amp;utm_campaign=article\" target=\"_blank\">Meta Platforms Stock Is Rising Again: Here's Why It's a Buy</a></div><div class=\"news-link-right\"><span style=\"color:#aa6dc0;font-size:9px\"> Motley Fool</span></div></div></td></tr>\n",
              " <tr><td align=\"right\" width=\"130\">06:07AM  </td><td align=\"left\"><div class=\"news-link-container\"><div class=\"news-link-left\"><a class=\"tab-link-news\" href=\"https://finance.yahoo.com/news/controversial-law-big-tech-europe-124524303.html\" target=\"_blank\">Big Tech Faces Crackdown as EU Negotiators Back Tough Law</a></div><div class=\"news-link-right\"><span style=\"color:#aa6dc0;font-size:9px\"> Bloomberg</span></div></div></td></tr>\n",
              " <tr><td align=\"right\" style=\"white-space:nowrap\" width=\"130\">Mar-24-22 08:47PM  </td><td align=\"left\"><div class=\"news-link-container\"><div class=\"news-link-left\"><a class=\"tab-link-news\" href=\"https://finance.yahoo.com/news/1-meta-inks-partnership-3d-004708029.html\" target=\"_blank\">UPDATE 1-Meta inks partnership for 3D ads in step toward the metaverse</a></div><div class=\"news-link-right\"><span style=\"color:#aa6dc0;font-size:9px\"> Reuters</span></div></div></td></tr>\n",
              " <tr><td align=\"right\" width=\"130\">07:10PM  </td><td align=\"left\"><div class=\"news-link-container\"><div class=\"news-link-left\"><a class=\"tab-link-news\" href=\"https://www.investors.com/research/best-stocks-to-buy-now/?src=A00220\" target=\"_blank\">These Are The 5 Best Stocks To Buy And Watch Now</a></div><div class=\"news-link-right\"><span style=\"color:#aa6dc0;font-size:9px\"> Investor's Business Daily</span></div></div></td></tr>\n",
              " <tr><td align=\"right\" width=\"130\">04:32PM  </td><td align=\"left\"><div class=\"news-link-container\"><div class=\"news-link-left\"><a class=\"tab-link-news\" href=\"https://www.thestreet.com/investing/facebook-receives-very-bad-news-from-small-businesses?puc=yahoo&amp;cm_ven=YAHOO\" target=\"_blank\">Facebook Receives Very Bad News From Small Businesses</a></div><div class=\"news-link-right\"><span style=\"color:#aa6dc0;font-size:9px\"> TheStreet.com</span></div></div></td></tr>\n",
              " <tr><td align=\"right\" width=\"130\">03:43PM  </td><td align=\"left\"><div class=\"news-link-container\"><div class=\"news-link-left\"><a class=\"tab-link-news\" href=\"https://www.barrons.com/articles/apples-privacy-changes-crushed-facebook-but-roku-could-find-an-opportunity-51647969529?siteid=yhoof2\" target=\"_blank\">Apples Privacy Changes Crushed Facebook. But Roku Could Find an Opportunity.</a></div><div class=\"news-link-right\"><span style=\"color:#aa6dc0;font-size:9px\"> Barrons.com</span></div></div></td></tr>\n",
              " <tr><td align=\"right\" width=\"130\">03:17PM  </td><td align=\"left\"><div class=\"news-link-container\"><div class=\"news-link-left\"><a class=\"tab-link-news\" href=\"https://www.fool.com/investing/2022/03/24/why-meta-platforms-stock-climbed-higher-on-thursda/?source=eptyholnk0000202&amp;utm_source=yahoo-host&amp;utm_medium=feed&amp;utm_campaign=article\" target=\"_blank\">Why Meta Platforms Stock Climbed Higher on Thursday</a></div><div class=\"news-link-right\"><span style=\"color:#aa6dc0;font-size:9px\"> Motley Fool</span></div></div></td></tr>\n",
              " <tr><td align=\"right\" width=\"130\">02:51PM  </td><td align=\"left\"><div class=\"news-link-container\"><div class=\"news-link-left\"><a class=\"tab-link-news\" href=\"https://finance.yahoo.com/news/amazons-profits-will-be-hammered-by-higher-gas-prices-top-analyst-185101147.html\" target=\"_blank\">Amazon's profits will be hammered by higher gas prices: top analyst</a></div><div class=\"news-link-right\"><span style=\"color:#aa6dc0;font-size:9px\"> Yahoo Finance</span></div></div></td></tr>\n",
              " <tr><td align=\"right\" width=\"130\">02:05PM  </td><td align=\"left\"><div class=\"news-link-container\"><div class=\"news-link-left\"><a class=\"tab-link-news\" href=\"https://finance.yahoo.com/news/ex-bbc-chair-michael-grade-180530833.html\" target=\"_blank\">Ex-BBC Chair Michael Grade Picked to Head U.K.'s Ofcom</a></div><div class=\"news-link-right\"><span style=\"color:#aa6dc0;font-size:9px\"> Bloomberg</span></div></div></td></tr>\n",
              " <tr><td align=\"right\" width=\"130\">02:03PM  </td><td align=\"left\"><div class=\"news-link-container\"><div class=\"news-link-left\"><a class=\"tab-link-news\" href=\"https://finance.yahoo.com/news/musk-zuckerberg-fail-cut-high-180337911.html\" target=\"_blank\">Musk and Zuckerberg Fail to Make Cut in High Character CEO ETF</a></div><div class=\"news-link-right\"><span style=\"color:#aa6dc0;font-size:9px\"> Bloomberg</span></div></div></td></tr>\n",
              " <tr><td align=\"right\" width=\"130\">01:45PM  </td><td align=\"left\"><div class=\"news-link-container\"><div class=\"news-link-left\"><a class=\"tab-link-news\" href=\"https://finance.yahoo.com/news/g-7-warn-putin-against-100134616.html\" target=\"_blank\">NATO Boosts Forces in East Amid Chemical Incidents Warning</a></div><div class=\"news-link-right\"><span style=\"color:#aa6dc0;font-size:9px\"> Bloomberg</span></div></div></td></tr>\n",
              " <tr><td align=\"right\" width=\"130\">01:34PM  </td><td align=\"left\"><div class=\"news-link-container\"><div class=\"news-link-left\"><a class=\"tab-link-news\" href=\"https://finance.yahoo.com/news/10-cryptocurrencies-buy-hold-next-173432712.html\" target=\"_blank\">10 Cryptocurrencies To Buy and Hold for the Next 10 Years</a></div><div class=\"news-link-right\"><span style=\"color:#aa6dc0;font-size:9px\"> Insider Monkey</span></div></div></td></tr>\n",
              " <tr><td align=\"right\" width=\"130\">12:55PM  </td><td align=\"left\"><div class=\"news-link-container\"><div class=\"news-link-left\"><a class=\"tab-link-news\" href=\"https://finance.yahoo.com/news/snap-acquires-nextmind-drive-augmented-165504815.html\" target=\"_blank\">SNAP Acquires NextMind to Drive Augmented Reality Research</a></div><div class=\"news-link-right\"><span style=\"color:#aa6dc0;font-size:9px\"> Zacks</span></div></div></td></tr>\n",
              " <tr><td align=\"right\" width=\"130\">12:35PM  </td><td align=\"left\"><div class=\"news-link-container\"><div class=\"news-link-left\"><a class=\"tab-link-news\" href=\"https://www.fool.com/the-ascent/cryptocurrency/articles/meta-formerly-facebook-files-8-crypto-trade-applications/?source=eptyholnk0000202&amp;utm_source=yahoo-host&amp;utm_medium=feed&amp;utm_campaign=article\" target=\"_blank\">Meta, Formerly Facebook, Files 8 Crypto Trade Applications</a></div><div class=\"news-link-right\"><span style=\"color:#aa6dc0;font-size:9px\"> Motley Fool</span></div></div></td></tr>\n",
              " <tr><td align=\"right\" width=\"130\">11:52AM  </td><td align=\"left\"><div class=\"news-link-container\"><div class=\"news-link-left\"><a class=\"tab-link-news\" href=\"https://finance.yahoo.com/news/google-denies-included-lawyers-emails-155217363.html\" target=\"_blank\">Google Denies It Included Lawyers on Emails to Dodge Regulator Scrutiny</a></div><div class=\"news-link-right\"><span style=\"color:#aa6dc0;font-size:9px\"> Bloomberg</span></div></div></td></tr>\n",
              " <tr><td align=\"right\" width=\"130\">11:39AM  </td><td align=\"left\"><div class=\"news-link-container\"><div class=\"news-link-left\"><a class=\"tab-link-news\" href=\"https://www.thestreet.com/technology/top-meta-platforms-execs-go-remote-where?puc=yahoo&amp;cm_ven=YAHOO\" target=\"_blank\">Top Meta Platforms Execs Go Remote. Where Are They Headed?</a></div><div class=\"news-link-right\"><span style=\"color:#aa6dc0;font-size:9px\"> TheStreet.com</span></div></div></td></tr>\n",
              " <tr><td align=\"right\" width=\"130\">11:12AM  </td><td align=\"left\"><div class=\"news-link-container\"><div class=\"news-link-left\"><a class=\"tab-link-news\" href=\"https://www.marketwatch.com/story/meta-announces-800-million-data-center-near-kansas-city-airport-2022-03-24?siteid=yhoof2\" target=\"_blank\">Meta announces $800 million data center near Kansas City airport</a></div><div class=\"news-link-right\"><span style=\"color:#aa6dc0;font-size:9px\"> MarketWatch</span></div></div></td></tr>\n",
              " <tr><td align=\"right\" width=\"130\">10:26AM  </td><td align=\"left\"><div class=\"news-link-container\"><div class=\"news-link-left\"><a class=\"tab-link-news\" href=\"https://www.bizjournals.com/sanjose/news/2022/03/24/metas-top-leaders-are-scattering-far-from-its-hq.html?ana=yahoo\" target=\"_blank\">Execu-dus? Meta's top leaders are scattering far from Silicon Valley</a></div><div class=\"news-link-right\"><span style=\"color:#aa6dc0;font-size:9px\"> American City Business Journals</span></div></div></td></tr>\n",
              " <tr><td align=\"right\" width=\"130\">10:25AM  </td><td align=\"left\"><div class=\"news-link-container\"><div class=\"news-link-left\"><a class=\"tab-link-news\" href=\"https://finance.yahoo.com/news/the-key-to-understanding-celebrity-ce-os-like-mark-zuckerberg-and-elon-musk-barbara-corcoran-142520569.html\" target=\"_blank\">Barbara Corcoran: The key to understanding celebrity CEOs like Elon Musk and Mark Zuckerberg</a></div><div class=\"news-link-right\"><span style=\"color:#aa6dc0;font-size:9px\"> Yahoo Finance</span></div></div></td></tr>\n",
              " <tr><td align=\"right\" width=\"130\">10:06AM  </td><td align=\"left\"><div class=\"news-link-container\"><div class=\"news-link-left\"><a class=\"tab-link-news\" href=\"https://finance.yahoo.com/news/meta-trades-value-stock-500-103811504.html\" target=\"_blank\">Meta Trades Like Value Stock After $500 Billion Rout</a></div><div class=\"news-link-right\"><span style=\"color:#aa6dc0;font-size:9px\"> Bloomberg</span></div></div></td></tr>\n",
              " <tr><td align=\"right\" width=\"130\">09:49AM  </td><td align=\"left\"><div class=\"news-link-container\"><div class=\"news-link-left\"><a class=\"tab-link-news\" href=\"https://finance.yahoo.com/video/difference-between-mark-zuckerberg-elon-134955734.html\" target=\"_blank\">The difference between Mark Zuckerberg and Elon Musk</a></div><div class=\"news-link-right\"><span style=\"color:#aa6dc0;font-size:9px\"> Yahoo Finance Video</span></div></div></td></tr>\n",
              " <tr><td align=\"right\" width=\"130\">09:34AM  </td><td align=\"left\"><div class=\"news-link-container\"><div class=\"news-link-left\"><a class=\"tab-link-news\" href=\"https://finance.yahoo.com/news/3d-ads-come-facebook-instagram-133426823.html\" target=\"_blank\">3D ads come to Facebook, Instagram in step toward the metaverse</a></div><div class=\"news-link-right\"><span style=\"color:#aa6dc0;font-size:9px\"> Reuters</span></div></div></td></tr>\n",
              " <tr><td align=\"right\" width=\"130\">06:00AM  </td><td align=\"left\"><div class=\"news-link-container\"><div class=\"news-link-left\"><a class=\"tab-link-news\" href=\"https://finance.yahoo.com/video/influencers-andy-serwer-barbara-corcoran-100000484.html\" target=\"_blank\">Influencers with Andy Serwer: Barbara Corcoran</a></div><div class=\"news-link-right\"><span style=\"color:#aa6dc0;font-size:9px\"> Yahoo Finance Video</span></div></div></td></tr>\n",
              " <tr><td align=\"right\" width=\"130\">05:59AM  </td><td align=\"left\"><div class=\"news-link-container\"><div class=\"news-link-left\"><a class=\"tab-link-news\" href=\"https://finance.yahoo.com/news/how-investors-can-navigate-surging-inflation-morning-brief-090906049.html\" target=\"_blank\">How investors can navigate surging inflation</a></div><div class=\"news-link-right\"><span style=\"color:#aa6dc0;font-size:9px\"> Yahoo Finance</span></div></div></td></tr>\n",
              " <tr><td align=\"right\" width=\"130\">05:02AM  </td><td align=\"left\"><div class=\"news-link-container\"><div class=\"news-link-left\"><a class=\"tab-link-news\" href=\"https://www.investopedia.com/articles/company-insights/090916/how-square-cash-works-and-makes-money-sq.asp?utm_campaign=quote-yahoo&amp;utm_source=yahoo&amp;utm_medium=referral\" target=\"_blank\">How Block's Cash App Makes Money</a></div><div class=\"news-link-right\"><span style=\"color:#aa6dc0;font-size:9px\"> Investopedia</span></div></div></td></tr>\n",
              " <tr><td align=\"right\" style=\"white-space:nowrap\" width=\"130\">Mar-23-22 08:23PM  </td><td align=\"left\"><div class=\"news-link-container\"><div class=\"news-link-left\"><a class=\"tab-link-news\" href=\"https://www.thestreet.com/technology/facebook-promises-change-but-it-is-stained-by-hate-speech?puc=yahoo&amp;cm_ven=YAHOO\" target=\"_blank\">Facebook Promises Change But It Is Stained by Hate Speech</a></div><div class=\"news-link-right\"><span style=\"color:#aa6dc0;font-size:9px\"> TheStreet.com</span></div></div></td></tr>\n",
              " <tr><td align=\"right\" width=\"130\">05:45PM  </td><td align=\"left\"><div class=\"news-link-container\"><div class=\"news-link-left\"><a class=\"tab-link-news\" href=\"https://finance.yahoo.com/news/meta-platforms-fb-dips-more-214509964.html\" target=\"_blank\">Meta Platforms (FB) Dips More Than Broader Markets: What You Should Know</a></div><div class=\"news-link-right\"><span style=\"color:#aa6dc0;font-size:9px\"> Zacks</span></div></div></td></tr>\n",
              " <tr><td align=\"right\" width=\"130\">04:19PM  </td><td align=\"left\"><div class=\"news-link-container\"><div class=\"news-link-left\"><a class=\"tab-link-news\" href=\"https://www.thestreet.com/technology/facebook-wants-to-change-but-is-caught-by-hate-speech?puc=yahoo&amp;cm_ven=YAHOO\" target=\"_blank\">Facebook Wants to Change But Is Stained by Hate Speech</a></div><div class=\"news-link-right\"><span style=\"color:#aa6dc0;font-size:9px\"> TheStreet.com</span></div></div></td></tr>\n",
              " <tr><td align=\"right\" width=\"130\">02:55PM  </td><td align=\"left\"><div class=\"news-link-container\"><div class=\"news-link-left\"><a class=\"tab-link-news\" href=\"https://www.investors.com/research/options/meta-stock-may-be-ready-to-pause-why-this-butterfly-spread-trade-could-earn-20-percent/?src=A00220\" target=\"_blank\">Meta Stock May Be Ready To Pause; Why This Butterfly Spread Trade Could Earn 20%</a></div><div class=\"news-link-right\"><span style=\"color:#aa6dc0;font-size:9px\"> Investor's Business Daily</span></div></div></td></tr>\n",
              " <tr><td align=\"right\" width=\"130\">02:52PM  </td><td align=\"left\"><div class=\"news-link-container\"><div class=\"news-link-left\"><a class=\"tab-link-news\" href=\"https://finance.yahoo.com/news/metaverse-presents-half-a-trillion-dollar-opportunity-pro-shares-strategist-185227405.html\" target=\"_blank\">Metaverse presents half a trillion-dollar opportunity: ProShares strategist</a></div><div class=\"news-link-right\"><span style=\"color:#aa6dc0;font-size:9px\"> Yahoo Finance</span></div></div></td></tr>\n",
              " <tr><td align=\"right\" width=\"130\">02:40PM  </td><td align=\"left\"><div class=\"news-link-container\"><div class=\"news-link-left\"><a class=\"tab-link-news\" href=\"https://finance.yahoo.com/news/meta-enter-crypto-trading-metaverse-184042308.html\" target=\"_blank\">Meta to Enter Crypto With Trading and Metaverse Trademark Applications</a></div><div class=\"news-link-right\"><span style=\"color:#aa6dc0;font-size:9px\"> FX Empire</span></div></div></td></tr>\n",
              " <tr><td align=\"right\" width=\"130\">11:08AM  </td><td align=\"left\"><div class=\"news-link-container\"><div class=\"news-link-left\"><a class=\"tab-link-news\" href=\"https://finance.yahoo.com/news/instagram-allow-users-see-most-150832887.html\" target=\"_blank\">Instagram to Allow Users to See Most Recent Posts First</a></div><div class=\"news-link-right\"><span style=\"color:#aa6dc0;font-size:9px\"> Bloomberg</span></div></div></td></tr>\n",
              " <tr><td align=\"right\" width=\"130\">10:57AM  </td><td align=\"left\"><div class=\"news-link-container\"><div class=\"news-link-left\"><a class=\"tab-link-news\" href=\"https://www.bizjournals.com/portland/news/2022/03/23/pacificorp-vret.html?ana=yahoo\" target=\"_blank\">PacifiCorp plots new path to deliver green energy to big customers</a></div><div class=\"news-link-right\"><span style=\"color:#aa6dc0;font-size:9px\"> American City Business Journals</span></div></div></td></tr>\n",
              " <tr><td align=\"right\" width=\"130\">10:38AM  </td><td align=\"left\"><div class=\"news-link-container\"><div class=\"news-link-left\"><a class=\"tab-link-news\" href=\"https://www.investors.com/research/roblox-rblx-stock-buy-now/?src=A00220\" target=\"_blank\">Is Roblox Stock A Buy Right Now After Hitting All-Time Lows?</a></div><div class=\"news-link-right\"><span style=\"color:#aa6dc0;font-size:9px\"> Investor's Business Daily</span></div></div></td></tr>\n",
              " <tr><td align=\"right\" width=\"130\">07:15AM  </td><td align=\"left\"><div class=\"news-link-container\"><div class=\"news-link-left\"><a class=\"tab-link-news\" href=\"https://finance.yahoo.com/news/tencent-posts-slowest-growth-china-090259400.html\" target=\"_blank\">Tencent Declares Reckless Era for Tech Is Over as Growth Tanks</a></div><div class=\"news-link-right\"><span style=\"color:#aa6dc0;font-size:9px\"> Bloomberg</span></div></div></td></tr>\n",
              " <tr><td align=\"right\" style=\"white-space:nowrap\" width=\"130\">Mar-22-22 04:43PM  </td><td align=\"left\"><div class=\"news-link-container\"><div class=\"news-link-left\"><a class=\"tab-link-news\" href=\"https://finance.yahoo.com/news/facebook-parent-meta-completes-over-204308123.html\" target=\"_blank\">Facebook Parent Meta Completes Over Half of Recommended Civil Rights Measures</a></div><div class=\"news-link-right\"><span style=\"color:#aa6dc0;font-size:9px\"> Bloomberg</span></div></div></td></tr>\n",
              " <tr><td align=\"right\" width=\"130\">04:29PM  </td><td align=\"left\"><div class=\"news-link-container\"><div class=\"news-link-left\"><a class=\"tab-link-news\" href=\"https://finance.yahoo.com/video/yield-curve-scaring-bajeezus-most-202942956.html\" target=\"_blank\">The yield curve is scaring the bajeezus out of most investors, strategist says</a></div><div class=\"news-link-right\"><span style=\"color:#aa6dc0;font-size:9px\"> Yahoo Finance Video</span></div></div></td></tr>\n",
              " <tr><td align=\"right\" width=\"130\">03:47PM  </td><td align=\"left\"><div class=\"news-link-container\"><div class=\"news-link-left\"><a class=\"tab-link-news\" href=\"https://finance.yahoo.com/news/baby-bonds-market-friendly-tool-165025595.html\" target=\"_blank\">Ex-Atlanta Mayor Weighs Political Moves: Equality Summit Update</a></div><div class=\"news-link-right\"><span style=\"color:#aa6dc0;font-size:9px\"> Bloomberg</span></div></div></td></tr>\n",
              " <tr><td align=\"right\" width=\"130\">03:42PM  </td><td align=\"left\"><div class=\"news-link-container\"><div class=\"news-link-left\"><a class=\"tab-link-news\" href=\"https://finance.yahoo.com/video/block-stock-pops-carnival-cruise-194230738.html\" target=\"_blank\">Block stock pops, Carnival Cruise Line misses on earnings, Facebook users reportedly leave platform</a></div><div class=\"news-link-right\"><span style=\"color:#aa6dc0;font-size:9px\"> Yahoo Finance Video</span></div></div></td></tr>\n",
              " <tr><td align=\"right\" width=\"130\">03:26PM  </td><td align=\"left\"><div class=\"news-link-container\"><div class=\"news-link-left\"><a class=\"tab-link-news\" href=\"https://finance.yahoo.com/video/tech-companies-nimble-margins-amid-192605178.html\" target=\"_blank\">Tech companies have nimble margins amid inflation, strategist says</a></div><div class=\"news-link-right\"><span style=\"color:#aa6dc0;font-size:9px\"> Yahoo Finance Video</span></div></div></td></tr>\n",
              " <tr><td align=\"right\" width=\"130\">02:39PM  </td><td align=\"left\"><div class=\"news-link-container\"><div class=\"news-link-left\"><a class=\"tab-link-news\" href=\"https://finance.yahoo.com/news/facebook-continues-lose-user-time-183920313.html\" target=\"_blank\">Facebook Continues To Lose Out On User Time; Netherlands Data Center Plans Face Opposition</a></div><div class=\"news-link-right\"><span style=\"color:#aa6dc0;font-size:9px\"> Benzinga</span></div></div></td></tr>\n",
              " <tr><td align=\"right\" width=\"130\">12:36PM  </td><td align=\"left\"><div class=\"news-link-container\"><div class=\"news-link-left\"><a class=\"tab-link-news\" href=\"https://finance.yahoo.com/news/metas-plans-build-dutch-data-163654013.html\" target=\"_blank\">Meta's plans to build Dutch data centre hit political glitch</a></div><div class=\"news-link-right\"><span style=\"color:#aa6dc0;font-size:9px\"> Reuters</span></div></div></td></tr>\n",
              " <tr><td align=\"right\" width=\"130\">12:21PM  </td><td align=\"left\"><div class=\"news-link-container\"><div class=\"news-link-left\"><a class=\"tab-link-news\" href=\"https://finance.yahoo.com/news/youtube-risk-russia-ban-facebook-162102187.html\" target=\"_blank\">YouTube at Risk of Russia Ban After Facebook Deemed Illegal</a></div><div class=\"news-link-right\"><span style=\"color:#aa6dc0;font-size:9px\"> Bloomberg</span></div></div></td></tr>\n",
              " <tr><td align=\"right\" width=\"130\">11:42AM  </td><td align=\"left\"><div class=\"news-link-container\"><div class=\"news-link-left\"><a class=\"tab-link-news\" href=\"https://finance.yahoo.com/news/meta-mega-data-center-faces-154216673.html\" target=\"_blank\">Metas Mega Data Center Faces Pushback in the Netherlands</a></div><div class=\"news-link-right\"><span style=\"color:#aa6dc0;font-size:9px\"> Bloomberg</span></div></div></td></tr>\n",
              " <tr><td align=\"right\" width=\"130\">11:42AM  </td><td align=\"left\"><div class=\"news-link-container\"><div class=\"news-link-left\"><a class=\"tab-link-news\" href=\"https://finance.yahoo.com/news/meta-platforms-fb-sued-australian-154203607.html\" target=\"_blank\">Meta Platforms (FB) Sued by Australian Authorities Over Fake Ads</a></div><div class=\"news-link-right\"><span style=\"color:#aa6dc0;font-size:9px\"> Zacks</span></div></div></td></tr>\n",
              " <tr><td align=\"right\" width=\"130\">09:00AM  </td><td align=\"left\"><div class=\"news-link-container\"><div class=\"news-link-left\"><a class=\"tab-link-news\" href=\"https://finance.yahoo.com/news/tech-billionaires-rally-around-nuclear-130025676.html\" target=\"_blank\">Tech Billionaires Rally Around Nuclear as Energy Crisis Looms</a></div><div class=\"news-link-right\"><span style=\"color:#aa6dc0;font-size:9px\"> Bloomberg</span></div></div></td></tr>\n",
              " <tr><td align=\"right\" width=\"130\">05:00AM  </td><td align=\"left\"><div class=\"news-link-container\"><div class=\"news-link-left\"><a class=\"tab-link-news\" href=\"https://finance.yahoo.com/news/build-massive-facebook-audience-marketing-090000958.html\" target=\"_blank\">Build A Massive Facebook Audience With This Marketing Bundle</a></div><div class=\"news-link-right\"><span style=\"color:#aa6dc0;font-size:9px\"> Black Enterprise</span></div></div></td></tr>\n",
              " <tr><td align=\"right\" width=\"130\">01:43AM  </td><td align=\"left\"><div class=\"news-link-container\"><div class=\"news-link-left\"><a class=\"tab-link-news\" href=\"https://finance.yahoo.com/news/russia-court-bans-facebook-instagram-054351438.html\" target=\"_blank\">Russia court bans Facebook, Instagram for extremism  but spares WhatsApp</a></div><div class=\"news-link-right\"><span style=\"color:#aa6dc0;font-size:9px\"> The Independent</span></div></div></td></tr>\n",
              " <tr><td align=\"right\" width=\"130\">12:00AM  </td><td align=\"left\"><div class=\"news-link-container\"><div class=\"news-link-left\"><a class=\"tab-link-news\" href=\"https://finance.yahoo.com/news/roundhill-ball-metaverse-ucits-etf-040000982.html\" target=\"_blank\">Roundhill Ball Metaverse UCITS ETF (METV) Launches in Germany</a></div><div class=\"news-link-right\"><span style=\"color:#aa6dc0;font-size:9px\"> PR Newswire</span></div></div></td></tr>\n",
              " <tr><td align=\"right\" style=\"white-space:nowrap\" width=\"130\">Mar-21-22 11:52PM  </td><td align=\"left\"><div class=\"news-link-container\"><div class=\"news-link-left\"><a class=\"tab-link-news\" href=\"https://www.marketwatch.com/story/facebook-failed-to-detect-hate-speech-calls-to-violence-in-myanmar-report-finds-01647921139?siteid=yhoof2\" target=\"_blank\">Facebook failed to detect hate speech, calls to violence in Myanmar, report finds</a></div><div class=\"news-link-right\"><span style=\"color:#aa6dc0;font-size:9px\"> MarketWatch</span></div></div></td></tr>\n",
              " <tr><td align=\"right\" width=\"130\">04:24PM  </td><td align=\"left\"><div class=\"news-link-container\"><div class=\"news-link-left\"><a class=\"tab-link-news\" href=\"https://www.marketwatch.com/story/russian-court-bans-facebook-instagram-for-extremist-activities-01647894241?siteid=yhoof2\" target=\"_blank\">Russian court bans Facebook, Instagram for extremist activities</a></div><div class=\"news-link-right\"><span style=\"color:#aa6dc0;font-size:9px\"> MarketWatch</span></div></div></td></tr>\n",
              " <tr><td align=\"right\" width=\"130\">03:28PM  </td><td align=\"left\"><div class=\"news-link-container\"><div class=\"news-link-left\"><a class=\"tab-link-news\" href=\"https://www.marketwatch.com/story/mememarkets-meet-the-metaverse-etf-that-is-shorting-meta-11647890891?siteid=yhoof2\" target=\"_blank\">MemeMarkets: Meet the Metaverse ETF that is shorting Meta</a></div><div class=\"news-link-right\"><span style=\"color:#aa6dc0;font-size:9px\"> MarketWatch</span></div></div></td></tr>\n",
              " <tr><td align=\"right\" width=\"130\">03:24PM  </td><td align=\"left\"><div class=\"news-link-container\"><div class=\"news-link-left\"><a class=\"tab-link-news\" href=\"https://finance.yahoo.com/video/market-check-stocks-fall-oil-192426504.html\" target=\"_blank\">Market check: Stocks fall as oil extends gains</a></div><div class=\"news-link-right\"><span style=\"color:#aa6dc0;font-size:9px\"> Yahoo Finance Video</span></div></div></td></tr>\n",
              " <tr><td align=\"right\" width=\"130\">01:57PM  </td><td align=\"left\"><div class=\"news-link-container\"><div class=\"news-link-left\"><a class=\"tab-link-news\" href=\"https://finance.yahoo.com/news/facebook-sued-australian-watchdog-over-175742643.html\" target=\"_blank\">Facebook sued by Australian watchdog over fake celebrity ads</a></div><div class=\"news-link-right\"><span style=\"color:#aa6dc0;font-size:9px\"> The Independent</span></div></div></td></tr>\n",
              " <tr><td align=\"right\" width=\"130\">12:48PM  </td><td align=\"left\"><div class=\"news-link-container\"><div class=\"news-link-left\"><a class=\"tab-link-news\" href=\"https://qz.com/2144656/russia-bans-facebook-and-instagram-as-extremist-organizations/?utm_source=YPL\" target=\"_blank\">Russia imposes second ban on Facebook for extremist activity</a></div><div class=\"news-link-right\"><span style=\"color:#aa6dc0;font-size:9px\"> Quartz</span></div></div></td></tr>\n",
              " <tr><td align=\"right\" width=\"130\">12:16PM  </td><td align=\"left\"><div class=\"news-link-container\"><div class=\"news-link-left\"><a class=\"tab-link-news\" href=\"https://finance.yahoo.com/news/russia-bans-facebook-instagram-under-143907994.html\" target=\"_blank\">Russia Bans Facebook and Instagram Under Extremism Law</a></div><div class=\"news-link-right\"><span style=\"color:#aa6dc0;font-size:9px\"> Bloomberg</span></div></div></td></tr>\n",
              " <tr><td align=\"right\" width=\"130\">10:50AM  </td><td align=\"left\"><div class=\"news-link-container\"><div class=\"news-link-left\"><a class=\"tab-link-news\" href=\"https://finance.yahoo.com/video/meta-struggles-retain-talent-amid-145006394.html\" target=\"_blank\">Meta struggles to retain talent amid falling stock price</a></div><div class=\"news-link-right\"><span style=\"color:#aa6dc0;font-size:9px\"> Yahoo Finance Video</span></div></div></td></tr>\n",
              " <tr><td align=\"right\" width=\"130\">10:18AM  </td><td align=\"left\"><div class=\"news-link-container\"><div class=\"news-link-left\"><a class=\"tab-link-news\" href=\"https://finance.yahoo.com/news/russia-invasion-accelerating-splinternet-french-141846496.html\" target=\"_blank\">Russias Invasion Is Accelerating Splinternet, French Envoy Says</a></div><div class=\"news-link-right\"><span style=\"color:#aa6dc0;font-size:9px\"> Bloomberg</span></div></div></td></tr>\n",
              " <tr><td align=\"right\" width=\"130\">10:10AM  </td><td align=\"left\"><div class=\"news-link-container\"><div class=\"news-link-left\"><a class=\"tab-link-news\" href=\"https://finance.yahoo.com/news/josh-peck-describes-new-memoir-as-most-millennial-thing-i-could-ever-do-141030777.html\" target=\"_blank\">Josh Peck describes new memoir as 'most millennial thing I could ever do'</a></div><div class=\"news-link-right\"><span style=\"color:#aa6dc0;font-size:9px\"> Yahoo Finance</span></div></div></td></tr>\n",
              " <tr><td align=\"right\" width=\"130\">08:56AM  </td><td align=\"left\"><div class=\"news-link-container\"><div class=\"news-link-left\"><a class=\"tab-link-news\" href=\"https://www.fool.com/investing/2022/03/21/where-will-meta-platforms-be-in-3-years/?source=eptyholnk0000202&amp;utm_source=yahoo-host&amp;utm_medium=feed&amp;utm_campaign=article\" target=\"_blank\">Where Will Meta Platforms Be in 3 Years?</a></div><div class=\"news-link-right\"><span style=\"color:#aa6dc0;font-size:9px\"> Motley Fool</span></div></div></td></tr>\n",
              " <tr><td align=\"right\" width=\"130\">08:51AM  </td><td align=\"left\"><div class=\"news-link-container\"><div class=\"news-link-left\"><a class=\"tab-link-news\" href=\"https://finance.yahoo.com/news/meta-platforms-fb-still-worthy-125111610.html\" target=\"_blank\">Is Meta Platforms (FB) Still a Worthy Investment Choice?</a></div><div class=\"news-link-right\"><span style=\"color:#aa6dc0;font-size:9px\"> Insider Monkey</span></div></div></td></tr>\n",
              " <tr><td align=\"right\" width=\"130\">08:41AM  </td><td align=\"left\"><div class=\"news-link-container\"><div class=\"news-link-left\"><a class=\"tab-link-news\" href=\"https://finance.yahoo.com/news/still-safe-own-meta-platforms-124145381.html\" target=\"_blank\">Is it Still Safe to Own Meta Platforms (FB) Shares?</a></div><div class=\"news-link-right\"><span style=\"color:#aa6dc0;font-size:9px\"> Insider Monkey</span></div></div></td></tr>\n",
              " <tr><td align=\"right\" width=\"130\">08:14AM  </td><td align=\"left\"><div class=\"news-link-container\"><div class=\"news-link-left\"><a class=\"tab-link-news\" href=\"https://www.ft.com/cms/s/1e89831e-b7d7-40a3-8312-698ace01a1f4,s01=1.html?ftcamp=traffic/partner/feed_headline/us_yahoo/auddev\" target=\"_blank\">Digital advertising: companies reliant on behavioural technology need new workarounds</a></div><div class=\"news-link-right\"><span style=\"color:#aa6dc0;font-size:9px\"> Financial Times</span></div></div></td></tr>\n",
              " <tr><td align=\"right\" width=\"130\">08:00AM  </td><td align=\"left\"><div class=\"news-link-container\"><div class=\"news-link-left\"><a class=\"tab-link-news\" href=\"https://www.investors.com/etfs-and-funds/sectors/sp500-dip-buyers-are-making-money-on-battered-stocks-for-now/?src=A00220\" target=\"_blank\">'Dip Buyers' Make Big Money On 10 Bouncing Stocks (For Now)</a></div><div class=\"news-link-right\"><span style=\"color:#aa6dc0;font-size:9px\"> Investor's Business Daily</span></div></div></td></tr>\n",
              " <tr><td align=\"right\" width=\"130\">07:50AM  </td><td align=\"left\"><div class=\"news-link-container\"><div class=\"news-link-left\"><a class=\"tab-link-news\" href=\"https://finance.yahoo.com/news/1-russian-court-rejects-meta-115043289.html\" target=\"_blank\">UPDATE 4-Russia finds Meta guilty of 'extremist activity', says WhatsApp can stay</a></div><div class=\"news-link-right\"><span style=\"color:#aa6dc0;font-size:9px\"> Reuters</span></div></div></td></tr>\n",
              " <tr><td align=\"right\" width=\"130\">05:06AM  </td><td align=\"left\"><div class=\"news-link-container\"><div class=\"news-link-left\"><a class=\"tab-link-news\" href=\"https://www.fool.com/investing/2022/03/21/10-stocks-ive-bought-during-the-market-sell-off/?source=eptyholnk0000202&amp;utm_source=yahoo-host&amp;utm_medium=feed&amp;utm_campaign=article\" target=\"_blank\">10 Stocks I've Bought During the Market Sell-Off</a></div><div class=\"news-link-right\"><span style=\"color:#aa6dc0;font-size:9px\"> Motley Fool</span></div></div></td></tr>\n",
              " <tr><td align=\"right\" width=\"130\">04:49AM  </td><td align=\"left\"><div class=\"news-link-container\"><div class=\"news-link-left\"><a class=\"tab-link-news\" href=\"https://finance.yahoo.com/news/meta-asks-russian-court-dismiss-084951260.html\" target=\"_blank\">Russia labels Meta an 'extremist organisation', says WhatsApp can stay</a></div><div class=\"news-link-right\"><span style=\"color:#aa6dc0;font-size:9px\"> Reuters</span></div></div></td></tr>\n",
              " <tr><td align=\"right\" width=\"130\">04:16AM  </td><td align=\"left\"><div class=\"news-link-container\"><div class=\"news-link-left\"><a class=\"tab-link-news\" href=\"https://finance.yahoo.com/news/meta-asks-russian-court-dismiss-081610865.html\" target=\"_blank\">Meta asks Russian court to dismiss proceedings in 'extremism' case - reports</a></div><div class=\"news-link-right\"><span style=\"color:#aa6dc0;font-size:9px\"> Reuters</span></div></div></td></tr>\n",
              " <tr><td align=\"right\" style=\"white-space:nowrap\" width=\"130\">Mar-20-22 09:18AM  </td><td align=\"left\"><div class=\"news-link-container\"><div class=\"news-link-left\"><a class=\"tab-link-news\" href=\"https://finance.yahoo.com/news/instagram-finally-has-parental-controls-heres-how-to-use-them-131809536.html\" target=\"_blank\">Instagram finally has parental controls. Heres how to use them</a></div><div class=\"news-link-right\"><span style=\"color:#aa6dc0;font-size:9px\"> Yahoo Finance</span></div></div></td></tr>\n",
              " <tr><td align=\"right\" width=\"130\">07:00AM  </td><td align=\"left\"><div class=\"news-link-container\"><div class=\"news-link-left\"><a class=\"tab-link-news\" href=\"https://www.fool.com/investing/2022/03/20/3-stocks-to-buy-before-they-skyrocket-again/?source=eptyholnk0000202&amp;utm_source=yahoo-host&amp;utm_medium=feed&amp;utm_campaign=article\" target=\"_blank\">3 Stocks to Buy Before They Skyrocket Again</a></div><div class=\"news-link-right\"><span style=\"color:#aa6dc0;font-size:9px\"> Motley Fool</span></div></div></td></tr>\n",
              " <tr><td align=\"right\" width=\"130\">06:30AM  </td><td align=\"left\"><div class=\"news-link-container\"><div class=\"news-link-left\"><a class=\"tab-link-news\" href=\"https://www.fool.com/investing/2022/03/20/meta-platforms-facebook-bull-vs-bear/?source=eptyholnk0000202&amp;utm_source=yahoo-host&amp;utm_medium=feed&amp;utm_campaign=article\" target=\"_blank\">Meta Platforms Stock: Bear vs. Bull</a></div><div class=\"news-link-right\"><span style=\"color:#aa6dc0;font-size:9px\"> Motley Fool</span></div></div></td></tr>\n",
              " <tr><td align=\"right\" style=\"white-space:nowrap\" width=\"130\">Mar-19-22 07:11PM  </td><td align=\"left\"><div class=\"news-link-container\"><div class=\"news-link-left\"><a class=\"tab-link-news\" href=\"https://finance.yahoo.com/news/brazil-bans-telegram-messaging-crackdown-231158650.html\" target=\"_blank\">Brazil Bans Telegram Messaging Service in Crackdown on Fake News</a></div><div class=\"news-link-right\"><span style=\"color:#aa6dc0;font-size:9px\"> Bloomberg</span></div></div></td></tr>\n",
              " <tr><td align=\"right\" width=\"130\">09:00AM  </td><td align=\"left\"><div class=\"news-link-container\"><div class=\"news-link-left\"><a class=\"tab-link-news\" href=\"https://www.fool.com/investing/2022/03/19/better-buy-meta-platforms-vs-nvidia/?source=eptyholnk0000202&amp;utm_source=yahoo-host&amp;utm_medium=feed&amp;utm_campaign=article\" target=\"_blank\">Better Buy: Meta Platforms vs. Nvidia</a></div><div class=\"news-link-right\"><span style=\"color:#aa6dc0;font-size:9px\"> Motley Fool</span></div></div></td></tr>\n",
              " <tr><td align=\"right\" width=\"130\">07:15AM  </td><td align=\"left\"><div class=\"news-link-container\"><div class=\"news-link-left\"><a class=\"tab-link-news\" href=\"https://www.fool.com/investing/2022/03/19/beyond-stock-splits-and-interest-rates-3-beaten-do/?source=eptyholnk0000202&amp;utm_source=yahoo-host&amp;utm_medium=feed&amp;utm_campaign=article\" target=\"_blank\">Beyond Stock Splits and Interest Rates: 3 Beaten-Down Growth Stocks to Buy Right Now</a></div><div class=\"news-link-right\"><span style=\"color:#aa6dc0;font-size:9px\"> Motley Fool</span></div></div></td></tr>\n",
              " <tr><td align=\"right\" width=\"130\">05:57AM  </td><td align=\"left\"><div class=\"news-link-container\"><div class=\"news-link-left\"><a class=\"tab-link-news\" href=\"https://www.fool.com/investing/2022/03/19/2-metaverse-stocks-that-could-double/?source=eptyholnk0000202&amp;utm_source=yahoo-host&amp;utm_medium=feed&amp;utm_campaign=article\" target=\"_blank\">2 Metaverse Stocks That Could Double, According to Wall Street</a></div><div class=\"news-link-right\"><span style=\"color:#aa6dc0;font-size:9px\"> Motley Fool</span></div></div></td></tr>\n",
              " <tr><td align=\"right\" style=\"white-space:nowrap\" width=\"130\">Mar-18-22 07:02PM  </td><td align=\"left\"><div class=\"news-link-container\"><div class=\"news-link-left\"><a class=\"tab-link-news\" href=\"https://www.barrons.com/articles/twitter-facebook-stock-51647644430?siteid=yhoof2\" target=\"_blank\">Facebook Is Still Struggling. TikTok Wont Be the Only Beneficiary.</a></div><div class=\"news-link-right\"><span style=\"color:#aa6dc0;font-size:9px\"> Barrons.com</span></div></div></td></tr>\n",
              " <tr><td align=\"right\" width=\"130\">04:40PM  </td><td align=\"left\"><div class=\"news-link-container\"><div class=\"news-link-left\"><a class=\"tab-link-news\" href=\"https://finance.yahoo.com/video/russian-copycats-stealing-intellectual-property-204053241.html\" target=\"_blank\">Russian copycats are stealing intellectual property of American brands</a></div><div class=\"news-link-right\"><span style=\"color:#aa6dc0;font-size:9px\"> Yahoo Finance Video</span></div></div></td></tr>\n",
              " <tr><td align=\"right\" width=\"130\">03:18PM  </td><td align=\"left\"><div class=\"news-link-container\"><div class=\"news-link-left\"><a class=\"tab-link-news\" href=\"https://finance.yahoo.com/video/stocks-turn-positive-end-week-191858576.html\" target=\"_blank\">Stocks turn positive to end the week, led by megacap sectors</a></div><div class=\"news-link-right\"><span style=\"color:#aa6dc0;font-size:9px\"> Yahoo Finance Video</span></div></div></td></tr>\n",
              " <tr><td align=\"right\" width=\"130\">01:45PM  </td><td align=\"left\"><div class=\"news-link-container\"><div class=\"news-link-left\"><a class=\"tab-link-news\" href=\"https://finance.yahoo.com/news/mc-donalds-starbucks-and-others-have-no-recourse-for-stolen-ip-in-russia-174530523.html\" target=\"_blank\">McDonald's, Starbucks, and others have no recourse for stolen trademarks in Russia</a></div><div class=\"news-link-right\"><span style=\"color:#aa6dc0;font-size:9px\"> Yahoo Finance</span></div></div></td></tr>\n",
              " <tr><td align=\"right\" width=\"130\">12:00PM  </td><td align=\"left\"><div class=\"news-link-container\"><div class=\"news-link-left\"><a class=\"tab-link-news\" href=\"https://finance.yahoo.com/video/instagram-users-targeted-rich-quick-160046077.html\" target=\"_blank\">Instagram users targeted for get-rich-quick investment scams</a></div><div class=\"news-link-right\"><span style=\"color:#aa6dc0;font-size:9px\"> Yahoo Finance Video</span></div></div></td></tr>\n",
              " <tr><td align=\"right\" width=\"130\">11:54AM  </td><td align=\"left\"><div class=\"news-link-container\"><div class=\"news-link-left\"><a class=\"tab-link-news\" href=\"https://finance.yahoo.com/video/instagram-releases-parental-supervisory-tools-155417776.html\" target=\"_blank\">Instagram releases new parental supervisory tools: What to know</a></div><div class=\"news-link-right\"><span style=\"color:#aa6dc0;font-size:9px\"> Yahoo Finance Video</span></div></div></td></tr>\n",
              " <tr><td align=\"right\" width=\"130\">10:56AM  </td><td align=\"left\"><div class=\"news-link-container\"><div class=\"news-link-left\"><a class=\"tab-link-news\" href=\"https://www.investors.com/research/warren-buffett-stocks-investing-strategy-stock-screen/?src=A00220\" target=\"_blank\">Warren Buffett Stocks: Alphabet, Microsoft Among 26 Stocks On This Screen</a></div><div class=\"news-link-right\"><span style=\"color:#aa6dc0;font-size:9px\"> Investor's Business Daily</span></div></div></td></tr>\n",
              " <tr><td align=\"right\" width=\"130\">10:24AM  </td><td align=\"left\"><div class=\"news-link-container\"><div class=\"news-link-left\"><a class=\"tab-link-news\" href=\"https://finance.yahoo.com/news/meta-fb-introduces-parental-supervision-142402272.html\" target=\"_blank\">Meta (FB) Introduces Parental Supervision in Instagram and VR</a></div><div class=\"news-link-right\"><span style=\"color:#aa6dc0;font-size:9px\"> Zacks</span></div></div></td></tr>\n",
              " <tr><td align=\"right\" width=\"130\">10:02AM  </td><td align=\"left\"><div class=\"news-link-container\"><div class=\"news-link-left\"><a class=\"tab-link-news\" href=\"https://finance.yahoo.com/news/alphabet-googl-boost-ar-efforts-140202904.html\" target=\"_blank\">Alphabet (GOOGL) to Boost AR Efforts With Raxium Acquisition</a></div><div class=\"news-link-right\"><span style=\"color:#aa6dc0;font-size:9px\"> Zacks</span></div></div></td></tr>\n",
              " <tr><td align=\"right\" width=\"130\">09:00AM  </td><td align=\"left\"><div class=\"news-link-container\"><div class=\"news-link-left\"><a class=\"tab-link-news\" href=\"https://finance.yahoo.com/news/semiconductor-meta-platforms-highlighted-zacks-130001467.html\" target=\"_blank\">ON Semiconductor and Meta Platforms have been highlighted as Zacks Bull and Bear of the Day</a></div><div class=\"news-link-right\"><span style=\"color:#aa6dc0;font-size:9px\"> Zacks</span></div></div></td></tr>\n",
              " <tr><td align=\"right\" width=\"130\">05:00AM  </td><td align=\"left\"><div class=\"news-link-container\"><div class=\"news-link-left\"><a class=\"tab-link-news\" href=\"https://finance.yahoo.com/news/bear-day-meta-platforms-inc-090009497.html\" target=\"_blank\">Bear of the Day: Meta Platforms, Inc. (FB)</a></div><div class=\"news-link-right\"><span style=\"color:#aa6dc0;font-size:9px\"> Zacks</span></div></div></td></tr>\n",
              " <tr><td align=\"right\" width=\"130\">01:35AM  </td><td align=\"left\"><div class=\"news-link-container\"><div class=\"news-link-left\"><a class=\"tab-link-news\" href=\"https://www.ft.com/cms/s/132c7877-bd74-4957-925b-414f12ec6aa4,s01=1.html?ftcamp=traffic/partner/feed_headline/us_yahoo/auddev\" target=\"_blank\">Meta sued by Australian regulator for allegedly misleading crypto ads</a></div><div class=\"news-link-right\"><span style=\"color:#aa6dc0;font-size:9px\"> Financial Times</span></div></div></td></tr>\n",
              " <tr><td align=\"right\" style=\"white-space:nowrap\" width=\"130\">Mar-17-22 08:00PM  </td><td align=\"left\"><div class=\"news-link-container\"><div class=\"news-link-left\"><a class=\"tab-link-news\" href=\"https://finance.yahoo.com/news/meta-sued-australian-watchdog-over-000032682.html\" target=\"_blank\">Meta Sued by Australian Watchdog Over Scam Crypto Advertisements</a></div><div class=\"news-link-right\"><span style=\"color:#aa6dc0;font-size:9px\"> Bloomberg</span></div></div></td></tr>\n",
              " <tr><td align=\"right\" width=\"130\">07:41PM  </td><td align=\"left\"><div class=\"news-link-container\"><div class=\"news-link-left\"><a class=\"tab-link-news\" href=\"https://finance.yahoo.com/news/australia-watchdog-sues-facebook-owner-234115448.html\" target=\"_blank\">Australian watchdog sues Facebook-owner Meta over scam advertisements</a></div><div class=\"news-link-right\"><span style=\"color:#aa6dc0;font-size:9px\"> Reuters</span></div></div></td></tr>\n",
              " <tr><td align=\"right\" width=\"130\">07:35PM  </td><td align=\"left\"><div class=\"news-link-container\"><div class=\"news-link-left\"><a class=\"tab-link-news\" href=\"https://finance.yahoo.com/news/1-australia-watchdog-sues-facebook-233544866.html\" target=\"_blank\">UPDATE 2-Australian watchdog sues Facebook-owner Meta over scam advertisements</a></div><div class=\"news-link-right\"><span style=\"color:#aa6dc0;font-size:9px\"> Reuters</span></div></div></td></tr>\n",
              " </table>}"
            ]
          },
          "metadata": {},
          "execution_count": 14
        }
      ]
    },
    {
      "cell_type": "code",
      "source": [
        "parsed_data = []\n",
        "\n",
        "for ticker, news_table in news_tables.items():\n",
        "\n",
        "    for row in news_table.findAll('tr'):\n",
        "\n",
        "        title = row.a.text\n",
        "        date_data = row.td.text.split(' ')\n",
        "\n",
        "        if len(date_data) == 1:\n",
        "            time = date_data[0]\n",
        "        else:\n",
        "            date = date_data[0]\n",
        "            time = date_data[1]\n",
        "\n",
        "        parsed_data.append([ticker, date, time, title])"
      ],
      "metadata": {
        "id": "_L_8W3BnqwHi"
      },
      "execution_count": null,
      "outputs": []
    },
    {
      "cell_type": "code",
      "source": [
        "\n",
        "parsed_data[0]"
      ],
      "metadata": {
        "colab": {
          "base_uri": "https://localhost:8080/"
        },
        "id": "X7qqyQsdrbMz",
        "outputId": "29eb15ba-85b0-482d-9b4c-ecc8cd93b305"
      },
      "execution_count": null,
      "outputs": [
        {
          "output_type": "execute_result",
          "data": {
            "text/plain": [
              "['FB',\n",
              " 'Mar-25-22',\n",
              " '03:01PM\\xa0\\xa0',\n",
              " 'Europes new Big Tech law could actually produce results, like iMessage and Facebook Messenger playing nicely and big-money fines']"
            ]
          },
          "metadata": {},
          "execution_count": 16
        }
      ]
    },
    {
      "cell_type": "code",
      "source": [
        "import nltk\n",
        "nltk.download('vader_lexicon')\n",
        "  "
      ],
      "metadata": {
        "colab": {
          "base_uri": "https://localhost:8080/"
        },
        "id": "2VVDb2k0rKDP",
        "outputId": "502cfc6f-9f94-41ce-a06a-cf0519da7bd3"
      },
      "execution_count": null,
      "outputs": [
        {
          "output_type": "stream",
          "name": "stdout",
          "text": [
            "[nltk_data] Downloading package vader_lexicon to /root/nltk_data...\n",
            "[nltk_data]   Package vader_lexicon is already up-to-date!\n"
          ]
        },
        {
          "output_type": "execute_result",
          "data": {
            "text/plain": [
              "True"
            ]
          },
          "metadata": {},
          "execution_count": 17
        }
      ]
    },
    {
      "cell_type": "code",
      "source": [
        "df = pd.DataFrame(parsed_data, columns=['ticker', 'date', 'time', 'title'])\n",
        "\n",
        "vader = SentimentIntensityAnalyzer()\n",
        "\n"
      ],
      "metadata": {
        "id": "g4LXAQfhq05R"
      },
      "execution_count": null,
      "outputs": []
    },
    {
      "cell_type": "code",
      "source": [
        "print(df)"
      ],
      "metadata": {
        "colab": {
          "base_uri": "https://localhost:8080/"
        },
        "id": "Ae6iIvZmrN1w",
        "outputId": "1b868513-6204-4c91-a0c5-8d21e4f3c44c"
      },
      "execution_count": null,
      "outputs": [
        {
          "output_type": "stream",
          "name": "stdout",
          "text": [
            "   ticker       date       time  \\\n",
            "0      FB  Mar-25-22  03:01PM     \n",
            "1      FB  Mar-25-22  02:47PM     \n",
            "2      FB  Mar-25-22  01:30PM     \n",
            "3      FB  Mar-25-22  12:25PM     \n",
            "4      FB  Mar-25-22  12:01PM     \n",
            "..    ...        ...        ...   \n",
            "95     FB  Mar-18-22  05:00AM     \n",
            "96     FB  Mar-18-22  01:35AM     \n",
            "97     FB  Mar-17-22  08:00PM     \n",
            "98     FB  Mar-17-22  07:41PM     \n",
            "99     FB  Mar-17-22  07:35PM     \n",
            "\n",
            "                                                title  \n",
            "0   Europes new Big Tech law could actually produc...  \n",
            "1   Apple Pays Another Round of Rare $200,000 Bonu...  \n",
            "2   Big Tech Blackout Set to Be Averted With EU-U....  \n",
            "3   Meta (FB) Steps Forward in Metaverse With VNTA...  \n",
            "4     U.S. Tech Giants Face Tough New Rules in Europe  \n",
            "..                                                ...  \n",
            "95         Bear of the Day: Meta Platforms, Inc. (FB)  \n",
            "96  Meta sued by Australian regulator for allegedl...  \n",
            "97  Meta Sued by Australian Watchdog Over Scam Cry...  \n",
            "98  Australian watchdog sues Facebook-owner Meta o...  \n",
            "99  UPDATE 2-Australian watchdog sues Facebook-own...  \n",
            "\n",
            "[100 rows x 4 columns]\n"
          ]
        }
      ]
    },
    {
      "cell_type": "code",
      "source": [
        "f = lambda title: vader.polarity_scores(title)['compound']\n",
        "df['compound'] = df['title'].apply(f)\n",
        "df['date'] = pd.to_datetime(df.date).dt.date"
      ],
      "metadata": {
        "id": "GvXB4fVOfyG4"
      },
      "execution_count": null,
      "outputs": []
    },
    {
      "cell_type": "code",
      "source": [
        "print(df)"
      ],
      "metadata": {
        "colab": {
          "base_uri": "https://localhost:8080/"
        },
        "id": "QLy0Qs7WfzgE",
        "outputId": "3d9511b7-5e33-4987-feea-7060ee4a47d0"
      },
      "execution_count": null,
      "outputs": [
        {
          "output_type": "stream",
          "name": "stdout",
          "text": [
            "   ticker        date       time  \\\n",
            "0      FB  2022-03-25  03:01PM     \n",
            "1      FB  2022-03-25  02:47PM     \n",
            "2      FB  2022-03-25  01:30PM     \n",
            "3      FB  2022-03-25  12:25PM     \n",
            "4      FB  2022-03-25  12:01PM     \n",
            "..    ...         ...        ...   \n",
            "95     FB  2022-03-18  05:00AM     \n",
            "96     FB  2022-03-18  01:35AM     \n",
            "97     FB  2022-03-17  08:00PM     \n",
            "98     FB  2022-03-17  07:41PM     \n",
            "99     FB  2022-03-17  07:35PM     \n",
            "\n",
            "                                                title  compound  \n",
            "0   Europes new Big Tech law could actually produc...    0.7351  \n",
            "1   Apple Pays Another Round of Rare $200,000 Bonu...    0.5574  \n",
            "2   Big Tech Blackout Set to Be Averted With EU-U....   -0.0772  \n",
            "3   Meta (FB) Steps Forward in Metaverse With VNTA...    0.0000  \n",
            "4     U.S. Tech Giants Face Tough New Rules in Europe   -0.1280  \n",
            "..                                                ...       ...  \n",
            "95         Bear of the Day: Meta Platforms, Inc. (FB)    0.0000  \n",
            "96  Meta sued by Australian regulator for allegedl...   -0.4019  \n",
            "97  Meta Sued by Australian Watchdog Over Scam Cry...   -0.5719  \n",
            "98  Australian watchdog sues Facebook-owner Meta o...   -0.5719  \n",
            "99  UPDATE 2-Australian watchdog sues Facebook-own...   -0.5719  \n",
            "\n",
            "[100 rows x 5 columns]\n"
          ]
        }
      ]
    },
    {
      "cell_type": "code",
      "source": [
        "plt.figure(figsize=(15,4))\n",
        "mean_df = df.groupby(['ticker', 'date']).mean().unstack()\n",
        "mean_df = mean_df.xs('compound', axis=\"columns\")\n",
        "mean_df.plot(kind='bar')\n",
        "plt.show()"
      ],
      "metadata": {
        "colab": {
          "base_uri": "https://localhost:8080/",
          "height": 299
        },
        "id": "q4vwlqmSq1v2",
        "outputId": "a5e92856-7501-495b-de9c-745b61f3645b"
      },
      "execution_count": null,
      "outputs": [
        {
          "output_type": "display_data",
          "data": {
            "text/plain": [
              "<Figure size 1080x288 with 0 Axes>"
            ]
          },
          "metadata": {}
        },
        {
          "output_type": "display_data",
          "data": {
            "text/plain": [
              "<Figure size 432x288 with 1 Axes>"
            ],
            "image/png": "[encoded data removed]"
          },
          "metadata": {
            "needs_background": "light"
          }
        }
      ]
    },
    {
      "cell_type": "code",
      "source": [
        ""
      ],
      "metadata": {
        "id": "ZPKQXSe7iofh"
      },
      "execution_count": null,
      "outputs": []
    },
    {
      "cell_type": "code",
      "source": [
        "pip install sweetviz"
      ],
      "metadata": {
        "colab": {
          "base_uri": "https://localhost:8080/"
        },
        "id": "x90arbPte5y7",
        "outputId": "504c64b5-f32a-41fd-b2e4-f84b6fb6d6c0"
      },
      "execution_count": null,
      "outputs": [
        {
          "output_type": "stream",
          "name": "stdout",
          "text": [
            "Collecting sweetviz\n",
            "  Downloading sweetviz-2.1.3-py3-none-any.whl (15.1 MB)\n",
            "\u001b[K     |████████████████████████████████| 15.1 MB 4.3 MB/s \n",
            "\u001b[?25hRequirement already satisfied: pandas!=1.0.0,!=1.0.1,!=1.0.2,>=0.25.3 in /usr/local/lib/python3.7/dist-packages (from sweetviz) (1.3.5)\n",
            "Requirement already satisfied: numpy>=1.16.0 in /usr/local/lib/python3.7/dist-packages (from sweetviz) (1.21.5)\n",
            "Requirement already satisfied: tqdm>=4.43.0 in /usr/local/lib/python3.7/dist-packages (from sweetviz) (4.63.0)\n",
            "Requirement already satisfied: matplotlib>=3.1.3 in /usr/local/lib/python3.7/dist-packages (from sweetviz) (3.2.2)\n",
            "Requirement already satisfied: importlib-resources>=1.2.0 in /usr/local/lib/python3.7/dist-packages (from sweetviz) (5.4.0)\n",
            "Requirement already satisfied: scipy>=1.3.2 in /usr/local/lib/python3.7/dist-packages (from sweetviz) (1.4.1)\n",
            "Requirement already satisfied: jinja2>=2.11.1 in /usr/local/lib/python3.7/dist-packages (from sweetviz) (2.11.3)\n",
            "Requirement already satisfied: zipp>=3.1.0 in /usr/local/lib/python3.7/dist-packages (from importlib-resources>=1.2.0->sweetviz) (3.7.0)\n",
            "Requirement already satisfied: MarkupSafe>=0.23 in /usr/local/lib/python3.7/dist-packages (from jinja2>=2.11.1->sweetviz) (2.0.1)\n",
            "Requirement already satisfied: pyparsing!=2.0.4,!=2.1.2,!=2.1.6,>=2.0.1 in /usr/local/lib/python3.7/dist-packages (from matplotlib>=3.1.3->sweetviz) (3.0.7)\n",
            "Requirement already satisfied: python-dateutil>=2.1 in /usr/local/lib/python3.7/dist-packages (from matplotlib>=3.1.3->sweetviz) (2.8.2)\n",
            "Requirement already satisfied: cycler>=0.10 in /usr/local/lib/python3.7/dist-packages (from matplotlib>=3.1.3->sweetviz) (0.11.0)\n",
            "Requirement already satisfied: kiwisolver>=1.0.1 in /usr/local/lib/python3.7/dist-packages (from matplotlib>=3.1.3->sweetviz) (1.4.0)\n",
            "Requirement already satisfied: typing-extensions in /usr/local/lib/python3.7/dist-packages (from kiwisolver>=1.0.1->matplotlib>=3.1.3->sweetviz) (3.10.0.2)\n",
            "Requirement already satisfied: pytz>=2017.3 in /usr/local/lib/python3.7/dist-packages (from pandas!=1.0.0,!=1.0.1,!=1.0.2,>=0.25.3->sweetviz) (2018.9)\n",
            "Requirement already satisfied: six>=1.5 in /usr/local/lib/python3.7/dist-packages (from python-dateutil>=2.1->matplotlib>=3.1.3->sweetviz) (1.15.0)\n",
            "Installing collected packages: sweetviz\n",
            "Successfully installed sweetviz-2.1.3\n"
          ]
        }
      ]
    },
    {
      "cell_type": "code",
      "source": [
        "import sweetviz "
      ],
      "metadata": {
        "id": "EtgwAnO5hHKU"
      },
      "execution_count": null,
      "outputs": []
    },
    {
      "cell_type": "code",
      "source": [
        "my_report = sweetviz.analyze([df, \"EDA\"])"
      ],
      "metadata": {
        "colab": {
          "base_uri": "https://localhost:8080/",
          "height": 49,
          "referenced_widgets": [
            "b9f1d5ca3beb4371bcf56c82f3c6f4af",
            "691a793b6bdc418195c84b94dd823e5c",
            "da9b54670b284cecb9b2b034b7b85fb1",
            "32f86d5cd4a446a7a1ae5541686f9709",
            "80bbcd1659cb4f37be56ea670942abea",
            "cbe610183b6246cd8d4a5408d0d35f05",
            "d8d115428d9447688d780e1c43da0bcc",
            "7d2556ec03974ffab514fbf57fe30050",
            "b91fe56ab9ed4ea1aa61b95d4c1af0cc",
            "16fc580490e94a29a05b628f839ac271",
            "d9ddc8e52a4f4cffae2cbab741d615db"
          ]
        },
        "id": "YSqIrzKRe48Y",
        "outputId": "e780c699-4909-4498-d2df-1c659402cc5d"
      },
      "execution_count": null,
      "outputs": [
        {
          "output_type": "display_data",
          "data": {
            "text/plain": [
              "                                             |          | [  0%]   00:00 -> (? left)"
            ],
            "application/vnd.jupyter.widget-view+json": {
              "version_major": 2,
              "version_minor": 0,
              "model_id": "b9f1d5ca3beb4371bcf56c82f3c6f4af"
            }
          },
          "metadata": {}
        }
      ]
    },
    {
      "cell_type": "code",
      "source": [
        "my_report.show_html('Report.html')"
      ],
      "metadata": {
        "colab": {
          "base_uri": "https://localhost:8080/"
        },
        "id": "kdFPXxVQhZgH",
        "outputId": "792e4793-dafe-44e0-b3ca-7c3cdaad254b"
      },
      "execution_count": null,
      "outputs": [
        {
          "output_type": "stream",
          "name": "stdout",
          "text": [
            "Report Report.html was generated! NOTEBOOK/COLAB USERS: the web browser MAY not pop up, regardless, the report IS saved in your notebook/colab files.\n"
          ]
        }
      ]
    },
    {
      "cell_type": "code",
      "source": [
        "\"\"\"import pandas as py\n",
        "import numpy as np\n",
        "from bs4 import BeautifulSoup as soup\n",
        "from urllib.request import Request, urlopen\n",
        "\n",
        "pd.set_option('display.max_colwidth', 25)\n",
        "\n",
        "# Input\n",
        "symbol = input('Enter a ticker: ')\n",
        "print ('Getting data for ' + symbol + '...\\n')\n",
        "\n",
        "# Set up scraper\n",
        "url = (\"http://finviz.com/quote.ashx?t=\" + symbol.lower())\n",
        "req = Request(url, headers={'User-Agent': 'Mozilla/5.0'})\n",
        "webpage = urlopen(req).read()\n",
        "html = soup(webpage, \"html.parser\")\n",
        "\n",
        "def get_fundamentals():\n",
        "    try:\n",
        "        # Find fundamentals table\n",
        "        fundamentals = pd.read_html(str(html), attrs = {'class': 'snapshot-table2'})[0]\n",
        "        \n",
        "        # Clean up fundamentals dataframe\n",
        "        fundamentals.columns = ['0', '1', '2', '3', '4', '5', '6', '7', '8', '9', '10', '11']\n",
        "        colOne = []\n",
        "        colLength = len(fundamentals)\n",
        "        for k in np.arange(0, colLength, 2):\n",
        "            colOne.append(fundamentals[f'{k}'])\n",
        "        attrs = pd.concat(colOne, ignore_index=True)\n",
        "    \n",
        "        colTwo = []\n",
        "        colLength = len(fundamentals)\n",
        "        for k in np.arange(1, colLength, 2):\n",
        "            colTwo.append(fundamentals[f'{k}'])\n",
        "        vals = pd.concat(colTwo, ignore_index=True)\n",
        "        \n",
        "        fundamentals = pd.DataFrame()\n",
        "        fundamentals['Attributes'] = attrs\n",
        "        fundamentals['Values'] = vals\n",
        "        fundamentals = fundamentals.set_index('Attributes')\n",
        "        return fundamentals\n",
        "\n",
        "    except Exception as e:\n",
        "        return e\n",
        "    \n",
        "def get_news():\n",
        "    try:\n",
        "        # Find news table\n",
        "        news = pd.read_html(str(html), attrs = {'class': 'fullview-news-outer'})[0]\n",
        "        links = []\n",
        "        for a in html.find_all('a', class_=\"tab-link-news\"):\n",
        "            links.append(a['href'])\n",
        "        \n",
        "        # Clean up news dataframe\n",
        "        news.columns = ['Date', 'News Headline']\n",
        "        news['Article Link'] = links\n",
        "        news = news.set_index('Date')\n",
        "        return news\n",
        "\n",
        "    except Exception as e:\n",
        "        return e\n",
        "print ('Fundamental Ratios: ')\n",
        "print(get_fundamentals())\n",
        "\n",
        "print ('\\nRecent News: ')\n",
        "print(get_news())\n",
        "\n",
        "print ('\\nRecent Insider Trades: ')\n",
        "print(get_insider())\"\"\"       "
      ],
      "metadata": {
        "colab": {
          "base_uri": "https://localhost:8080/"
        },
        "id": "Ga-jcxSqsbQh",
        "outputId": "f2cec832-6589-4b37-f0c8-2808e5e21cbd"
      },
      "execution_count": null,
      "outputs": [
        {
          "output_type": "stream",
          "name": "stdout",
          "text": [
            "Fundamental Ratios: \n",
            "                 Values\n",
            "Attributes             \n",
            "Index           S&P 500\n",
            "Market Cap      508.00B\n",
            "Income           39.37B\n",
            "Sales           117.93B\n",
            "Book/sh           45.18\n",
            "...                 ...\n",
            "ATR               11.12\n",
            "Volatility  3.65% 4.15%\n",
            "Prev Close       187.61\n",
            "Price            186.63\n",
            "Change           -0.52%\n",
            "\n",
            "[72 rows x 1 columns]\n",
            "\n",
            "Recent News: \n",
            "                              News Headline              Article Link\n",
            "Date                                                                 \n",
            "Mar-15-22 01:00AM  Russians bid hasty fa...  https://www.ft.com/cm...\n",
            "Mar-14-22 08:42PM  UPDATE 1-Facebook own...  https://finance.yahoo...\n",
            "08:12PM            Facebook Makes a Big ...  https://www.thestreet...\n",
            "07:33PM            Meta is ending its fr...  https://www.bizjourna...\n",
            "05:44PM            Facebook owner to hel...  https://finance.yahoo...\n",
            "...                                     ...                       ...\n",
            "01:48PM            Russia-Ukraine war: C...  https://finance.yahoo...\n",
            "12:46PM            Instagram Will Demote...  https://finance.yahoo...\n",
            "11:33AM            U.S. equity markets b...  https://finance.yahoo...\n",
            "11:00AM            Is Shopify Stock A Bu...  https://www.investors...\n",
            "09:46AM            International Women's...  https://finance.yahoo...\n",
            "\n",
            "[100 rows x 2 columns]\n",
            "\n",
            "Recent Insider Trades: \n",
            "                   Trader              Relationship Transaction    Cost  \\\n",
            "Date                                                                      \n",
            "Mar 08  Newstead Jennifer       Chief Legal Officer        Sale  187.80   \n",
            "Mar 01  Newstead Jennifer       Chief Legal Officer        Sale  210.62   \n",
            "Feb 22  Newstead Jennifer       Chief Legal Officer        Sale  202.23   \n",
            "Feb 17  Taylor Susan J.S.  Chief Accounting Officer        Sale  214.00   \n",
            "Feb 16  Newstead Jennifer       Chief Legal Officer        Sale  212.44   \n",
            "...                   ...                       ...         ...     ...   \n",
            "Sep 22    Zuckerberg Mark               COB and CEO        Sale  344.34   \n",
            "Sep 21    Zuckerberg Mark               COB and CEO        Sale  357.82   \n",
            "Sep 21  Newstead Jennifer       Chief Legal Officer        Sale  358.70   \n",
            "Sep 20    Zuckerberg Mark               COB and CEO        Sale  354.84   \n",
            "Sep 20    Zuckerberg Mark               COB and CEO        Sale  354.93   \n",
            "\n",
            "       # Shares Value ($) # Shares Total       SEC Form 4  \n",
            "Date                                                       \n",
            "Mar 08      330     61974          16452  Mar 10 07:01 PM  \n",
            "Mar 01      622    131006          16782  Mar 03 06:31 PM  \n",
            "Feb 22      330     66736          17404  Feb 24 06:53 PM  \n",
            "Feb 17     2272    486208           1158  Feb 17 07:58 PM  \n",
            "Feb 16      476    101121          17734  Feb 17 08:00 PM  \n",
            "...         ...       ...            ...              ...  \n",
            "Sep 22    77300  26617529              0  Sep 22 08:33 PM  \n",
            "Sep 21    77300  27659846              0  Sep 22 06:58 PM  \n",
            "Sep 21      250     89675          10938  Sep 23 06:56 PM  \n",
            "Sep 20    71000  25193793              0  Sep 22 06:45 PM  \n",
            "Sep 20     6300   2236032              0  Sep 22 06:53 PM  \n",
            "\n",
            "[100 rows x 8 columns]\n"
          ]
        }
      ]
    },
    {
      "cell_type": "code",
      "source": [
        "df"
      ],
      "metadata": {
        "colab": {
          "base_uri": "https://localhost:8080/",
          "height": 423
        },
        "id": "_q5H40v83WWO",
        "outputId": "b4e70466-8e5f-4ac5-a1f9-ea5da441a02a"
      },
      "execution_count": null,
      "outputs": [
        {
          "output_type": "execute_result",
          "data": {
            "text/plain": [
              "   ticker        date       time  \\\n",
              "0    AAPL  2022-03-23  09:52PM     \n",
              "1    AAPL  2022-03-23  08:42PM     \n",
              "2    AAPL  2022-03-23  08:00PM     \n",
              "3    AAPL  2022-03-23  07:28PM     \n",
              "4    AAPL  2022-03-23  07:21PM     \n",
              "..    ...         ...        ...   \n",
              "95   AAPL  2022-03-17  11:05AM     \n",
              "96   AAPL  2022-03-17  10:49AM     \n",
              "97   AAPL  2022-03-17  10:46AM     \n",
              "98   AAPL  2022-03-17  10:26AM     \n",
              "99   AAPL  2022-03-17  09:31AM     \n",
              "\n",
              "                                                title  compound  \n",
              "0   Dow Jones Futures: Stock Market Rally Retreats...    0.0000  \n",
              "1             PRESS DIGEST-Financial Times - March 24    0.0000  \n",
              "2   Apple's Small Fintech Acquisition Could Procee...    0.3818  \n",
              "3   Tim Cook Displays His Difference in Russian In...    0.0000  \n",
              "4   Google Tests Letting Apps Like Spotify Offer O...    0.3612  \n",
              "..                                                ...       ...  \n",
              "95  Overlooked and underfunded: How 2-year HBCUs a...   -0.3400  \n",
              "96  Iridium (IRDM) Satcom Adopted by Japan-Based S...    0.0000  \n",
              "97  Market strategist talks stocks, investing amid...    0.0000  \n",
              "98  Adobe (ADBE) Partners BMW Group for Experience...    0.0000  \n",
              "99  Dow Jones Drops After Stock Market Surge; 5 St...    0.0000  \n",
              "\n",
              "[100 rows x 5 columns]"
            ],
            "text/html": [
              "\n",
              "  <div id=\"df-1bdc31ca-b9de-4171-be0f-5f0b5391aee0\">\n",
              "    <div class=\"colab-df-container\">\n",
              "      <div>\n",
              "<style scoped>\n",
              "    .dataframe tbody tr th:only-of-type {\n",
              "        vertical-align: middle;\n",
              "    }\n",
              "\n",
              "    .dataframe tbody tr th {\n",
              "        vertical-align: top;\n",
              "    }\n",
              "\n",
              "    .dataframe thead th {\n",
              "        text-align: right;\n",
              "    }\n",
              "</style>\n",
              "<table border=\"1\" class=\"dataframe\">\n",
              "  <thead>\n",
              "    <tr style=\"text-align: right;\">\n",
              "      <th></th>\n",
              "      <th>ticker</th>\n",
              "      <th>date</th>\n",
              "      <th>time</th>\n",
              "      <th>title</th>\n",
              "      <th>compound</th>\n",
              "    </tr>\n",
              "  </thead>\n",
              "  <tbody>\n",
              "    <tr>\n",
              "      <th>0</th>\n",
              "      <td>AAPL</td>\n",
              "      <td>2022-03-23</td>\n",
              "      <td>09:52PM</td>\n",
              "      <td>Dow Jones Futures: Stock Market Rally Retreats...</td>\n",
              "      <td>0.0000</td>\n",
              "    </tr>\n",
              "    <tr>\n",
              "      <th>1</th>\n",
              "      <td>AAPL</td>\n",
              "      <td>2022-03-23</td>\n",
              "      <td>08:42PM</td>\n",
              "      <td>PRESS DIGEST-Financial Times - March 24</td>\n",
              "      <td>0.0000</td>\n",
              "    </tr>\n",
              "    <tr>\n",
              "      <th>2</th>\n",
              "      <td>AAPL</td>\n",
              "      <td>2022-03-23</td>\n",
              "      <td>08:00PM</td>\n",
              "      <td>Apple's Small Fintech Acquisition Could Procee...</td>\n",
              "      <td>0.3818</td>\n",
              "    </tr>\n",
              "    <tr>\n",
              "      <th>3</th>\n",
              "      <td>AAPL</td>\n",
              "      <td>2022-03-23</td>\n",
              "      <td>07:28PM</td>\n",
              "      <td>Tim Cook Displays His Difference in Russian In...</td>\n",
              "      <td>0.0000</td>\n",
              "    </tr>\n",
              "    <tr>\n",
              "      <th>4</th>\n",
              "      <td>AAPL</td>\n",
              "      <td>2022-03-23</td>\n",
              "      <td>07:21PM</td>\n",
              "      <td>Google Tests Letting Apps Like Spotify Offer O...</td>\n",
              "      <td>0.3612</td>\n",
              "    </tr>\n",
              "    <tr>\n",
              "      <th>...</th>\n",
              "      <td>...</td>\n",
              "      <td>...</td>\n",
              "      <td>...</td>\n",
              "      <td>...</td>\n",
              "      <td>...</td>\n",
              "    </tr>\n",
              "    <tr>\n",
              "      <th>95</th>\n",
              "      <td>AAPL</td>\n",
              "      <td>2022-03-17</td>\n",
              "      <td>11:05AM</td>\n",
              "      <td>Overlooked and underfunded: How 2-year HBCUs a...</td>\n",
              "      <td>-0.3400</td>\n",
              "    </tr>\n",
              "    <tr>\n",
              "      <th>96</th>\n",
              "      <td>AAPL</td>\n",
              "      <td>2022-03-17</td>\n",
              "      <td>10:49AM</td>\n",
              "      <td>Iridium (IRDM) Satcom Adopted by Japan-Based S...</td>\n",
              "      <td>0.0000</td>\n",
              "    </tr>\n",
              "    <tr>\n",
              "      <th>97</th>\n",
              "      <td>AAPL</td>\n",
              "      <td>2022-03-17</td>\n",
              "      <td>10:46AM</td>\n",
              "      <td>Market strategist talks stocks, investing amid...</td>\n",
              "      <td>0.0000</td>\n",
              "    </tr>\n",
              "    <tr>\n",
              "      <th>98</th>\n",
              "      <td>AAPL</td>\n",
              "      <td>2022-03-17</td>\n",
              "      <td>10:26AM</td>\n",
              "      <td>Adobe (ADBE) Partners BMW Group for Experience...</td>\n",
              "      <td>0.0000</td>\n",
              "    </tr>\n",
              "    <tr>\n",
              "      <th>99</th>\n",
              "      <td>AAPL</td>\n",
              "      <td>2022-03-17</td>\n",
              "      <td>09:31AM</td>\n",
              "      <td>Dow Jones Drops After Stock Market Surge; 5 St...</td>\n",
              "      <td>0.0000</td>\n",
              "    </tr>\n",
              "  </tbody>\n",
              "</table>\n",
              "<p>100 rows × 5 columns</p>\n",
              "</div>\n",
              "      <button class=\"colab-df-convert\" onclick=\"convertToInteractive('df-1bdc31ca-b9de-4171-be0f-5f0b5391aee0')\"\n",
              "              title=\"Convert this dataframe to an interactive table.\"\n",
              "              style=\"display:none;\">\n",
              "        \n",
              "  <svg xmlns=\"http://www.w3.org/2000/svg\" height=\"24px\"viewBox=\"0 0 24 24\"\n",
              "       width=\"24px\">\n",
              "    <path d=\"M0 0h24v24H0V0z\" fill=\"none\"/>\n",
              "    <path d=\"M18.56 5.44l.94 2.06.94-2.06 2.06-.94-2.06-.94-.94-2.06-.94 2.06-2.06.94zm-11 1L8.5 8.5l.94-2.06 2.06-.94-2.06-.94L8.5 2.5l-.94 2.06-2.06.94zm10 10l.94 2.06.94-2.06 2.06-.94-2.06-.94-.94-2.06-.94 2.06-2.06.94z\"/><path d=\"M17.41 7.96l-1.37-1.37c-.4-.4-.92-.59-1.43-.59-.52 0-1.04.2-1.43.59L10.3 9.45l-7.72 7.72c-.78.78-.78 2.05 0 2.83L4 21.41c.39.39.9.59 1.41.59.51 0 1.02-.2 1.41-.59l7.78-7.78 2.81-2.81c.8-.78.8-2.07 0-2.86zM5.41 20L4 18.59l7.72-7.72 1.47 1.35L5.41 20z\"/>\n",
              "  </svg>\n",
              "      </button>\n",
              "      \n",
              "  <style>\n",
              "    .colab-df-container {\n",
              "      display:flex;\n",
              "      flex-wrap:wrap;\n",
              "      gap: 12px;\n",
              "    }\n",
              "\n",
              "    .colab-df-convert {\n",
              "      background-color: #E8F0FE;\n",
              "      border: none;\n",
              "      border-radius: 50%;\n",
              "      cursor: pointer;\n",
              "      display: none;\n",
              "      fill: #1967D2;\n",
              "      height: 32px;\n",
              "      padding: 0 0 0 0;\n",
              "      width: 32px;\n",
              "    }\n",
              "\n",
              "    .colab-df-convert:hover {\n",
              "      background-color: #E2EBFA;\n",
              "      box-shadow: 0px 1px 2px rgba(60, 64, 67, 0.3), 0px 1px 3px 1px rgba(60, 64, 67, 0.15);\n",
              "      fill: #174EA6;\n",
              "    }\n",
              "\n",
              "    [theme=dark] .colab-df-convert {\n",
              "      background-color: #3B4455;\n",
              "      fill: #D2E3FC;\n",
              "    }\n",
              "\n",
              "    [theme=dark] .colab-df-convert:hover {\n",
              "      background-color: #434B5C;\n",
              "      box-shadow: 0px 1px 3px 1px rgba(0, 0, 0, 0.15);\n",
              "      filter: drop-shadow(0px 1px 2px rgba(0, 0, 0, 0.3));\n",
              "      fill: #FFFFFF;\n",
              "    }\n",
              "  </style>\n",
              "\n",
              "      <script>\n",
              "        const buttonEl =\n",
              "          document.querySelector('#df-1bdc31ca-b9de-4171-be0f-5f0b5391aee0 button.colab-df-convert');\n",
              "        buttonEl.style.display =\n",
              "          google.colab.kernel.accessAllowed ? 'block' : 'none';\n",
              "\n",
              "        async function convertToInteractive(key) {\n",
              "          const element = document.querySelector('#df-1bdc31ca-b9de-4171-be0f-5f0b5391aee0');\n",
              "          const dataTable =\n",
              "            await google.colab.kernel.invokeFunction('convertToInteractive',\n",
              "                                                     [key], {});\n",
              "          if (!dataTable) return;\n",
              "\n",
              "          const docLinkHtml = 'Like what you see? Visit the ' +\n",
              "            '<a target=\"_blank\" href=https://colab.research.google.com/notebooks/data_table.ipynb>data table notebook</a>'\n",
              "            + ' to learn more about interactive tables.';\n",
              "          element.innerHTML = '';\n",
              "          dataTable['output_type'] = 'display_data';\n",
              "          await google.colab.output.renderOutput(dataTable, element);\n",
              "          const docLink = document.createElement('div');\n",
              "          docLink.innerHTML = docLinkHtml;\n",
              "          element.appendChild(docLink);\n",
              "        }\n",
              "      </script>\n",
              "    </div>\n",
              "  </div>\n",
              "  "
            ]
          },
          "metadata": {},
          "execution_count": 17
        }
      ]
    },
    {
      "cell_type": "code",
      "source": [
        ""
      ],
      "metadata": {
        "id": "HuETaeYYr6L7"
      },
      "execution_count": null,
      "outputs": []
    },
    {
      "cell_type": "code",
      "source": [
        ""
      ],
      "metadata": {
        "id": "MrTL0Xeto_3K"
      },
      "execution_count": null,
      "outputs": []
    }
  ]
}