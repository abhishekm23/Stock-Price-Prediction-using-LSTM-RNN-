{
 "cells": [
  {
   "cell_type": "code",
   "execution_count": 45,
   "metadata": {},
   "outputs": [],
   "source": [
    "import pandas_datareader.data as web\n",
    "import pandas as pd\n",
    "import numpy as np\n",
    "import datetime as dt"
   ]
  },
  {
   "cell_type": "code",
   "execution_count": 52,
   "metadata": {},
   "outputs": [],
   "source": [
    "df = web.DataReader('ITC.NS', 'yahoo', start='2018-01-01', end='2022-01-18')"
   ]
  },
  {
   "cell_type": "code",
   "execution_count": 53,
   "metadata": {},
   "outputs": [
    {
     "data": {
      "text/html": [
       "<div>\n",
       "<style scoped>\n",
       "    .dataframe tbody tr th:only-of-type {\n",
       "        vertical-align: middle;\n",
       "    }\n",
       "\n",
       "    .dataframe tbody tr th {\n",
       "        vertical-align: top;\n",
       "    }\n",
       "\n",
       "    .dataframe thead th {\n",
       "        text-align: right;\n",
       "    }\n",
       "</style>\n",
       "<table border=\"1\" class=\"dataframe\">\n",
       "  <thead>\n",
       "    <tr style=\"text-align: right;\">\n",
       "      <th></th>\n",
       "      <th>High</th>\n",
       "      <th>Low</th>\n",
       "      <th>Open</th>\n",
       "      <th>Close</th>\n",
       "      <th>Volume</th>\n",
       "      <th>Adj Close</th>\n",
       "    </tr>\n",
       "    <tr>\n",
       "      <th>Date</th>\n",
       "      <th></th>\n",
       "      <th></th>\n",
       "      <th></th>\n",
       "      <th></th>\n",
       "      <th></th>\n",
       "      <th></th>\n",
       "    </tr>\n",
       "  </thead>\n",
       "  <tbody>\n",
       "    <tr>\n",
       "      <th>2018-01-01</th>\n",
       "      <td>266.299988</td>\n",
       "      <td>261.250000</td>\n",
       "      <td>263.250000</td>\n",
       "      <td>262.299988</td>\n",
       "      <td>10461011.0</td>\n",
       "      <td>228.286194</td>\n",
       "    </tr>\n",
       "    <tr>\n",
       "      <th>2018-01-02</th>\n",
       "      <td>264.200012</td>\n",
       "      <td>260.450012</td>\n",
       "      <td>262.600006</td>\n",
       "      <td>260.750000</td>\n",
       "      <td>5688384.0</td>\n",
       "      <td>226.937225</td>\n",
       "    </tr>\n",
       "    <tr>\n",
       "      <th>2018-01-03</th>\n",
       "      <td>262.649994</td>\n",
       "      <td>260.600006</td>\n",
       "      <td>261.299988</td>\n",
       "      <td>261.149994</td>\n",
       "      <td>11018996.0</td>\n",
       "      <td>227.285339</td>\n",
       "    </tr>\n",
       "    <tr>\n",
       "      <th>2018-01-04</th>\n",
       "      <td>262.750000</td>\n",
       "      <td>260.600006</td>\n",
       "      <td>260.950012</td>\n",
       "      <td>261.549988</td>\n",
       "      <td>9368913.0</td>\n",
       "      <td>227.633453</td>\n",
       "    </tr>\n",
       "    <tr>\n",
       "      <th>2018-01-05</th>\n",
       "      <td>263.500000</td>\n",
       "      <td>261.899994</td>\n",
       "      <td>261.899994</td>\n",
       "      <td>262.899994</td>\n",
       "      <td>9211954.0</td>\n",
       "      <td>228.808411</td>\n",
       "    </tr>\n",
       "  </tbody>\n",
       "</table>\n",
       "</div>"
      ],
      "text/plain": [
       "                  High         Low        Open       Close      Volume  \\\n",
       "Date                                                                     \n",
       "2018-01-01  266.299988  261.250000  263.250000  262.299988  10461011.0   \n",
       "2018-01-02  264.200012  260.450012  262.600006  260.750000   5688384.0   \n",
       "2018-01-03  262.649994  260.600006  261.299988  261.149994  11018996.0   \n",
       "2018-01-04  262.750000  260.600006  260.950012  261.549988   9368913.0   \n",
       "2018-01-05  263.500000  261.899994  261.899994  262.899994   9211954.0   \n",
       "\n",
       "             Adj Close  \n",
       "Date                    \n",
       "2018-01-01  228.286194  \n",
       "2018-01-02  226.937225  \n",
       "2018-01-03  227.285339  \n",
       "2018-01-04  227.633453  \n",
       "2018-01-05  228.808411  "
      ]
     },
     "execution_count": 53,
     "metadata": {},
     "output_type": "execute_result"
    }
   ],
   "source": [
    "df.head()"
   ]
  },
  {
   "cell_type": "code",
   "execution_count": 54,
   "metadata": {},
   "outputs": [],
   "source": [
    "df1 =  df.reset_index()['Open']"
   ]
  },
  {
   "cell_type": "code",
   "execution_count": 55,
   "metadata": {},
   "outputs": [
    {
     "data": {
      "text/plain": [
       "0    263.250000\n",
       "1    262.600006\n",
       "2    261.299988\n",
       "3    260.950012\n",
       "4    261.899994\n",
       "Name: Open, dtype: float64"
      ]
     },
     "execution_count": 55,
     "metadata": {},
     "output_type": "execute_result"
    }
   ],
   "source": [
    "df1.head()"
   ]
  },
  {
   "cell_type": "code",
   "execution_count": 56,
   "metadata": {},
   "outputs": [
    {
     "data": {
      "text/plain": [
       "(1000,)"
      ]
     },
     "execution_count": 56,
     "metadata": {},
     "output_type": "execute_result"
    }
   ],
   "source": [
    "df1.shape"
   ]
  },
  {
   "cell_type": "code",
   "execution_count": 57,
   "metadata": {},
   "outputs": [
    {
     "data": {
      "text/plain": [
       "[<matplotlib.lines.Line2D at 0x277fedd79d0>]"
      ]
     },
     "execution_count": 57,
     "metadata": {},
     "output_type": "execute_result"
    },
    {
     "data": {
      "image/png": "[encoded data removed]",
      "text/plain": [
       "<Figure size 432x288 with 1 Axes>"
      ]
     },
     "metadata": {
      "needs_background": "light"
     },
     "output_type": "display_data"
    }
   ],
   "source": [
    "import matplotlib.pyplot as plt\n",
    "plt.plot(df1)"
   ]
  },
  {
   "cell_type": "markdown",
   "metadata": {},
   "source": [
    "### LSTM are sensitive to the scale of the data. so we apply MinMax scaler "
   ]
  },
  {
   "cell_type": "code",
   "execution_count": 58,
   "metadata": {},
   "outputs": [
    {
     "data": {
      "text/plain": [
       "0      263.250000\n",
       "1      262.600006\n",
       "2      261.299988\n",
       "3      260.950012\n",
       "4      261.899994\n",
       "          ...    \n",
       "995    222.500000\n",
       "996    223.899994\n",
       "997    223.949997\n",
       "998    222.600006\n",
       "999    224.600006\n",
       "Name: Open, Length: 1000, dtype: float64"
      ]
     },
     "execution_count": 58,
     "metadata": {},
     "output_type": "execute_result"
    }
   ],
   "source": [
    "df1\n"
   ]
  },
  {
   "cell_type": "code",
   "execution_count": 59,
   "metadata": {},
   "outputs": [],
   "source": [
    "from sklearn.preprocessing import MinMaxScaler\n",
    "scaler = MinMaxScaler(feature_range=(0,1))\n",
    "df1 = scaler.fit_transform(np.array(df1).reshape(-1,1))"
   ]
  },
  {
   "cell_type": "code",
   "execution_count": 60,
   "metadata": {},
   "outputs": [
    {
     "data": {
      "text/plain": [
       "(1000, 1)"
      ]
     },
     "execution_count": 60,
     "metadata": {},
     "output_type": "execute_result"
    }
   ],
   "source": [
    "df1.shape"
   ]
  },
  {
   "cell_type": "code",
   "execution_count": 61,
   "metadata": {},
   "outputs": [],
   "source": [
    "##Splitting dataset into train and test\n",
    "training_size = int(len(df1)*0.65)\n",
    "test_size = len(df1) - training_size\n",
    "train_data,test_data = df1[0:training_size,:],df1[training_size:len(df1),:1]"
   ]
  },
  {
   "cell_type": "code",
   "execution_count": 62,
   "metadata": {},
   "outputs": [
    {
     "data": {
      "text/plain": [
       "1000"
      ]
     },
     "execution_count": 62,
     "metadata": {},
     "output_type": "execute_result"
    }
   ],
   "source": [
    "len(df1)"
   ]
  },
  {
   "cell_type": "code",
   "execution_count": 63,
   "metadata": {},
   "outputs": [
    {
     "data": {
      "text/plain": [
       "650"
      ]
     },
     "execution_count": 63,
     "metadata": {},
     "output_type": "execute_result"
    }
   ],
   "source": [
    "len(train_data)"
   ]
  },
  {
   "cell_type": "code",
   "execution_count": 64,
   "metadata": {},
   "outputs": [
    {
     "data": {
      "text/plain": [
       "350"
      ]
     },
     "execution_count": 64,
     "metadata": {},
     "output_type": "execute_result"
    }
   ],
   "source": [
    "len(test_data)"
   ]
  },
  {
   "cell_type": "code",
   "execution_count": 65,
   "metadata": {},
   "outputs": [
    {
     "data": {
      "text/plain": [
       "(650, 350)"
      ]
     },
     "execution_count": 65,
     "metadata": {},
     "output_type": "execute_result"
    }
   ],
   "source": [
    "training_size,test_size"
   ]
  },
  {
   "cell_type": "code",
   "execution_count": 66,
   "metadata": {},
   "outputs": [],
   "source": [
    "# convert an array of values into a dataset matrix\n",
    "def create_dataset(dataset, time_step=1):\n",
    "\tdataX, dataY = [], []\n",
    "\tfor i in range(len(dataset)-time_step-1):\n",
    "\t\ta = dataset[i:(i+time_step), 0]   ###i=0, 0,1,2,3-----99   100 \n",
    "\t\tdataX.append(a)\n",
    "\t\tdataY.append(dataset[i + time_step, 0])\n",
    "\treturn numpy.array(dataX), numpy.array(dataY)"
   ]
  },
  {
   "cell_type": "code",
   "execution_count": 67,
   "metadata": {},
   "outputs": [],
   "source": [
    "# reshape into X=t,t+1,t+2,t+3 and Y=t+4\n",
    "import numpy \n",
    "time_step = 100\n",
    "X_train, y_train = create_dataset(train_data, time_step)\n",
    "X_test, ytest = create_dataset(test_data, time_step)"
   ]
  },
  {
   "cell_type": "code",
   "execution_count": 68,
   "metadata": {},
   "outputs": [
    {
     "name": "stdout",
     "output_type": "stream",
     "text": [
      "[[0.6587596  0.65504429 0.64761349 ... 0.72020572 0.71106022 0.72020572]\n",
      " [0.65504429 0.64761349 0.64561306 ... 0.71106022 0.72020572 0.72477839]\n",
      " [0.64761349 0.64561306 0.65104307 ... 0.72020572 0.72477839 0.71163185]\n",
      " ...\n",
      " [0.08545296 0.01714776 0.01143184 ... 0.30637326 0.28608174 0.29665613]\n",
      " [0.01714776 0.01143184 0.08002286 ... 0.28608174 0.29665613 0.28922551]\n",
      " [0.01143184 0.08002286 0.04601316 ... 0.29665613 0.28922551 0.28008   ]]\n"
     ]
    }
   ],
   "source": [
    "print(X_train)"
   ]
  },
  {
   "cell_type": "code",
   "execution_count": 69,
   "metadata": {},
   "outputs": [
    {
     "name": "stdout",
     "output_type": "stream",
     "text": [
      "(549, 100)\n",
      "(549,)\n"
     ]
    },
    {
     "data": {
      "text/plain": [
       "(None, None)"
      ]
     },
     "execution_count": 69,
     "metadata": {},
     "output_type": "execute_result"
    }
   ],
   "source": [
    "print(X_train.shape), print(y_train.shape)"
   ]
  },
  {
   "cell_type": "code",
   "execution_count": 70,
   "metadata": {},
   "outputs": [
    {
     "name": "stdout",
     "output_type": "stream",
     "text": [
      "(249, 100)\n",
      "(249,)\n"
     ]
    },
    {
     "data": {
      "text/plain": [
       "(None, None)"
      ]
     },
     "execution_count": 70,
     "metadata": {},
     "output_type": "execute_result"
    }
   ],
   "source": [
    "print(X_test.shape), print(ytest.shape)"
   ]
  },
  {
   "cell_type": "code",
   "execution_count": 71,
   "metadata": {},
   "outputs": [],
   "source": [
    "# reshape input to be [samples, time steps, features] which is required for LSTM\n",
    "X_train =X_train.reshape(X_train.shape[0],X_train.shape[1] , 1)\n",
    "X_test = X_test.reshape(X_test.shape[0],X_test.shape[1] , 1)"
   ]
  },
  {
   "cell_type": "code",
   "execution_count": 72,
   "metadata": {},
   "outputs": [],
   "source": [
    "### Create the Stacked LSTM model\n",
    "from tensorflow.keras.models import Sequential\n",
    "from tensorflow.keras.layers import Dense\n",
    "from tensorflow.keras.layers import LSTM"
   ]
  },
  {
   "cell_type": "code",
   "execution_count": 73,
   "metadata": {},
   "outputs": [],
   "source": [
    "model=Sequential()\n",
    "model.add(LSTM(50,return_sequences=True,input_shape=(100,1)))\n",
    "model.add(LSTM(50,return_sequences=True))\n",
    "model.add(LSTM(50))\n",
    "model.add(Dense(1))\n",
    "model.compile(loss='mean_squared_error',optimizer='adam')"
   ]
  },
  {
   "cell_type": "code",
   "execution_count": 74,
   "metadata": {},
   "outputs": [
    {
     "name": "stdout",
     "output_type": "stream",
     "text": [
      "Model: \"sequential_1\"\n",
      "_________________________________________________________________\n",
      "Layer (type)                 Output Shape              Param #   \n",
      "=================================================================\n",
      "lstm_3 (LSTM)                (None, 100, 50)           10400     \n",
      "_________________________________________________________________\n",
      "lstm_4 (LSTM)                (None, 100, 50)           20200     \n",
      "_________________________________________________________________\n",
      "lstm_5 (LSTM)                (None, 50)                20200     \n",
      "_________________________________________________________________\n",
      "dense_1 (Dense)              (None, 1)                 51        \n",
      "=================================================================\n",
      "Total params: 50,851\n",
      "Trainable params: 50,851\n",
      "Non-trainable params: 0\n",
      "_________________________________________________________________\n"
     ]
    }
   ],
   "source": [
    "model.summary()"
   ]
  },
  {
   "cell_type": "code",
   "execution_count": 75,
   "metadata": {},
   "outputs": [
    {
     "name": "stdout",
     "output_type": "stream",
     "text": [
      "Epoch 1/100\n",
      "9/9 [==============================] - 5s 194ms/step - loss: 0.1079 - val_loss: 0.0056\n",
      "Epoch 2/100\n",
      "9/9 [==============================] - 1s 108ms/step - loss: 0.0224 - val_loss: 0.0082\n",
      "Epoch 3/100\n",
      "9/9 [==============================] - 1s 108ms/step - loss: 0.0129 - val_loss: 0.0043\n",
      "Epoch 4/100\n",
      "9/9 [==============================] - 1s 108ms/step - loss: 0.0103 - val_loss: 0.0050\n",
      "Epoch 5/100\n",
      "9/9 [==============================] - 1s 108ms/step - loss: 0.0076 - val_loss: 0.0029\n",
      "Epoch 6/100\n",
      "9/9 [==============================] - 1s 109ms/step - loss: 0.0061 - val_loss: 0.0032\n",
      "Epoch 7/100\n",
      "9/9 [==============================] - 1s 110ms/step - loss: 0.0055 - val_loss: 0.0029\n",
      "Epoch 8/100\n",
      "9/9 [==============================] - 1s 111ms/step - loss: 0.0050 - val_loss: 0.0028\n",
      "Epoch 9/100\n",
      "9/9 [==============================] - 1s 119ms/step - loss: 0.0048 - val_loss: 0.0032\n",
      "Epoch 10/100\n",
      "9/9 [==============================] - 1s 113ms/step - loss: 0.0047 - val_loss: 0.0030\n",
      "Epoch 11/100\n",
      "9/9 [==============================] - 1s 114ms/step - loss: 0.0046 - val_loss: 0.0029\n",
      "Epoch 12/100\n",
      "9/9 [==============================] - 1s 113ms/step - loss: 0.0045 - val_loss: 0.0028\n",
      "Epoch 13/100\n",
      "9/9 [==============================] - 1s 113ms/step - loss: 0.0044 - val_loss: 0.0026\n",
      "Epoch 14/100\n",
      "9/9 [==============================] - 1s 113ms/step - loss: 0.0043 - val_loss: 0.0028\n",
      "Epoch 15/100\n",
      "9/9 [==============================] - 1s 113ms/step - loss: 0.0041 - val_loss: 0.0028\n",
      "Epoch 16/100\n",
      "9/9 [==============================] - 1s 114ms/step - loss: 0.0040 - val_loss: 0.0026\n",
      "Epoch 17/100\n",
      "9/9 [==============================] - 1s 114ms/step - loss: 0.0039 - val_loss: 0.0026\n",
      "Epoch 18/100\n",
      "9/9 [==============================] - 1s 118ms/step - loss: 0.0038 - val_loss: 0.0027\n",
      "Epoch 19/100\n",
      "9/9 [==============================] - 1s 127ms/step - loss: 0.0038 - val_loss: 0.0028\n",
      "Epoch 20/100\n",
      "9/9 [==============================] - 1s 123ms/step - loss: 0.0037 - val_loss: 0.0025\n",
      "Epoch 21/100\n",
      "9/9 [==============================] - 1s 115ms/step - loss: 0.0036 - val_loss: 0.0025\n",
      "Epoch 22/100\n",
      "9/9 [==============================] - 1s 117ms/step - loss: 0.0036 - val_loss: 0.0024\n",
      "Epoch 23/100\n",
      "9/9 [==============================] - 1s 120ms/step - loss: 0.0036 - val_loss: 0.0024\n",
      "Epoch 24/100\n",
      "9/9 [==============================] - 1s 116ms/step - loss: 0.0034 - val_loss: 0.0024\n",
      "Epoch 25/100\n",
      "9/9 [==============================] - 1s 118ms/step - loss: 0.0034 - val_loss: 0.0024\n",
      "Epoch 26/100\n",
      "9/9 [==============================] - 1s 117ms/step - loss: 0.0034 - val_loss: 0.0023\n",
      "Epoch 27/100\n",
      "9/9 [==============================] - 1s 117ms/step - loss: 0.0031 - val_loss: 0.0023\n",
      "Epoch 28/100\n",
      "9/9 [==============================] - 1s 118ms/step - loss: 0.0030 - val_loss: 0.0023\n",
      "Epoch 29/100\n",
      "9/9 [==============================] - 1s 119ms/step - loss: 0.0030 - val_loss: 0.0023\n",
      "Epoch 30/100\n",
      "9/9 [==============================] - 1s 117ms/step - loss: 0.0029 - val_loss: 0.0023\n",
      "Epoch 31/100\n",
      "9/9 [==============================] - 1s 118ms/step - loss: 0.0029 - val_loss: 0.0024\n",
      "Epoch 32/100\n",
      "9/9 [==============================] - 1s 118ms/step - loss: 0.0029 - val_loss: 0.0023\n",
      "Epoch 33/100\n",
      "9/9 [==============================] - 1s 118ms/step - loss: 0.0029 - val_loss: 0.0023\n",
      "Epoch 34/100\n",
      "9/9 [==============================] - 1s 119ms/step - loss: 0.0029 - val_loss: 0.0023\n",
      "Epoch 35/100\n",
      "9/9 [==============================] - 1s 120ms/step - loss: 0.0027 - val_loss: 0.0023\n",
      "Epoch 36/100\n",
      "9/9 [==============================] - 1s 119ms/step - loss: 0.0027 - val_loss: 0.0023\n",
      "Epoch 37/100\n",
      "9/9 [==============================] - 1s 117ms/step - loss: 0.0027 - val_loss: 0.0023\n",
      "Epoch 38/100\n",
      "9/9 [==============================] - 1s 118ms/step - loss: 0.0027 - val_loss: 0.0022\n",
      "Epoch 39/100\n",
      "9/9 [==============================] - 1s 117ms/step - loss: 0.0027 - val_loss: 0.0023\n",
      "Epoch 40/100\n",
      "9/9 [==============================] - 1s 120ms/step - loss: 0.0027 - val_loss: 0.0022\n",
      "Epoch 41/100\n",
      "9/9 [==============================] - 1s 120ms/step - loss: 0.0027 - val_loss: 0.0024\n",
      "Epoch 42/100\n",
      "9/9 [==============================] - 1s 120ms/step - loss: 0.0025 - val_loss: 0.0022\n",
      "Epoch 43/100\n",
      "9/9 [==============================] - 1s 120ms/step - loss: 0.0026 - val_loss: 0.0022\n",
      "Epoch 44/100\n",
      "9/9 [==============================] - 1s 121ms/step - loss: 0.0026 - val_loss: 0.0023\n",
      "Epoch 45/100\n",
      "9/9 [==============================] - 1s 119ms/step - loss: 0.0025 - val_loss: 0.0022\n",
      "Epoch 46/100\n",
      "9/9 [==============================] - 1s 119ms/step - loss: 0.0025 - val_loss: 0.0024\n",
      "Epoch 47/100\n",
      "9/9 [==============================] - 1s 120ms/step - loss: 0.0025 - val_loss: 0.0022\n",
      "Epoch 48/100\n",
      "9/9 [==============================] - 1s 121ms/step - loss: 0.0028 - val_loss: 0.0027\n",
      "Epoch 49/100\n",
      "9/9 [==============================] - 1s 119ms/step - loss: 0.0031 - val_loss: 0.0025\n",
      "Epoch 50/100\n",
      "9/9 [==============================] - 1s 119ms/step - loss: 0.0029 - val_loss: 0.0021\n",
      "Epoch 51/100\n",
      "9/9 [==============================] - 1s 125ms/step - loss: 0.0025 - val_loss: 0.0022\n",
      "Epoch 52/100\n",
      "9/9 [==============================] - 1s 125ms/step - loss: 0.0024 - val_loss: 0.0021\n",
      "Epoch 53/100\n",
      "9/9 [==============================] - 1s 121ms/step - loss: 0.0026 - val_loss: 0.0024\n",
      "Epoch 54/100\n",
      "9/9 [==============================] - 1s 119ms/step - loss: 0.0026 - val_loss: 0.0021\n",
      "Epoch 55/100\n",
      "9/9 [==============================] - 1s 120ms/step - loss: 0.0023 - val_loss: 0.0021\n",
      "Epoch 56/100\n",
      "9/9 [==============================] - 1s 122ms/step - loss: 0.0023 - val_loss: 0.0021\n",
      "Epoch 57/100\n",
      "9/9 [==============================] - 1s 121ms/step - loss: 0.0023 - val_loss: 0.0023\n",
      "Epoch 58/100\n",
      "9/9 [==============================] - 1s 121ms/step - loss: 0.0023 - val_loss: 0.0021\n",
      "Epoch 59/100\n",
      "9/9 [==============================] - 1s 122ms/step - loss: 0.0023 - val_loss: 0.0025\n",
      "Epoch 60/100\n",
      "9/9 [==============================] - 1s 129ms/step - loss: 0.0023 - val_loss: 0.0025\n",
      "Epoch 61/100\n",
      "9/9 [==============================] - 1s 129ms/step - loss: 0.0025 - val_loss: 0.0020\n",
      "Epoch 62/100\n",
      "9/9 [==============================] - 1s 121ms/step - loss: 0.0023 - val_loss: 0.0021\n",
      "Epoch 63/100\n",
      "9/9 [==============================] - 1s 119ms/step - loss: 0.0024 - val_loss: 0.0023\n",
      "Epoch 64/100\n",
      "9/9 [==============================] - 1s 119ms/step - loss: 0.0022 - val_loss: 0.0019\n",
      "Epoch 65/100\n",
      "9/9 [==============================] - 1s 120ms/step - loss: 0.0021 - val_loss: 0.0020\n",
      "Epoch 66/100\n",
      "9/9 [==============================] - 1s 121ms/step - loss: 0.0021 - val_loss: 0.0023\n",
      "Epoch 67/100\n",
      "9/9 [==============================] - 1s 125ms/step - loss: 0.0023 - val_loss: 0.0020\n",
      "Epoch 68/100\n",
      "9/9 [==============================] - 1s 120ms/step - loss: 0.0022 - val_loss: 0.0021\n",
      "Epoch 69/100\n",
      "9/9 [==============================] - 1s 120ms/step - loss: 0.0022 - val_loss: 0.0026\n",
      "Epoch 70/100\n",
      "9/9 [==============================] - 1s 121ms/step - loss: 0.0024 - val_loss: 0.0019\n",
      "Epoch 71/100\n",
      "9/9 [==============================] - 1s 120ms/step - loss: 0.0021 - val_loss: 0.0019\n",
      "Epoch 72/100\n",
      "9/9 [==============================] - 1s 121ms/step - loss: 0.0019 - val_loss: 0.0020\n",
      "Epoch 73/100\n",
      "9/9 [==============================] - 1s 121ms/step - loss: 0.0019 - val_loss: 0.0021\n",
      "Epoch 74/100\n",
      "9/9 [==============================] - 1s 121ms/step - loss: 0.0020 - val_loss: 0.0022\n",
      "Epoch 75/100\n",
      "9/9 [==============================] - 1s 125ms/step - loss: 0.0021 - val_loss: 0.0019\n",
      "Epoch 76/100\n",
      "9/9 [==============================] - 1s 121ms/step - loss: 0.0020 - val_loss: 0.0021\n",
      "Epoch 77/100\n",
      "9/9 [==============================] - 1s 122ms/step - loss: 0.0019 - val_loss: 0.0020\n",
      "Epoch 78/100\n",
      "9/9 [==============================] - 1s 122ms/step - loss: 0.0018 - val_loss: 0.0019\n",
      "Epoch 79/100\n",
      "9/9 [==============================] - 1s 121ms/step - loss: 0.0018 - val_loss: 0.0019\n",
      "Epoch 80/100\n",
      "9/9 [==============================] - 1s 122ms/step - loss: 0.0018 - val_loss: 0.0020\n",
      "Epoch 81/100\n",
      "9/9 [==============================] - 1s 122ms/step - loss: 0.0018 - val_loss: 0.0020\n",
      "Epoch 82/100\n",
      "9/9 [==============================] - 1s 121ms/step - loss: 0.0017 - val_loss: 0.0021\n",
      "Epoch 83/100\n",
      "9/9 [==============================] - 1s 124ms/step - loss: 0.0018 - val_loss: 0.0019\n",
      "Epoch 84/100\n",
      "9/9 [==============================] - 1s 122ms/step - loss: 0.0017 - val_loss: 0.0019\n",
      "Epoch 85/100\n",
      "9/9 [==============================] - 1s 121ms/step - loss: 0.0017 - val_loss: 0.0021\n",
      "Epoch 86/100\n",
      "9/9 [==============================] - 1s 120ms/step - loss: 0.0016 - val_loss: 0.0019\n",
      "Epoch 87/100\n",
      "9/9 [==============================] - 1s 120ms/step - loss: 0.0016 - val_loss: 0.0019\n",
      "Epoch 88/100\n",
      "9/9 [==============================] - 1s 121ms/step - loss: 0.0016 - val_loss: 0.0020\n",
      "Epoch 89/100\n",
      "9/9 [==============================] - 1s 125ms/step - loss: 0.0015 - val_loss: 0.0021\n",
      "Epoch 90/100\n",
      "9/9 [==============================] - 1s 120ms/step - loss: 0.0016 - val_loss: 0.0020\n",
      "Epoch 91/100\n",
      "9/9 [==============================] - 1s 125ms/step - loss: 0.0015 - val_loss: 0.0018\n",
      "Epoch 92/100\n",
      "9/9 [==============================] - 1s 121ms/step - loss: 0.0017 - val_loss: 0.0018\n",
      "Epoch 93/100\n",
      "9/9 [==============================] - 1s 120ms/step - loss: 0.0015 - val_loss: 0.0019\n",
      "Epoch 94/100\n",
      "9/9 [==============================] - 1s 121ms/step - loss: 0.0014 - val_loss: 0.0018\n",
      "Epoch 95/100\n",
      "9/9 [==============================] - 1s 120ms/step - loss: 0.0016 - val_loss: 0.0020\n",
      "Epoch 96/100\n",
      "9/9 [==============================] - 1s 121ms/step - loss: 0.0016 - val_loss: 0.0023\n",
      "Epoch 97/100\n",
      "9/9 [==============================] - 1s 121ms/step - loss: 0.0015 - val_loss: 0.0020\n",
      "Epoch 98/100\n",
      "9/9 [==============================] - 1s 122ms/step - loss: 0.0014 - val_loss: 0.0017\n",
      "Epoch 99/100\n",
      "9/9 [==============================] - 1s 125ms/step - loss: 0.0015 - val_loss: 0.0016\n",
      "Epoch 100/100\n",
      "9/9 [==============================] - 1s 122ms/step - loss: 0.0015 - val_loss: 0.0018\n"
     ]
    },
    {
     "data": {
      "text/plain": [
       "<keras.callbacks.History at 0x2780319a550>"
      ]
     },
     "execution_count": 75,
     "metadata": {},
     "output_type": "execute_result"
    }
   ],
   "source": [
    "model.fit(X_train,y_train,validation_data=(X_test,ytest),epochs=100,batch_size=64,verbose=1)"
   ]
  },
  {
   "cell_type": "code",
   "execution_count": 76,
   "metadata": {},
   "outputs": [],
   "source": [
    "### Lets Do the prediction and check performance metrics\n",
    "train_predict=model.predict(X_train)\n",
    "test_predict=model.predict(X_test)"
   ]
  },
  {
   "cell_type": "code",
   "execution_count": 77,
   "metadata": {},
   "outputs": [],
   "source": [
    "##Transformback to original form\n",
    "train_predict=scaler.inverse_transform(train_predict)\n",
    "test_predict=scaler.inverse_transform(test_predict)"
   ]
  },
  {
   "cell_type": "code",
   "execution_count": 78,
   "metadata": {},
   "outputs": [
    {
     "data": {
      "text/plain": [
       "255.8871326926866"
      ]
     },
     "execution_count": 78,
     "metadata": {},
     "output_type": "execute_result"
    }
   ],
   "source": [
    "### Calculate RMSE performance metrics\n",
    "import math\n",
    "from sklearn.metrics import mean_squared_error\n",
    "math.sqrt(mean_squared_error(y_train,train_predict))"
   ]
  },
  {
   "cell_type": "code",
   "execution_count": 79,
   "metadata": {},
   "outputs": [
    {
     "data": {
      "text/plain": [
       "214.2092634570591"
      ]
     },
     "execution_count": 79,
     "metadata": {},
     "output_type": "execute_result"
    }
   ],
   "source": [
    "### Test Data RMSE\n",
    "math.sqrt(mean_squared_error(ytest,test_predict))"
   ]
  },
  {
   "cell_type": "code",
   "execution_count": 80,
   "metadata": {},
   "outputs": [
    {
     "data": {
      "image/png": "[encoded data removed]",
      "text/plain": [
       "<Figure size 432x288 with 1 Axes>"
      ]
     },
     "metadata": {
      "needs_background": "light"
     },
     "output_type": "display_data"
    }
   ],
   "source": [
    "### Plotting \n",
    "# shift train predictions for plotting\n",
    "look_back=100\n",
    "trainPredictPlot = numpy.empty_like(df1)\n",
    "trainPredictPlot[:, :] = np.nan\n",
    "trainPredictPlot[look_back:len(train_predict)+look_back, :] = train_predict\n",
    "# shift test predictions for plotting\n",
    "testPredictPlot = numpy.empty_like(df1)\n",
    "testPredictPlot[:, :] = numpy.nan\n",
    "testPredictPlot[len(train_predict)+(look_back*2)+1:len(df1)-1, :] = test_predict\n",
    "# plot baseline and predictions\n",
    "plt.plot(scaler.inverse_transform(df1))\n",
    "plt.plot(trainPredictPlot)\n",
    "plt.plot(testPredictPlot)\n",
    "plt.show()"
   ]
  },
  {
   "cell_type": "code",
   "execution_count": 81,
   "metadata": {},
   "outputs": [
    {
     "data": {
      "text/plain": [
       "350"
      ]
     },
     "execution_count": 81,
     "metadata": {},
     "output_type": "execute_result"
    }
   ],
   "source": [
    "len(test_data)"
   ]
  },
  {
   "cell_type": "code",
   "execution_count": 82,
   "metadata": {},
   "outputs": [
    {
     "data": {
      "text/plain": [
       "250"
      ]
     },
     "execution_count": 82,
     "metadata": {},
     "output_type": "execute_result"
    }
   ],
   "source": [
    "350-100 ## here we see that since for predicting the open price of 19thJan 2022,we will use past 100 records to predict the price on jan 19th\n"
   ]
  },
  {
   "cell_type": "code",
   "execution_count": 89,
   "metadata": {},
   "outputs": [
    {
     "data": {
      "text/plain": [
       "(1, 100)"
      ]
     },
     "execution_count": 89,
     "metadata": {},
     "output_type": "execute_result"
    }
   ],
   "source": [
    "x_input=test_data[250:].reshape(1,-1)\n",
    "x_input.shape\n"
   ]
  },
  {
   "cell_type": "code",
   "execution_count": 90,
   "metadata": {},
   "outputs": [],
   "source": [
    "temp_input=list(x_input)\n",
    "temp_input=temp_input[0].tolist()"
   ]
  },
  {
   "cell_type": "code",
   "execution_count": 91,
   "metadata": {},
   "outputs": [
    {
     "data": {
      "text/plain": [
       "[0.33380960172426477,\n",
       " 0.3258073508022835,\n",
       " 0.33152326923741116,\n",
       " 0.3432409194730218,\n",
       " 0.36010286141305003,\n",
       " 0.3486710245427945,\n",
       " 0.3529579633691403,\n",
       " 0.36010286141305003,\n",
       " 0.3595312346823397,\n",
       " 0.36724775945695975,\n",
       " 0.3603886747784052,\n",
       " 0.37353530462279794,\n",
       " 0.38239490842285095,\n",
       " 0.3949699987545271,\n",
       " 0.3941125586584616,\n",
       " 0.4858530669858613,\n",
       " 0.4744212301156058,\n",
       " 0.49699909049076163,\n",
       " 0.545870210554703,\n",
       " 0.5544440882073945,\n",
       " 0.5487281697722669,\n",
       " 0.524721329788329,\n",
       " 0.5250071431536839,\n",
       " 0.5030008222912447,\n",
       " 0.5252928693010454,\n",
       " 0.4984280700995437,\n",
       " 0.5030008222912447,\n",
       " 0.5052871547780983,\n",
       " 0.4961417376126901,\n",
       " 0.4858530669858613,\n",
       " 0.49585592424733493,\n",
       " 0.4801371485507334,\n",
       " 0.5178622451097742,\n",
       " 0.5404401054849303,\n",
       " 0.6016004152971989,\n",
       " 0.645898783169439,\n",
       " 0.6481851156562927,\n",
       " 0.5598741932771673,\n",
       " 0.5715918435127779,\n",
       " 0.5527292952332575,\n",
       " 0.49214061215169924,\n",
       " 0.49214061215169924,\n",
       " 0.5272934756405377,\n",
       " 0.4978565305868271,\n",
       " 0.44012571950483903,\n",
       " 0.4352671539477829,\n",
       " 0.4572734748102224,\n",
       " 0.4458416379399667,\n",
       " 0.43926836662676727,\n",
       " 0.4669905187063409,\n",
       " 0.46784795880240615,\n",
       " 0.4541297022273033,\n",
       " 0.4709916441673315,\n",
       " 0.47556439635903247,\n",
       " 0.491283172055634,\n",
       " 0.520434390961983,\n",
       " 0.5030008222912447,\n",
       " 0.5258644960317557,\n",
       " 0.5138610324307898,\n",
       " 0.4638467461234218,\n",
       " 0.4827092944029422,\n",
       " 0.45155755637509454,\n",
       " 0.46241776651463995,\n",
       " 0.42297796419945566,\n",
       " 0.42297796419945566,\n",
       " 0.42297796419945566,\n",
       " 0.42240633746874534,\n",
       " 0.44012571950483903,\n",
       " 0.4209773578599635,\n",
       " 0.40525858216336197,\n",
       " 0.4172620457643278,\n",
       " 0.4286938826345835,\n",
       " 0.5041439885346714,\n",
       " 0.5144326591615002,\n",
       " 0.4972849038561168,\n",
       " 0.4687053116804779,\n",
       " 0.4458416379399667,\n",
       " 0.4275507163911566,\n",
       " 0.390111433197471,\n",
       " 0.3772506167184334,\n",
       " 0.3772506167184334,\n",
       " 0.3766789899877231,\n",
       " 0.40011429045894464,\n",
       " 0.40240062294579826,\n",
       " 0.40011429045894464,\n",
       " 0.41154612732920015,\n",
       " 0.39211203953696316,\n",
       " 0.39382674529310646,\n",
       " 0.4004001038242996,\n",
       " 0.4086881681116362,\n",
       " 0.409545520989708,\n",
       " 0.4058302088940723,\n",
       " 0.41040296108577323,\n",
       " 0.41097450059848983,\n",
       " 0.4306944889740757,\n",
       " 0.4258359234170196,\n",
       " 0.43383817433900107,\n",
       " 0.434123987704356,\n",
       " 0.4264075501477299,\n",
       " 0.4378393870179854]"
      ]
     },
     "execution_count": 91,
     "metadata": {},
     "output_type": "execute_result"
    }
   ],
   "source": [
    "temp_input"
   ]
  },
  {
   "cell_type": "code",
   "execution_count": 92,
   "metadata": {},
   "outputs": [
    {
     "name": "stdout",
     "output_type": "stream",
     "text": [
      "[0.41384095]\n",
      "101\n",
      "1 day input [0.32580735 0.33152327 0.34324092 0.36010286 0.34867102 0.35295796\n",
      " 0.36010286 0.35953123 0.36724776 0.36038867 0.3735353  0.38239491\n",
      " 0.39497    0.39411256 0.48585307 0.47442123 0.49699909 0.54587021\n",
      " 0.55444409 0.54872817 0.52472133 0.52500714 0.50300082 0.52529287\n",
      " 0.49842807 0.50300082 0.50528715 0.49614174 0.48585307 0.49585592\n",
      " 0.48013715 0.51786225 0.54044011 0.60160042 0.64589878 0.64818512\n",
      " 0.55987419 0.57159184 0.5527293  0.49214061 0.49214061 0.52729348\n",
      " 0.49785653 0.44012572 0.43526715 0.45727347 0.44584164 0.43926837\n",
      " 0.46699052 0.46784796 0.4541297  0.47099164 0.4755644  0.49128317\n",
      " 0.52043439 0.50300082 0.5258645  0.51386103 0.46384675 0.48270929\n",
      " 0.45155756 0.46241777 0.42297796 0.42297796 0.42297796 0.42240634\n",
      " 0.44012572 0.42097736 0.40525858 0.41726205 0.42869388 0.50414399\n",
      " 0.51443266 0.4972849  0.46870531 0.44584164 0.42755072 0.39011143\n",
      " 0.37725062 0.37725062 0.37667899 0.40011429 0.40240062 0.40011429\n",
      " 0.41154613 0.39211204 0.39382675 0.4004001  0.40868817 0.40954552\n",
      " 0.40583021 0.41040296 0.4109745  0.43069449 0.42583592 0.43383817\n",
      " 0.43412399 0.42640755 0.43783939 0.41384095]\n",
      "1 day output [[0.4134538]]\n",
      "2 day input [0.33152327 0.34324092 0.36010286 0.34867102 0.35295796 0.36010286\n",
      " 0.35953123 0.36724776 0.36038867 0.3735353  0.38239491 0.39497\n",
      " 0.39411256 0.48585307 0.47442123 0.49699909 0.54587021 0.55444409\n",
      " 0.54872817 0.52472133 0.52500714 0.50300082 0.52529287 0.49842807\n",
      " 0.50300082 0.50528715 0.49614174 0.48585307 0.49585592 0.48013715\n",
      " 0.51786225 0.54044011 0.60160042 0.64589878 0.64818512 0.55987419\n",
      " 0.57159184 0.5527293  0.49214061 0.49214061 0.52729348 0.49785653\n",
      " 0.44012572 0.43526715 0.45727347 0.44584164 0.43926837 0.46699052\n",
      " 0.46784796 0.4541297  0.47099164 0.4755644  0.49128317 0.52043439\n",
      " 0.50300082 0.5258645  0.51386103 0.46384675 0.48270929 0.45155756\n",
      " 0.46241777 0.42297796 0.42297796 0.42297796 0.42240634 0.44012572\n",
      " 0.42097736 0.40525858 0.41726205 0.42869388 0.50414399 0.51443266\n",
      " 0.4972849  0.46870531 0.44584164 0.42755072 0.39011143 0.37725062\n",
      " 0.37725062 0.37667899 0.40011429 0.40240062 0.40011429 0.41154613\n",
      " 0.39211204 0.39382675 0.4004001  0.40868817 0.40954552 0.40583021\n",
      " 0.41040296 0.4109745  0.43069449 0.42583592 0.43383817 0.43412399\n",
      " 0.42640755 0.43783939 0.41384095 0.41345379]\n",
      "2 day output [[0.4105805]]\n",
      "3 day input [0.34324092 0.36010286 0.34867102 0.35295796 0.36010286 0.35953123\n",
      " 0.36724776 0.36038867 0.3735353  0.38239491 0.39497    0.39411256\n",
      " 0.48585307 0.47442123 0.49699909 0.54587021 0.55444409 0.54872817\n",
      " 0.52472133 0.52500714 0.50300082 0.52529287 0.49842807 0.50300082\n",
      " 0.50528715 0.49614174 0.48585307 0.49585592 0.48013715 0.51786225\n",
      " 0.54044011 0.60160042 0.64589878 0.64818512 0.55987419 0.57159184\n",
      " 0.5527293  0.49214061 0.49214061 0.52729348 0.49785653 0.44012572\n",
      " 0.43526715 0.45727347 0.44584164 0.43926837 0.46699052 0.46784796\n",
      " 0.4541297  0.47099164 0.4755644  0.49128317 0.52043439 0.50300082\n",
      " 0.5258645  0.51386103 0.46384675 0.48270929 0.45155756 0.46241777\n",
      " 0.42297796 0.42297796 0.42297796 0.42240634 0.44012572 0.42097736\n",
      " 0.40525858 0.41726205 0.42869388 0.50414399 0.51443266 0.4972849\n",
      " 0.46870531 0.44584164 0.42755072 0.39011143 0.37725062 0.37725062\n",
      " 0.37667899 0.40011429 0.40240062 0.40011429 0.41154613 0.39211204\n",
      " 0.39382675 0.4004001  0.40868817 0.40954552 0.40583021 0.41040296\n",
      " 0.4109745  0.43069449 0.42583592 0.43383817 0.43412399 0.42640755\n",
      " 0.43783939 0.41384095 0.41345379 0.41058049]\n",
      "3 day output [[0.40602666]]\n",
      "4 day input [0.36010286 0.34867102 0.35295796 0.36010286 0.35953123 0.36724776\n",
      " 0.36038867 0.3735353  0.38239491 0.39497    0.39411256 0.48585307\n",
      " 0.47442123 0.49699909 0.54587021 0.55444409 0.54872817 0.52472133\n",
      " 0.52500714 0.50300082 0.52529287 0.49842807 0.50300082 0.50528715\n",
      " 0.49614174 0.48585307 0.49585592 0.48013715 0.51786225 0.54044011\n",
      " 0.60160042 0.64589878 0.64818512 0.55987419 0.57159184 0.5527293\n",
      " 0.49214061 0.49214061 0.52729348 0.49785653 0.44012572 0.43526715\n",
      " 0.45727347 0.44584164 0.43926837 0.46699052 0.46784796 0.4541297\n",
      " 0.47099164 0.4755644  0.49128317 0.52043439 0.50300082 0.5258645\n",
      " 0.51386103 0.46384675 0.48270929 0.45155756 0.46241777 0.42297796\n",
      " 0.42297796 0.42297796 0.42240634 0.44012572 0.42097736 0.40525858\n",
      " 0.41726205 0.42869388 0.50414399 0.51443266 0.4972849  0.46870531\n",
      " 0.44584164 0.42755072 0.39011143 0.37725062 0.37725062 0.37667899\n",
      " 0.40011429 0.40240062 0.40011429 0.41154613 0.39211204 0.39382675\n",
      " 0.4004001  0.40868817 0.40954552 0.40583021 0.41040296 0.4109745\n",
      " 0.43069449 0.42583592 0.43383817 0.43412399 0.42640755 0.43783939\n",
      " 0.41384095 0.41345379 0.41058049 0.40602666]\n",
      "4 day output [[0.400511]]\n",
      "5 day input [0.34867102 0.35295796 0.36010286 0.35953123 0.36724776 0.36038867\n",
      " 0.3735353  0.38239491 0.39497    0.39411256 0.48585307 0.47442123\n",
      " 0.49699909 0.54587021 0.55444409 0.54872817 0.52472133 0.52500714\n",
      " 0.50300082 0.52529287 0.49842807 0.50300082 0.50528715 0.49614174\n",
      " 0.48585307 0.49585592 0.48013715 0.51786225 0.54044011 0.60160042\n",
      " 0.64589878 0.64818512 0.55987419 0.57159184 0.5527293  0.49214061\n",
      " 0.49214061 0.52729348 0.49785653 0.44012572 0.43526715 0.45727347\n",
      " 0.44584164 0.43926837 0.46699052 0.46784796 0.4541297  0.47099164\n",
      " 0.4755644  0.49128317 0.52043439 0.50300082 0.5258645  0.51386103\n",
      " 0.46384675 0.48270929 0.45155756 0.46241777 0.42297796 0.42297796\n",
      " 0.42297796 0.42240634 0.44012572 0.42097736 0.40525858 0.41726205\n",
      " 0.42869388 0.50414399 0.51443266 0.4972849  0.46870531 0.44584164\n",
      " 0.42755072 0.39011143 0.37725062 0.37725062 0.37667899 0.40011429\n",
      " 0.40240062 0.40011429 0.41154613 0.39211204 0.39382675 0.4004001\n",
      " 0.40868817 0.40954552 0.40583021 0.41040296 0.4109745  0.43069449\n",
      " 0.42583592 0.43383817 0.43412399 0.42640755 0.43783939 0.41384095\n",
      " 0.41345379 0.41058049 0.40602666 0.400511  ]\n",
      "5 day output [[0.3945341]]\n",
      "6 day input [0.35295796 0.36010286 0.35953123 0.36724776 0.36038867 0.3735353\n",
      " 0.38239491 0.39497    0.39411256 0.48585307 0.47442123 0.49699909\n",
      " 0.54587021 0.55444409 0.54872817 0.52472133 0.52500714 0.50300082\n",
      " 0.52529287 0.49842807 0.50300082 0.50528715 0.49614174 0.48585307\n",
      " 0.49585592 0.48013715 0.51786225 0.54044011 0.60160042 0.64589878\n",
      " 0.64818512 0.55987419 0.57159184 0.5527293  0.49214061 0.49214061\n",
      " 0.52729348 0.49785653 0.44012572 0.43526715 0.45727347 0.44584164\n",
      " 0.43926837 0.46699052 0.46784796 0.4541297  0.47099164 0.4755644\n",
      " 0.49128317 0.52043439 0.50300082 0.5258645  0.51386103 0.46384675\n",
      " 0.48270929 0.45155756 0.46241777 0.42297796 0.42297796 0.42297796\n",
      " 0.42240634 0.44012572 0.42097736 0.40525858 0.41726205 0.42869388\n",
      " 0.50414399 0.51443266 0.4972849  0.46870531 0.44584164 0.42755072\n",
      " 0.39011143 0.37725062 0.37725062 0.37667899 0.40011429 0.40240062\n",
      " 0.40011429 0.41154613 0.39211204 0.39382675 0.4004001  0.40868817\n",
      " 0.40954552 0.40583021 0.41040296 0.4109745  0.43069449 0.42583592\n",
      " 0.43383817 0.43412399 0.42640755 0.43783939 0.41384095 0.41345379\n",
      " 0.41058049 0.40602666 0.400511   0.39453411]\n",
      "6 day output [[0.3883981]]\n",
      "7 day input [0.36010286 0.35953123 0.36724776 0.36038867 0.3735353  0.38239491\n",
      " 0.39497    0.39411256 0.48585307 0.47442123 0.49699909 0.54587021\n",
      " 0.55444409 0.54872817 0.52472133 0.52500714 0.50300082 0.52529287\n",
      " 0.49842807 0.50300082 0.50528715 0.49614174 0.48585307 0.49585592\n",
      " 0.48013715 0.51786225 0.54044011 0.60160042 0.64589878 0.64818512\n",
      " 0.55987419 0.57159184 0.5527293  0.49214061 0.49214061 0.52729348\n",
      " 0.49785653 0.44012572 0.43526715 0.45727347 0.44584164 0.43926837\n",
      " 0.46699052 0.46784796 0.4541297  0.47099164 0.4755644  0.49128317\n",
      " 0.52043439 0.50300082 0.5258645  0.51386103 0.46384675 0.48270929\n",
      " 0.45155756 0.46241777 0.42297796 0.42297796 0.42297796 0.42240634\n",
      " 0.44012572 0.42097736 0.40525858 0.41726205 0.42869388 0.50414399\n",
      " 0.51443266 0.4972849  0.46870531 0.44584164 0.42755072 0.39011143\n",
      " 0.37725062 0.37725062 0.37667899 0.40011429 0.40240062 0.40011429\n",
      " 0.41154613 0.39211204 0.39382675 0.4004001  0.40868817 0.40954552\n",
      " 0.40583021 0.41040296 0.4109745  0.43069449 0.42583592 0.43383817\n",
      " 0.43412399 0.42640755 0.43783939 0.41384095 0.41345379 0.41058049\n",
      " 0.40602666 0.400511   0.39453411 0.38839811]\n",
      "7 day output [[0.38226774]]\n",
      "8 day input [0.35953123 0.36724776 0.36038867 0.3735353  0.38239491 0.39497\n",
      " 0.39411256 0.48585307 0.47442123 0.49699909 0.54587021 0.55444409\n",
      " 0.54872817 0.52472133 0.52500714 0.50300082 0.52529287 0.49842807\n",
      " 0.50300082 0.50528715 0.49614174 0.48585307 0.49585592 0.48013715\n",
      " 0.51786225 0.54044011 0.60160042 0.64589878 0.64818512 0.55987419\n",
      " 0.57159184 0.5527293  0.49214061 0.49214061 0.52729348 0.49785653\n",
      " 0.44012572 0.43526715 0.45727347 0.44584164 0.43926837 0.46699052\n",
      " 0.46784796 0.4541297  0.47099164 0.4755644  0.49128317 0.52043439\n",
      " 0.50300082 0.5258645  0.51386103 0.46384675 0.48270929 0.45155756\n",
      " 0.46241777 0.42297796 0.42297796 0.42297796 0.42240634 0.44012572\n",
      " 0.42097736 0.40525858 0.41726205 0.42869388 0.50414399 0.51443266\n",
      " 0.4972849  0.46870531 0.44584164 0.42755072 0.39011143 0.37725062\n",
      " 0.37725062 0.37667899 0.40011429 0.40240062 0.40011429 0.41154613\n",
      " 0.39211204 0.39382675 0.4004001  0.40868817 0.40954552 0.40583021\n",
      " 0.41040296 0.4109745  0.43069449 0.42583592 0.43383817 0.43412399\n",
      " 0.42640755 0.43783939 0.41384095 0.41345379 0.41058049 0.40602666\n",
      " 0.400511   0.39453411 0.38839811 0.38226774]\n",
      "8 day output [[0.37622768]]\n",
      "9 day input [0.36724776 0.36038867 0.3735353  0.38239491 0.39497    0.39411256\n",
      " 0.48585307 0.47442123 0.49699909 0.54587021 0.55444409 0.54872817\n",
      " 0.52472133 0.52500714 0.50300082 0.52529287 0.49842807 0.50300082\n",
      " 0.50528715 0.49614174 0.48585307 0.49585592 0.48013715 0.51786225\n",
      " 0.54044011 0.60160042 0.64589878 0.64818512 0.55987419 0.57159184\n",
      " 0.5527293  0.49214061 0.49214061 0.52729348 0.49785653 0.44012572\n",
      " 0.43526715 0.45727347 0.44584164 0.43926837 0.46699052 0.46784796\n",
      " 0.4541297  0.47099164 0.4755644  0.49128317 0.52043439 0.50300082\n",
      " 0.5258645  0.51386103 0.46384675 0.48270929 0.45155756 0.46241777\n",
      " 0.42297796 0.42297796 0.42297796 0.42240634 0.44012572 0.42097736\n",
      " 0.40525858 0.41726205 0.42869388 0.50414399 0.51443266 0.4972849\n",
      " 0.46870531 0.44584164 0.42755072 0.39011143 0.37725062 0.37725062\n",
      " 0.37667899 0.40011429 0.40240062 0.40011429 0.41154613 0.39211204\n",
      " 0.39382675 0.4004001  0.40868817 0.40954552 0.40583021 0.41040296\n",
      " 0.4109745  0.43069449 0.42583592 0.43383817 0.43412399 0.42640755\n",
      " 0.43783939 0.41384095 0.41345379 0.41058049 0.40602666 0.400511\n",
      " 0.39453411 0.38839811 0.38226774 0.37622768]\n",
      "9 day output [[0.37032002]]\n",
      "10 day input [0.36038867 0.3735353  0.38239491 0.39497    0.39411256 0.48585307\n",
      " 0.47442123 0.49699909 0.54587021 0.55444409 0.54872817 0.52472133\n",
      " 0.52500714 0.50300082 0.52529287 0.49842807 0.50300082 0.50528715\n",
      " 0.49614174 0.48585307 0.49585592 0.48013715 0.51786225 0.54044011\n",
      " 0.60160042 0.64589878 0.64818512 0.55987419 0.57159184 0.5527293\n",
      " 0.49214061 0.49214061 0.52729348 0.49785653 0.44012572 0.43526715\n",
      " 0.45727347 0.44584164 0.43926837 0.46699052 0.46784796 0.4541297\n",
      " 0.47099164 0.4755644  0.49128317 0.52043439 0.50300082 0.5258645\n",
      " 0.51386103 0.46384675 0.48270929 0.45155756 0.46241777 0.42297796\n",
      " 0.42297796 0.42297796 0.42240634 0.44012572 0.42097736 0.40525858\n",
      " 0.41726205 0.42869388 0.50414399 0.51443266 0.4972849  0.46870531\n",
      " 0.44584164 0.42755072 0.39011143 0.37725062 0.37725062 0.37667899\n",
      " 0.40011429 0.40240062 0.40011429 0.41154613 0.39211204 0.39382675\n",
      " 0.4004001  0.40868817 0.40954552 0.40583021 0.41040296 0.4109745\n",
      " 0.43069449 0.42583592 0.43383817 0.43412399 0.42640755 0.43783939\n",
      " 0.41384095 0.41345379 0.41058049 0.40602666 0.400511   0.39453411\n",
      " 0.38839811 0.38226774 0.37622768 0.37032002]\n",
      "10 day output [[0.36456552]]\n",
      "11 day input [0.3735353  0.38239491 0.39497    0.39411256 0.48585307 0.47442123\n",
      " 0.49699909 0.54587021 0.55444409 0.54872817 0.52472133 0.52500714\n",
      " 0.50300082 0.52529287 0.49842807 0.50300082 0.50528715 0.49614174\n",
      " 0.48585307 0.49585592 0.48013715 0.51786225 0.54044011 0.60160042\n",
      " 0.64589878 0.64818512 0.55987419 0.57159184 0.5527293  0.49214061\n",
      " 0.49214061 0.52729348 0.49785653 0.44012572 0.43526715 0.45727347\n",
      " 0.44584164 0.43926837 0.46699052 0.46784796 0.4541297  0.47099164\n",
      " 0.4755644  0.49128317 0.52043439 0.50300082 0.5258645  0.51386103\n",
      " 0.46384675 0.48270929 0.45155756 0.46241777 0.42297796 0.42297796\n",
      " 0.42297796 0.42240634 0.44012572 0.42097736 0.40525858 0.41726205\n",
      " 0.42869388 0.50414399 0.51443266 0.4972849  0.46870531 0.44584164\n",
      " 0.42755072 0.39011143 0.37725062 0.37725062 0.37667899 0.40011429\n",
      " 0.40240062 0.40011429 0.41154613 0.39211204 0.39382675 0.4004001\n",
      " 0.40868817 0.40954552 0.40583021 0.41040296 0.4109745  0.43069449\n",
      " 0.42583592 0.43383817 0.43412399 0.42640755 0.43783939 0.41384095\n",
      " 0.41345379 0.41058049 0.40602666 0.400511   0.39453411 0.38839811\n",
      " 0.38226774 0.37622768 0.37032002 0.36456552]\n",
      "11 day output [[0.35897326]]\n",
      "12 day input [0.38239491 0.39497    0.39411256 0.48585307 0.47442123 0.49699909\n",
      " 0.54587021 0.55444409 0.54872817 0.52472133 0.52500714 0.50300082\n",
      " 0.52529287 0.49842807 0.50300082 0.50528715 0.49614174 0.48585307\n",
      " 0.49585592 0.48013715 0.51786225 0.54044011 0.60160042 0.64589878\n",
      " 0.64818512 0.55987419 0.57159184 0.5527293  0.49214061 0.49214061\n",
      " 0.52729348 0.49785653 0.44012572 0.43526715 0.45727347 0.44584164\n",
      " 0.43926837 0.46699052 0.46784796 0.4541297  0.47099164 0.4755644\n",
      " 0.49128317 0.52043439 0.50300082 0.5258645  0.51386103 0.46384675\n",
      " 0.48270929 0.45155756 0.46241777 0.42297796 0.42297796 0.42297796\n",
      " 0.42240634 0.44012572 0.42097736 0.40525858 0.41726205 0.42869388\n",
      " 0.50414399 0.51443266 0.4972849  0.46870531 0.44584164 0.42755072\n",
      " 0.39011143 0.37725062 0.37725062 0.37667899 0.40011429 0.40240062\n",
      " 0.40011429 0.41154613 0.39211204 0.39382675 0.4004001  0.40868817\n",
      " 0.40954552 0.40583021 0.41040296 0.4109745  0.43069449 0.42583592\n",
      " 0.43383817 0.43412399 0.42640755 0.43783939 0.41384095 0.41345379\n",
      " 0.41058049 0.40602666 0.400511   0.39453411 0.38839811 0.38226774\n",
      " 0.37622768 0.37032002 0.36456552 0.35897326]\n",
      "12 day output [[0.35354596]]\n",
      "13 day input [0.39497    0.39411256 0.48585307 0.47442123 0.49699909 0.54587021\n",
      " 0.55444409 0.54872817 0.52472133 0.52500714 0.50300082 0.52529287\n",
      " 0.49842807 0.50300082 0.50528715 0.49614174 0.48585307 0.49585592\n",
      " 0.48013715 0.51786225 0.54044011 0.60160042 0.64589878 0.64818512\n",
      " 0.55987419 0.57159184 0.5527293  0.49214061 0.49214061 0.52729348\n",
      " 0.49785653 0.44012572 0.43526715 0.45727347 0.44584164 0.43926837\n",
      " 0.46699052 0.46784796 0.4541297  0.47099164 0.4755644  0.49128317\n",
      " 0.52043439 0.50300082 0.5258645  0.51386103 0.46384675 0.48270929\n",
      " 0.45155756 0.46241777 0.42297796 0.42297796 0.42297796 0.42240634\n",
      " 0.44012572 0.42097736 0.40525858 0.41726205 0.42869388 0.50414399\n",
      " 0.51443266 0.4972849  0.46870531 0.44584164 0.42755072 0.39011143\n",
      " 0.37725062 0.37725062 0.37667899 0.40011429 0.40240062 0.40011429\n",
      " 0.41154613 0.39211204 0.39382675 0.4004001  0.40868817 0.40954552\n",
      " 0.40583021 0.41040296 0.4109745  0.43069449 0.42583592 0.43383817\n",
      " 0.43412399 0.42640755 0.43783939 0.41384095 0.41345379 0.41058049\n",
      " 0.40602666 0.400511   0.39453411 0.38839811 0.38226774 0.37622768\n",
      " 0.37032002 0.36456552 0.35897326 0.35354596]\n",
      "13 day output [[0.34828064]]\n",
      "14 day input [0.39411256 0.48585307 0.47442123 0.49699909 0.54587021 0.55444409\n",
      " 0.54872817 0.52472133 0.52500714 0.50300082 0.52529287 0.49842807\n",
      " 0.50300082 0.50528715 0.49614174 0.48585307 0.49585592 0.48013715\n",
      " 0.51786225 0.54044011 0.60160042 0.64589878 0.64818512 0.55987419\n",
      " 0.57159184 0.5527293  0.49214061 0.49214061 0.52729348 0.49785653\n",
      " 0.44012572 0.43526715 0.45727347 0.44584164 0.43926837 0.46699052\n",
      " 0.46784796 0.4541297  0.47099164 0.4755644  0.49128317 0.52043439\n",
      " 0.50300082 0.5258645  0.51386103 0.46384675 0.48270929 0.45155756\n",
      " 0.46241777 0.42297796 0.42297796 0.42297796 0.42240634 0.44012572\n",
      " 0.42097736 0.40525858 0.41726205 0.42869388 0.50414399 0.51443266\n",
      " 0.4972849  0.46870531 0.44584164 0.42755072 0.39011143 0.37725062\n",
      " 0.37725062 0.37667899 0.40011429 0.40240062 0.40011429 0.41154613\n",
      " 0.39211204 0.39382675 0.4004001  0.40868817 0.40954552 0.40583021\n",
      " 0.41040296 0.4109745  0.43069449 0.42583592 0.43383817 0.43412399\n",
      " 0.42640755 0.43783939 0.41384095 0.41345379 0.41058049 0.40602666\n",
      " 0.400511   0.39453411 0.38839811 0.38226774 0.37622768 0.37032002\n",
      " 0.36456552 0.35897326 0.35354596 0.34828064]\n",
      "14 day output [[0.3431706]]\n",
      "15 day input [0.48585307 0.47442123 0.49699909 0.54587021 0.55444409 0.54872817\n",
      " 0.52472133 0.52500714 0.50300082 0.52529287 0.49842807 0.50300082\n",
      " 0.50528715 0.49614174 0.48585307 0.49585592 0.48013715 0.51786225\n",
      " 0.54044011 0.60160042 0.64589878 0.64818512 0.55987419 0.57159184\n",
      " 0.5527293  0.49214061 0.49214061 0.52729348 0.49785653 0.44012572\n",
      " 0.43526715 0.45727347 0.44584164 0.43926837 0.46699052 0.46784796\n",
      " 0.4541297  0.47099164 0.4755644  0.49128317 0.52043439 0.50300082\n",
      " 0.5258645  0.51386103 0.46384675 0.48270929 0.45155756 0.46241777\n",
      " 0.42297796 0.42297796 0.42297796 0.42240634 0.44012572 0.42097736\n",
      " 0.40525858 0.41726205 0.42869388 0.50414399 0.51443266 0.4972849\n",
      " 0.46870531 0.44584164 0.42755072 0.39011143 0.37725062 0.37725062\n",
      " 0.37667899 0.40011429 0.40240062 0.40011429 0.41154613 0.39211204\n",
      " 0.39382675 0.4004001  0.40868817 0.40954552 0.40583021 0.41040296\n",
      " 0.4109745  0.43069449 0.42583592 0.43383817 0.43412399 0.42640755\n",
      " 0.43783939 0.41384095 0.41345379 0.41058049 0.40602666 0.400511\n",
      " 0.39453411 0.38839811 0.38226774 0.37622768 0.37032002 0.36456552\n",
      " 0.35897326 0.35354596 0.34828064 0.34317061]\n",
      "15 day output [[0.33820596]]\n",
      "16 day input [0.47442123 0.49699909 0.54587021 0.55444409 0.54872817 0.52472133\n",
      " 0.52500714 0.50300082 0.52529287 0.49842807 0.50300082 0.50528715\n",
      " 0.49614174 0.48585307 0.49585592 0.48013715 0.51786225 0.54044011\n",
      " 0.60160042 0.64589878 0.64818512 0.55987419 0.57159184 0.5527293\n",
      " 0.49214061 0.49214061 0.52729348 0.49785653 0.44012572 0.43526715\n",
      " 0.45727347 0.44584164 0.43926837 0.46699052 0.46784796 0.4541297\n",
      " 0.47099164 0.4755644  0.49128317 0.52043439 0.50300082 0.5258645\n",
      " 0.51386103 0.46384675 0.48270929 0.45155756 0.46241777 0.42297796\n",
      " 0.42297796 0.42297796 0.42240634 0.44012572 0.42097736 0.40525858\n",
      " 0.41726205 0.42869388 0.50414399 0.51443266 0.4972849  0.46870531\n",
      " 0.44584164 0.42755072 0.39011143 0.37725062 0.37725062 0.37667899\n",
      " 0.40011429 0.40240062 0.40011429 0.41154613 0.39211204 0.39382675\n",
      " 0.4004001  0.40868817 0.40954552 0.40583021 0.41040296 0.4109745\n",
      " 0.43069449 0.42583592 0.43383817 0.43412399 0.42640755 0.43783939\n",
      " 0.41384095 0.41345379 0.41058049 0.40602666 0.400511   0.39453411\n",
      " 0.38839811 0.38226774 0.37622768 0.37032002 0.36456552 0.35897326\n",
      " 0.35354596 0.34828064 0.34317061 0.33820596]\n",
      "16 day output [[0.333375]]\n",
      "17 day input [0.49699909 0.54587021 0.55444409 0.54872817 0.52472133 0.52500714\n",
      " 0.50300082 0.52529287 0.49842807 0.50300082 0.50528715 0.49614174\n",
      " 0.48585307 0.49585592 0.48013715 0.51786225 0.54044011 0.60160042\n",
      " 0.64589878 0.64818512 0.55987419 0.57159184 0.5527293  0.49214061\n",
      " 0.49214061 0.52729348 0.49785653 0.44012572 0.43526715 0.45727347\n",
      " 0.44584164 0.43926837 0.46699052 0.46784796 0.4541297  0.47099164\n",
      " 0.4755644  0.49128317 0.52043439 0.50300082 0.5258645  0.51386103\n",
      " 0.46384675 0.48270929 0.45155756 0.46241777 0.42297796 0.42297796\n",
      " 0.42297796 0.42240634 0.44012572 0.42097736 0.40525858 0.41726205\n",
      " 0.42869388 0.50414399 0.51443266 0.4972849  0.46870531 0.44584164\n",
      " 0.42755072 0.39011143 0.37725062 0.37725062 0.37667899 0.40011429\n",
      " 0.40240062 0.40011429 0.41154613 0.39211204 0.39382675 0.4004001\n",
      " 0.40868817 0.40954552 0.40583021 0.41040296 0.4109745  0.43069449\n",
      " 0.42583592 0.43383817 0.43412399 0.42640755 0.43783939 0.41384095\n",
      " 0.41345379 0.41058049 0.40602666 0.400511   0.39453411 0.38839811\n",
      " 0.38226774 0.37622768 0.37032002 0.36456552 0.35897326 0.35354596\n",
      " 0.34828064 0.34317061 0.33820596 0.33337501]\n",
      "17 day output [[0.32866514]]\n",
      "18 day input [0.54587021 0.55444409 0.54872817 0.52472133 0.52500714 0.50300082\n",
      " 0.52529287 0.49842807 0.50300082 0.50528715 0.49614174 0.48585307\n",
      " 0.49585592 0.48013715 0.51786225 0.54044011 0.60160042 0.64589878\n",
      " 0.64818512 0.55987419 0.57159184 0.5527293  0.49214061 0.49214061\n",
      " 0.52729348 0.49785653 0.44012572 0.43526715 0.45727347 0.44584164\n",
      " 0.43926837 0.46699052 0.46784796 0.4541297  0.47099164 0.4755644\n",
      " 0.49128317 0.52043439 0.50300082 0.5258645  0.51386103 0.46384675\n",
      " 0.48270929 0.45155756 0.46241777 0.42297796 0.42297796 0.42297796\n",
      " 0.42240634 0.44012572 0.42097736 0.40525858 0.41726205 0.42869388\n",
      " 0.50414399 0.51443266 0.4972849  0.46870531 0.44584164 0.42755072\n",
      " 0.39011143 0.37725062 0.37725062 0.37667899 0.40011429 0.40240062\n",
      " 0.40011429 0.41154613 0.39211204 0.39382675 0.4004001  0.40868817\n",
      " 0.40954552 0.40583021 0.41040296 0.4109745  0.43069449 0.42583592\n",
      " 0.43383817 0.43412399 0.42640755 0.43783939 0.41384095 0.41345379\n",
      " 0.41058049 0.40602666 0.400511   0.39453411 0.38839811 0.38226774\n",
      " 0.37622768 0.37032002 0.36456552 0.35897326 0.35354596 0.34828064\n",
      " 0.34317061 0.33820596 0.33337501 0.32866514]\n",
      "18 day output [[0.3240643]]\n",
      "19 day input [0.55444409 0.54872817 0.52472133 0.52500714 0.50300082 0.52529287\n",
      " 0.49842807 0.50300082 0.50528715 0.49614174 0.48585307 0.49585592\n",
      " 0.48013715 0.51786225 0.54044011 0.60160042 0.64589878 0.64818512\n",
      " 0.55987419 0.57159184 0.5527293  0.49214061 0.49214061 0.52729348\n",
      " 0.49785653 0.44012572 0.43526715 0.45727347 0.44584164 0.43926837\n",
      " 0.46699052 0.46784796 0.4541297  0.47099164 0.4755644  0.49128317\n",
      " 0.52043439 0.50300082 0.5258645  0.51386103 0.46384675 0.48270929\n",
      " 0.45155756 0.46241777 0.42297796 0.42297796 0.42297796 0.42240634\n",
      " 0.44012572 0.42097736 0.40525858 0.41726205 0.42869388 0.50414399\n",
      " 0.51443266 0.4972849  0.46870531 0.44584164 0.42755072 0.39011143\n",
      " 0.37725062 0.37725062 0.37667899 0.40011429 0.40240062 0.40011429\n",
      " 0.41154613 0.39211204 0.39382675 0.4004001  0.40868817 0.40954552\n",
      " 0.40583021 0.41040296 0.4109745  0.43069449 0.42583592 0.43383817\n",
      " 0.43412399 0.42640755 0.43783939 0.41384095 0.41345379 0.41058049\n",
      " 0.40602666 0.400511   0.39453411 0.38839811 0.38226774 0.37622768\n",
      " 0.37032002 0.36456552 0.35897326 0.35354596 0.34828064 0.34317061\n",
      " 0.33820596 0.33337501 0.32866514 0.32406431]\n",
      "19 day output [[0.31956133]]\n",
      "20 day input [0.54872817 0.52472133 0.52500714 0.50300082 0.52529287 0.49842807\n",
      " 0.50300082 0.50528715 0.49614174 0.48585307 0.49585592 0.48013715\n",
      " 0.51786225 0.54044011 0.60160042 0.64589878 0.64818512 0.55987419\n",
      " 0.57159184 0.5527293  0.49214061 0.49214061 0.52729348 0.49785653\n",
      " 0.44012572 0.43526715 0.45727347 0.44584164 0.43926837 0.46699052\n",
      " 0.46784796 0.4541297  0.47099164 0.4755644  0.49128317 0.52043439\n",
      " 0.50300082 0.5258645  0.51386103 0.46384675 0.48270929 0.45155756\n",
      " 0.46241777 0.42297796 0.42297796 0.42297796 0.42240634 0.44012572\n",
      " 0.42097736 0.40525858 0.41726205 0.42869388 0.50414399 0.51443266\n",
      " 0.4972849  0.46870531 0.44584164 0.42755072 0.39011143 0.37725062\n",
      " 0.37725062 0.37667899 0.40011429 0.40240062 0.40011429 0.41154613\n",
      " 0.39211204 0.39382675 0.4004001  0.40868817 0.40954552 0.40583021\n",
      " 0.41040296 0.4109745  0.43069449 0.42583592 0.43383817 0.43412399\n",
      " 0.42640755 0.43783939 0.41384095 0.41345379 0.41058049 0.40602666\n",
      " 0.400511   0.39453411 0.38839811 0.38226774 0.37622768 0.37032002\n",
      " 0.36456552 0.35897326 0.35354596 0.34828064 0.34317061 0.33820596\n",
      " 0.33337501 0.32866514 0.32406431 0.31956133]\n",
      "20 day output [[0.3151467]]\n",
      "21 day input [0.52472133 0.52500714 0.50300082 0.52529287 0.49842807 0.50300082\n",
      " 0.50528715 0.49614174 0.48585307 0.49585592 0.48013715 0.51786225\n",
      " 0.54044011 0.60160042 0.64589878 0.64818512 0.55987419 0.57159184\n",
      " 0.5527293  0.49214061 0.49214061 0.52729348 0.49785653 0.44012572\n",
      " 0.43526715 0.45727347 0.44584164 0.43926837 0.46699052 0.46784796\n",
      " 0.4541297  0.47099164 0.4755644  0.49128317 0.52043439 0.50300082\n",
      " 0.5258645  0.51386103 0.46384675 0.48270929 0.45155756 0.46241777\n",
      " 0.42297796 0.42297796 0.42297796 0.42240634 0.44012572 0.42097736\n",
      " 0.40525858 0.41726205 0.42869388 0.50414399 0.51443266 0.4972849\n",
      " 0.46870531 0.44584164 0.42755072 0.39011143 0.37725062 0.37725062\n",
      " 0.37667899 0.40011429 0.40240062 0.40011429 0.41154613 0.39211204\n",
      " 0.39382675 0.4004001  0.40868817 0.40954552 0.40583021 0.41040296\n",
      " 0.4109745  0.43069449 0.42583592 0.43383817 0.43412399 0.42640755\n",
      " 0.43783939 0.41384095 0.41345379 0.41058049 0.40602666 0.400511\n",
      " 0.39453411 0.38839811 0.38226774 0.37622768 0.37032002 0.36456552\n",
      " 0.35897326 0.35354596 0.34828064 0.34317061 0.33820596 0.33337501\n",
      " 0.32866514 0.32406431 0.31956133 0.31514671]\n",
      "21 day output [[0.31081334]]\n",
      "22 day input [0.52500714 0.50300082 0.52529287 0.49842807 0.50300082 0.50528715\n",
      " 0.49614174 0.48585307 0.49585592 0.48013715 0.51786225 0.54044011\n",
      " 0.60160042 0.64589878 0.64818512 0.55987419 0.57159184 0.5527293\n",
      " 0.49214061 0.49214061 0.52729348 0.49785653 0.44012572 0.43526715\n",
      " 0.45727347 0.44584164 0.43926837 0.46699052 0.46784796 0.4541297\n",
      " 0.47099164 0.4755644  0.49128317 0.52043439 0.50300082 0.5258645\n",
      " 0.51386103 0.46384675 0.48270929 0.45155756 0.46241777 0.42297796\n",
      " 0.42297796 0.42297796 0.42240634 0.44012572 0.42097736 0.40525858\n",
      " 0.41726205 0.42869388 0.50414399 0.51443266 0.4972849  0.46870531\n",
      " 0.44584164 0.42755072 0.39011143 0.37725062 0.37725062 0.37667899\n",
      " 0.40011429 0.40240062 0.40011429 0.41154613 0.39211204 0.39382675\n",
      " 0.4004001  0.40868817 0.40954552 0.40583021 0.41040296 0.4109745\n",
      " 0.43069449 0.42583592 0.43383817 0.43412399 0.42640755 0.43783939\n",
      " 0.41384095 0.41345379 0.41058049 0.40602666 0.400511   0.39453411\n",
      " 0.38839811 0.38226774 0.37622768 0.37032002 0.36456552 0.35897326\n",
      " 0.35354596 0.34828064 0.34317061 0.33820596 0.33337501 0.32866514\n",
      " 0.32406431 0.31956133 0.31514671 0.31081334]\n",
      "22 day output [[0.30655622]]\n",
      "23 day input [0.50300082 0.52529287 0.49842807 0.50300082 0.50528715 0.49614174\n",
      " 0.48585307 0.49585592 0.48013715 0.51786225 0.54044011 0.60160042\n",
      " 0.64589878 0.64818512 0.55987419 0.57159184 0.5527293  0.49214061\n",
      " 0.49214061 0.52729348 0.49785653 0.44012572 0.43526715 0.45727347\n",
      " 0.44584164 0.43926837 0.46699052 0.46784796 0.4541297  0.47099164\n",
      " 0.4755644  0.49128317 0.52043439 0.50300082 0.5258645  0.51386103\n",
      " 0.46384675 0.48270929 0.45155756 0.46241777 0.42297796 0.42297796\n",
      " 0.42297796 0.42240634 0.44012572 0.42097736 0.40525858 0.41726205\n",
      " 0.42869388 0.50414399 0.51443266 0.4972849  0.46870531 0.44584164\n",
      " 0.42755072 0.39011143 0.37725062 0.37725062 0.37667899 0.40011429\n",
      " 0.40240062 0.40011429 0.41154613 0.39211204 0.39382675 0.4004001\n",
      " 0.40868817 0.40954552 0.40583021 0.41040296 0.4109745  0.43069449\n",
      " 0.42583592 0.43383817 0.43412399 0.42640755 0.43783939 0.41384095\n",
      " 0.41345379 0.41058049 0.40602666 0.400511   0.39453411 0.38839811\n",
      " 0.38226774 0.37622768 0.37032002 0.36456552 0.35897326 0.35354596\n",
      " 0.34828064 0.34317061 0.33820596 0.33337501 0.32866514 0.32406431\n",
      " 0.31956133 0.31514671 0.31081334 0.30655622]\n",
      "23 day output [[0.3023729]]\n",
      "24 day input [0.52529287 0.49842807 0.50300082 0.50528715 0.49614174 0.48585307\n",
      " 0.49585592 0.48013715 0.51786225 0.54044011 0.60160042 0.64589878\n",
      " 0.64818512 0.55987419 0.57159184 0.5527293  0.49214061 0.49214061\n",
      " 0.52729348 0.49785653 0.44012572 0.43526715 0.45727347 0.44584164\n",
      " 0.43926837 0.46699052 0.46784796 0.4541297  0.47099164 0.4755644\n",
      " 0.49128317 0.52043439 0.50300082 0.5258645  0.51386103 0.46384675\n",
      " 0.48270929 0.45155756 0.46241777 0.42297796 0.42297796 0.42297796\n",
      " 0.42240634 0.44012572 0.42097736 0.40525858 0.41726205 0.42869388\n",
      " 0.50414399 0.51443266 0.4972849  0.46870531 0.44584164 0.42755072\n",
      " 0.39011143 0.37725062 0.37725062 0.37667899 0.40011429 0.40240062\n",
      " 0.40011429 0.41154613 0.39211204 0.39382675 0.4004001  0.40868817\n",
      " 0.40954552 0.40583021 0.41040296 0.4109745  0.43069449 0.42583592\n",
      " 0.43383817 0.43412399 0.42640755 0.43783939 0.41384095 0.41345379\n",
      " 0.41058049 0.40602666 0.400511   0.39453411 0.38839811 0.38226774\n",
      " 0.37622768 0.37032002 0.36456552 0.35897326 0.35354596 0.34828064\n",
      " 0.34317061 0.33820596 0.33337501 0.32866514 0.32406431 0.31956133\n",
      " 0.31514671 0.31081334 0.30655622 0.3023729 ]\n",
      "24 day output [[0.2982628]]\n",
      "25 day input [0.49842807 0.50300082 0.50528715 0.49614174 0.48585307 0.49585592\n",
      " 0.48013715 0.51786225 0.54044011 0.60160042 0.64589878 0.64818512\n",
      " 0.55987419 0.57159184 0.5527293  0.49214061 0.49214061 0.52729348\n",
      " 0.49785653 0.44012572 0.43526715 0.45727347 0.44584164 0.43926837\n",
      " 0.46699052 0.46784796 0.4541297  0.47099164 0.4755644  0.49128317\n",
      " 0.52043439 0.50300082 0.5258645  0.51386103 0.46384675 0.48270929\n",
      " 0.45155756 0.46241777 0.42297796 0.42297796 0.42297796 0.42240634\n",
      " 0.44012572 0.42097736 0.40525858 0.41726205 0.42869388 0.50414399\n",
      " 0.51443266 0.4972849  0.46870531 0.44584164 0.42755072 0.39011143\n",
      " 0.37725062 0.37725062 0.37667899 0.40011429 0.40240062 0.40011429\n",
      " 0.41154613 0.39211204 0.39382675 0.4004001  0.40868817 0.40954552\n",
      " 0.40583021 0.41040296 0.4109745  0.43069449 0.42583592 0.43383817\n",
      " 0.43412399 0.42640755 0.43783939 0.41384095 0.41345379 0.41058049\n",
      " 0.40602666 0.400511   0.39453411 0.38839811 0.38226774 0.37622768\n",
      " 0.37032002 0.36456552 0.35897326 0.35354596 0.34828064 0.34317061\n",
      " 0.33820596 0.33337501 0.32866514 0.32406431 0.31956133 0.31514671\n",
      " 0.31081334 0.30655622 0.3023729  0.2982628 ]\n",
      "25 day output [[0.29422745]]\n",
      "26 day input [0.50300082 0.50528715 0.49614174 0.48585307 0.49585592 0.48013715\n",
      " 0.51786225 0.54044011 0.60160042 0.64589878 0.64818512 0.55987419\n",
      " 0.57159184 0.5527293  0.49214061 0.49214061 0.52729348 0.49785653\n",
      " 0.44012572 0.43526715 0.45727347 0.44584164 0.43926837 0.46699052\n",
      " 0.46784796 0.4541297  0.47099164 0.4755644  0.49128317 0.52043439\n",
      " 0.50300082 0.5258645  0.51386103 0.46384675 0.48270929 0.45155756\n",
      " 0.46241777 0.42297796 0.42297796 0.42297796 0.42240634 0.44012572\n",
      " 0.42097736 0.40525858 0.41726205 0.42869388 0.50414399 0.51443266\n",
      " 0.4972849  0.46870531 0.44584164 0.42755072 0.39011143 0.37725062\n",
      " 0.37725062 0.37667899 0.40011429 0.40240062 0.40011429 0.41154613\n",
      " 0.39211204 0.39382675 0.4004001  0.40868817 0.40954552 0.40583021\n",
      " 0.41040296 0.4109745  0.43069449 0.42583592 0.43383817 0.43412399\n",
      " 0.42640755 0.43783939 0.41384095 0.41345379 0.41058049 0.40602666\n",
      " 0.400511   0.39453411 0.38839811 0.38226774 0.37622768 0.37032002\n",
      " 0.36456552 0.35897326 0.35354596 0.34828064 0.34317061 0.33820596\n",
      " 0.33337501 0.32866514 0.32406431 0.31956133 0.31514671 0.31081334\n",
      " 0.30655622 0.3023729  0.2982628  0.29422745]\n",
      "26 day output [[0.29027033]]\n",
      "27 day input [0.50528715 0.49614174 0.48585307 0.49585592 0.48013715 0.51786225\n",
      " 0.54044011 0.60160042 0.64589878 0.64818512 0.55987419 0.57159184\n",
      " 0.5527293  0.49214061 0.49214061 0.52729348 0.49785653 0.44012572\n",
      " 0.43526715 0.45727347 0.44584164 0.43926837 0.46699052 0.46784796\n",
      " 0.4541297  0.47099164 0.4755644  0.49128317 0.52043439 0.50300082\n",
      " 0.5258645  0.51386103 0.46384675 0.48270929 0.45155756 0.46241777\n",
      " 0.42297796 0.42297796 0.42297796 0.42240634 0.44012572 0.42097736\n",
      " 0.40525858 0.41726205 0.42869388 0.50414399 0.51443266 0.4972849\n",
      " 0.46870531 0.44584164 0.42755072 0.39011143 0.37725062 0.37725062\n",
      " 0.37667899 0.40011429 0.40240062 0.40011429 0.41154613 0.39211204\n",
      " 0.39382675 0.4004001  0.40868817 0.40954552 0.40583021 0.41040296\n",
      " 0.4109745  0.43069449 0.42583592 0.43383817 0.43412399 0.42640755\n",
      " 0.43783939 0.41384095 0.41345379 0.41058049 0.40602666 0.400511\n",
      " 0.39453411 0.38839811 0.38226774 0.37622768 0.37032002 0.36456552\n",
      " 0.35897326 0.35354596 0.34828064 0.34317061 0.33820596 0.33337501\n",
      " 0.32866514 0.32406431 0.31956133 0.31514671 0.31081334 0.30655622\n",
      " 0.3023729  0.2982628  0.29422745 0.29027033]\n",
      "27 day output [[0.2863958]]\n",
      "28 day input [0.49614174 0.48585307 0.49585592 0.48013715 0.51786225 0.54044011\n",
      " 0.60160042 0.64589878 0.64818512 0.55987419 0.57159184 0.5527293\n",
      " 0.49214061 0.49214061 0.52729348 0.49785653 0.44012572 0.43526715\n",
      " 0.45727347 0.44584164 0.43926837 0.46699052 0.46784796 0.4541297\n",
      " 0.47099164 0.4755644  0.49128317 0.52043439 0.50300082 0.5258645\n",
      " 0.51386103 0.46384675 0.48270929 0.45155756 0.46241777 0.42297796\n",
      " 0.42297796 0.42297796 0.42240634 0.44012572 0.42097736 0.40525858\n",
      " 0.41726205 0.42869388 0.50414399 0.51443266 0.4972849  0.46870531\n",
      " 0.44584164 0.42755072 0.39011143 0.37725062 0.37725062 0.37667899\n",
      " 0.40011429 0.40240062 0.40011429 0.41154613 0.39211204 0.39382675\n",
      " 0.4004001  0.40868817 0.40954552 0.40583021 0.41040296 0.4109745\n",
      " 0.43069449 0.42583592 0.43383817 0.43412399 0.42640755 0.43783939\n",
      " 0.41384095 0.41345379 0.41058049 0.40602666 0.400511   0.39453411\n",
      " 0.38839811 0.38226774 0.37622768 0.37032002 0.36456552 0.35897326\n",
      " 0.35354596 0.34828064 0.34317061 0.33820596 0.33337501 0.32866514\n",
      " 0.32406431 0.31956133 0.31514671 0.31081334 0.30655622 0.3023729\n",
      " 0.2982628  0.29422745 0.29027033 0.28639579]\n",
      "28 day output [[0.28260922]]\n",
      "29 day input [0.48585307 0.49585592 0.48013715 0.51786225 0.54044011 0.60160042\n",
      " 0.64589878 0.64818512 0.55987419 0.57159184 0.5527293  0.49214061\n",
      " 0.49214061 0.52729348 0.49785653 0.44012572 0.43526715 0.45727347\n",
      " 0.44584164 0.43926837 0.46699052 0.46784796 0.4541297  0.47099164\n",
      " 0.4755644  0.49128317 0.52043439 0.50300082 0.5258645  0.51386103\n",
      " 0.46384675 0.48270929 0.45155756 0.46241777 0.42297796 0.42297796\n",
      " 0.42297796 0.42240634 0.44012572 0.42097736 0.40525858 0.41726205\n",
      " 0.42869388 0.50414399 0.51443266 0.4972849  0.46870531 0.44584164\n",
      " 0.42755072 0.39011143 0.37725062 0.37725062 0.37667899 0.40011429\n",
      " 0.40240062 0.40011429 0.41154613 0.39211204 0.39382675 0.4004001\n",
      " 0.40868817 0.40954552 0.40583021 0.41040296 0.4109745  0.43069449\n",
      " 0.42583592 0.43383817 0.43412399 0.42640755 0.43783939 0.41384095\n",
      " 0.41345379 0.41058049 0.40602666 0.400511   0.39453411 0.38839811\n",
      " 0.38226774 0.37622768 0.37032002 0.36456552 0.35897326 0.35354596\n",
      " 0.34828064 0.34317061 0.33820596 0.33337501 0.32866514 0.32406431\n",
      " 0.31956133 0.31514671 0.31081334 0.30655622 0.3023729  0.2982628\n",
      " 0.29422745 0.29027033 0.28639579 0.28260922]\n",
      "29 day output [[0.27891666]]\n",
      "[[0.4138409495353699], [0.4134537875652313], [0.41058048605918884], [0.4060266613960266], [0.4005109965801239], [0.3945341110229492], [0.38839811086654663], [0.3822677433490753], [0.3762276768684387], [0.37032002210617065], [0.36456552147865295], [0.35897326469421387], [0.3535459637641907], [0.3482806384563446], [0.3431706130504608], [0.3382059633731842], [0.3333750069141388], [0.3286651372909546], [0.32406431436538696], [0.31956133246421814], [0.31514671444892883], [0.3108133375644684], [0.30655622482299805], [0.30237290263175964], [0.2982628047466278], [0.2942274510860443], [0.2902703285217285], [0.286395788192749], [0.282609224319458], [0.2789166569709778]]\n"
     ]
    }
   ],
   "source": [
    "# demonstrate prediction for next 30 days\n",
    "from numpy import array\n",
    "\n",
    "lst_output=[]\n",
    "n_steps=100\n",
    "i=0\n",
    "while(i<30):\n",
    "    \n",
    "    if(len(temp_input)>100):\n",
    "        #print(temp_input)\n",
    "        x_input=np.array(temp_input[1:])\n",
    "        print(\"{} day input {}\".format(i,x_input))\n",
    "        x_input=x_input.reshape(1,-1)\n",
    "        x_input = x_input.reshape((1, n_steps, 1))\n",
    "        #print(x_input)\n",
    "        yhat = model.predict(x_input, verbose=0)\n",
    "        print(\"{} day output {}\".format(i,yhat))\n",
    "        temp_input.extend(yhat[0].tolist())\n",
    "        temp_input=temp_input[1:]\n",
    "        #print(temp_input)\n",
    "        lst_output.extend(yhat.tolist())\n",
    "        i=i+1\n",
    "    else:\n",
    "        x_input = x_input.reshape((1, n_steps,1))\n",
    "        yhat = model.predict(x_input, verbose=0)\n",
    "        print(yhat[0])\n",
    "        temp_input.extend(yhat[0].tolist())\n",
    "        print(len(temp_input))\n",
    "        lst_output.extend(yhat.tolist())\n",
    "        i=i+1\n",
    "    \n",
    "\n",
    "print(lst_output)"
   ]
  },
  {
   "cell_type": "code",
   "execution_count": 93,
   "metadata": {},
   "outputs": [],
   "source": [
    "day_new=np.arange(1,101)\n",
    "day_pred=np.arange(101,131)"
   ]
  },
  {
   "cell_type": "code",
   "execution_count": 94,
   "metadata": {},
   "outputs": [
    {
     "data": {
      "text/plain": [
       "(100,)"
      ]
     },
     "execution_count": 94,
     "metadata": {},
     "output_type": "execute_result"
    }
   ],
   "source": [
    "day_new.shape"
   ]
  },
  {
   "cell_type": "code",
   "execution_count": 95,
   "metadata": {},
   "outputs": [],
   "source": [
    "import matplotlib.pyplot as plt"
   ]
  },
  {
   "cell_type": "code",
   "execution_count": 96,
   "metadata": {},
   "outputs": [
    {
     "data": {
      "text/plain": [
       "1000"
      ]
     },
     "execution_count": 96,
     "metadata": {},
     "output_type": "execute_result"
    }
   ],
   "source": [
    "len(df1)"
   ]
  },
  {
   "cell_type": "code",
   "execution_count": 97,
   "metadata": {},
   "outputs": [
    {
     "data": {
      "text/plain": [
       "900"
      ]
     },
     "execution_count": 97,
     "metadata": {},
     "output_type": "execute_result"
    }
   ],
   "source": [
    "1000-100"
   ]
  },
  {
   "cell_type": "code",
   "execution_count": 98,
   "metadata": {},
   "outputs": [
    {
     "data": {
      "text/plain": [
       "[<matplotlib.lines.Line2D at 0x2780bff34c0>]"
      ]
     },
     "execution_count": 98,
     "metadata": {},
     "output_type": "execute_result"
    },
    {
     "data": {
      "image/png": "[encoded data removed]",
      "text/plain": [
       "<Figure size 432x288 with 1 Axes>"
      ]
     },
     "metadata": {
      "needs_background": "light"
     },
     "output_type": "display_data"
    }
   ],
   "source": [
    "plt.plot(day_new,scaler.inverse_transform(df1[900:]))\n",
    "plt.plot(day_pred,scaler.inverse_transform(lst_output))"
   ]
  },
  {
   "cell_type": "code",
   "execution_count": null,
   "metadata": {},
   "outputs": [],
   "source": []
  }
 ],
 "metadata": {
  "kernelspec": {
   "display_name": "Python 3",
   "language": "python",
   "name": "python3"
  },
  "language_info": {
   "codemirror_mode": {
    "name": "ipython",
    "version": 3
   },
   "file_extension": ".py",
   "mimetype": "text/x-python",
   "name": "python",
   "nbconvert_exporter": "python",
   "pygments_lexer": "ipython3",
   "version": "3.8.3"
  }
 },
 "nbformat": 4,
 "nbformat_minor": 4
}
