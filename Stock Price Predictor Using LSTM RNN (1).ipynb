{
 "cells": [
  {
   "cell_type": "code",
   "execution_count": 1,
   "metadata": {},
   "outputs": [],
   "source": [
    "import pandas_datareader.data as web\n",
    "import pandas as pd\n",
    "import numpy as np\n",
    "import datetime as dt"
   ]
  },
  {
   "cell_type": "code",
   "execution_count": 2,
   "metadata": {},
   "outputs": [],
   "source": [
    "df = web.DataReader('ITC.NS', 'yahoo', start='2018-01-01', end='2022-01-18')"
   ]
  },
  {
   "cell_type": "code",
   "execution_count": 3,
   "metadata": {},
   "outputs": [
    {
     "data": {
      "text/html": [
       "<div>\n",
       "<style scoped>\n",
       "    .dataframe tbody tr th:only-of-type {\n",
       "        vertical-align: middle;\n",
       "    }\n",
       "\n",
       "    .dataframe tbody tr th {\n",
       "        vertical-align: top;\n",
       "    }\n",
       "\n",
       "    .dataframe thead th {\n",
       "        text-align: right;\n",
       "    }\n",
       "</style>\n",
       "<table border=\"1\" class=\"dataframe\">\n",
       "  <thead>\n",
       "    <tr style=\"text-align: right;\">\n",
       "      <th></th>\n",
       "      <th>High</th>\n",
       "      <th>Low</th>\n",
       "      <th>Open</th>\n",
       "      <th>Close</th>\n",
       "      <th>Volume</th>\n",
       "      <th>Adj Close</th>\n",
       "    </tr>\n",
       "    <tr>\n",
       "      <th>Date</th>\n",
       "      <th></th>\n",
       "      <th></th>\n",
       "      <th></th>\n",
       "      <th></th>\n",
       "      <th></th>\n",
       "      <th></th>\n",
       "    </tr>\n",
       "  </thead>\n",
       "  <tbody>\n",
       "    <tr>\n",
       "      <th>2018-01-01</th>\n",
       "      <td>266.299988</td>\n",
       "      <td>261.250000</td>\n",
       "      <td>263.250000</td>\n",
       "      <td>262.299988</td>\n",
       "      <td>10461011.0</td>\n",
       "      <td>228.286209</td>\n",
       "    </tr>\n",
       "    <tr>\n",
       "      <th>2018-01-02</th>\n",
       "      <td>264.200012</td>\n",
       "      <td>260.450012</td>\n",
       "      <td>262.600006</td>\n",
       "      <td>260.750000</td>\n",
       "      <td>5688384.0</td>\n",
       "      <td>226.937210</td>\n",
       "    </tr>\n",
       "    <tr>\n",
       "      <th>2018-01-03</th>\n",
       "      <td>262.649994</td>\n",
       "      <td>260.600006</td>\n",
       "      <td>261.299988</td>\n",
       "      <td>261.149994</td>\n",
       "      <td>11018996.0</td>\n",
       "      <td>227.285324</td>\n",
       "    </tr>\n",
       "    <tr>\n",
       "      <th>2018-01-04</th>\n",
       "      <td>262.750000</td>\n",
       "      <td>260.600006</td>\n",
       "      <td>260.950012</td>\n",
       "      <td>261.549988</td>\n",
       "      <td>9368913.0</td>\n",
       "      <td>227.633453</td>\n",
       "    </tr>\n",
       "    <tr>\n",
       "      <th>2018-01-05</th>\n",
       "      <td>263.500000</td>\n",
       "      <td>261.899994</td>\n",
       "      <td>261.899994</td>\n",
       "      <td>262.899994</td>\n",
       "      <td>9211954.0</td>\n",
       "      <td>228.808426</td>\n",
       "    </tr>\n",
       "  </tbody>\n",
       "</table>\n",
       "</div>"
      ],
      "text/plain": [
       "                  High         Low        Open       Close      Volume  \\\n",
       "Date                                                                     \n",
       "2018-01-01  266.299988  261.250000  263.250000  262.299988  10461011.0   \n",
       "2018-01-02  264.200012  260.450012  262.600006  260.750000   5688384.0   \n",
       "2018-01-03  262.649994  260.600006  261.299988  261.149994  11018996.0   \n",
       "2018-01-04  262.750000  260.600006  260.950012  261.549988   9368913.0   \n",
       "2018-01-05  263.500000  261.899994  261.899994  262.899994   9211954.0   \n",
       "\n",
       "             Adj Close  \n",
       "Date                    \n",
       "2018-01-01  228.286209  \n",
       "2018-01-02  226.937210  \n",
       "2018-01-03  227.285324  \n",
       "2018-01-04  227.633453  \n",
       "2018-01-05  228.808426  "
      ]
     },
     "execution_count": 3,
     "metadata": {},
     "output_type": "execute_result"
    }
   ],
   "source": [
    "df.head()"
   ]
  },
  {
   "cell_type": "code",
   "execution_count": 4,
   "metadata": {},
   "outputs": [],
   "source": [
    "df1 =  df.reset_index()['Open']"
   ]
  },
  {
   "cell_type": "code",
   "execution_count": 5,
   "metadata": {},
   "outputs": [
    {
     "data": {
      "text/plain": [
       "0    263.250000\n",
       "1    262.600006\n",
       "2    261.299988\n",
       "3    260.950012\n",
       "4    261.899994\n",
       "Name: Open, dtype: float64"
      ]
     },
     "execution_count": 5,
     "metadata": {},
     "output_type": "execute_result"
    }
   ],
   "source": [
    "df1.head()"
   ]
  },
  {
   "cell_type": "code",
   "execution_count": 6,
   "metadata": {},
   "outputs": [
    {
     "data": {
      "text/plain": [
       "(1000,)"
      ]
     },
     "execution_count": 6,
     "metadata": {},
     "output_type": "execute_result"
    }
   ],
   "source": [
    "df1.shape"
   ]
  },
  {
   "cell_type": "code",
   "execution_count": 7,
   "metadata": {},
   "outputs": [
    {
     "data": {
      "text/plain": [
       "[<matplotlib.lines.Line2D at 0x211fc475100>]"
      ]
     },
     "execution_count": 7,
     "metadata": {},
     "output_type": "execute_result"
    },
    {
     "data": {
      "image/png": "[encoded data removed]",
      "text/plain": [
       "<Figure size 432x288 with 1 Axes>"
      ]
     },
     "metadata": {
      "needs_background": "light"
     },
     "output_type": "display_data"
    }
   ],
   "source": [
    "import matplotlib.pyplot as plt\n",
    "plt.plot(df1)"
   ]
  },
  {
   "cell_type": "markdown",
   "metadata": {},
   "source": [
    "### LSTM are sensitive to the scale of the data. so we apply MinMax scaler "
   ]
  },
  {
   "cell_type": "code",
   "execution_count": 8,
   "metadata": {},
   "outputs": [
    {
     "data": {
      "text/plain": [
       "0      263.250000\n",
       "1      262.600006\n",
       "2      261.299988\n",
       "3      260.950012\n",
       "4      261.899994\n",
       "          ...    \n",
       "995    222.500000\n",
       "996    223.899994\n",
       "997    223.949997\n",
       "998    222.600006\n",
       "999    224.600006\n",
       "Name: Open, Length: 1000, dtype: float64"
      ]
     },
     "execution_count": 8,
     "metadata": {},
     "output_type": "execute_result"
    }
   ],
   "source": [
    "df1\n"
   ]
  },
  {
   "cell_type": "code",
   "execution_count": 9,
   "metadata": {},
   "outputs": [],
   "source": [
    "from sklearn.preprocessing import MinMaxScaler\n",
    "scaler = MinMaxScaler(feature_range=(0,1))\n",
    "df1 = scaler.fit_transform(np.array(df1).reshape(-1,1))"
   ]
  },
  {
   "cell_type": "code",
   "execution_count": 10,
   "metadata": {},
   "outputs": [
    {
     "data": {
      "text/plain": [
       "(1000, 1)"
      ]
     },
     "execution_count": 10,
     "metadata": {},
     "output_type": "execute_result"
    }
   ],
   "source": [
    "df1.shape"
   ]
  },
  {
   "cell_type": "code",
   "execution_count": 11,
   "metadata": {},
   "outputs": [],
   "source": [
    "##Splitting dataset into train and test\n",
    "training_size = int(len(df1)*0.65)\n",
    "test_size = len(df1) - training_size\n",
    "train_data,test_data = df1[0:training_size,:],df1[training_size:len(df1),:1]"
   ]
  },
  {
   "cell_type": "code",
   "execution_count": 12,
   "metadata": {},
   "outputs": [
    {
     "data": {
      "text/plain": [
       "1000"
      ]
     },
     "execution_count": 12,
     "metadata": {},
     "output_type": "execute_result"
    }
   ],
   "source": [
    "len(df1)"
   ]
  },
  {
   "cell_type": "code",
   "execution_count": 13,
   "metadata": {},
   "outputs": [
    {
     "data": {
      "text/plain": [
       "650"
      ]
     },
     "execution_count": 13,
     "metadata": {},
     "output_type": "execute_result"
    }
   ],
   "source": [
    "len(train_data)"
   ]
  },
  {
   "cell_type": "code",
   "execution_count": 14,
   "metadata": {},
   "outputs": [
    {
     "data": {
      "text/plain": [
       "350"
      ]
     },
     "execution_count": 14,
     "metadata": {},
     "output_type": "execute_result"
    }
   ],
   "source": [
    "len(test_data)"
   ]
  },
  {
   "cell_type": "code",
   "execution_count": 15,
   "metadata": {},
   "outputs": [
    {
     "data": {
      "text/plain": [
       "(650, 350)"
      ]
     },
     "execution_count": 15,
     "metadata": {},
     "output_type": "execute_result"
    }
   ],
   "source": [
    "training_size,test_size"
   ]
  },
  {
   "cell_type": "code",
   "execution_count": 16,
   "metadata": {},
   "outputs": [],
   "source": [
    "# convert an array of values into a dataset matrix\n",
    "def create_dataset(dataset, time_step=1):\n",
    "\tdataX, dataY = [], []\n",
    "\tfor i in range(len(dataset)-time_step-1):\n",
    "\t\ta = dataset[i:(i+time_step), 0]   ###i=0, 0,1,2,3-----99   100 \n",
    "\t\tdataX.append(a)\n",
    "\t\tdataY.append(dataset[i + time_step, 0])\n",
    "\treturn numpy.array(dataX), numpy.array(dataY)"
   ]
  },
  {
   "cell_type": "code",
   "execution_count": 17,
   "metadata": {},
   "outputs": [],
   "source": [
    "# reshape into X=t,t+1,t+2,t+3 and Y=t+4\n",
    "import numpy \n",
    "time_step = 100\n",
    "X_train, y_train = create_dataset(train_data, time_step)\n",
    "X_test, ytest = create_dataset(test_data, time_step)"
   ]
  },
  {
   "cell_type": "code",
   "execution_count": 18,
   "metadata": {},
   "outputs": [
    {
     "name": "stdout",
     "output_type": "stream",
     "text": [
      "[[0.6587596  0.65504429 0.64761349 ... 0.72020572 0.71106022 0.72020572]\n",
      " [0.65504429 0.64761349 0.64561306 ... 0.71106022 0.72020572 0.72477839]\n",
      " [0.64761349 0.64561306 0.65104307 ... 0.72020572 0.72477839 0.71163185]\n",
      " ...\n",
      " [0.08545296 0.01714776 0.01143184 ... 0.30637326 0.28608174 0.29665613]\n",
      " [0.01714776 0.01143184 0.08002286 ... 0.28608174 0.29665613 0.28922551]\n",
      " [0.01143184 0.08002286 0.04601316 ... 0.29665613 0.28922551 0.28008   ]]\n"
     ]
    }
   ],
   "source": [
    "print(X_train)"
   ]
  },
  {
   "cell_type": "code",
   "execution_count": 19,
   "metadata": {},
   "outputs": [
    {
     "name": "stdout",
     "output_type": "stream",
     "text": [
      "(549, 100)\n",
      "(549,)\n"
     ]
    },
    {
     "data": {
      "text/plain": [
       "(None, None)"
      ]
     },
     "execution_count": 19,
     "metadata": {},
     "output_type": "execute_result"
    }
   ],
   "source": [
    "print(X_train.shape), print(y_train.shape)"
   ]
  },
  {
   "cell_type": "code",
   "execution_count": 20,
   "metadata": {},
   "outputs": [
    {
     "name": "stdout",
     "output_type": "stream",
     "text": [
      "(249, 100)\n",
      "(249,)\n"
     ]
    },
    {
     "data": {
      "text/plain": [
       "(None, None)"
      ]
     },
     "execution_count": 20,
     "metadata": {},
     "output_type": "execute_result"
    }
   ],
   "source": [
    "print(X_test.shape), print(ytest.shape)"
   ]
  },
  {
   "cell_type": "code",
   "execution_count": 21,
   "metadata": {},
   "outputs": [],
   "source": [
    "# reshape input to be [samples, time steps, features] which is required for LSTM\n",
    "X_train =X_train.reshape(X_train.shape[0],X_train.shape[1] , 1)\n",
    "X_test = X_test.reshape(X_test.shape[0],X_test.shape[1] , 1)"
   ]
  },
  {
   "cell_type": "code",
   "execution_count": 22,
   "metadata": {},
   "outputs": [],
   "source": [
    "### Create the Stacked LSTM model\n",
    "from tensorflow.keras.models import Sequential\n",
    "from tensorflow.keras.layers import Dense\n",
    "from tensorflow.keras.layers import LSTM"
   ]
  },
  {
   "cell_type": "code",
   "execution_count": 23,
   "metadata": {},
   "outputs": [],
   "source": [
    "model=Sequential()\n",
    "model.add(LSTM(50,return_sequences=True,input_shape=(100,1)))\n",
    "model.add(LSTM(50,return_sequences=True))\n",
    "model.add(LSTM(50))\n",
    "model.add(Dense(1))\n",
    "model.compile(loss='mean_squared_error',optimizer='adam')"
   ]
  },
  {
   "cell_type": "code",
   "execution_count": 24,
   "metadata": {},
   "outputs": [
    {
     "name": "stdout",
     "output_type": "stream",
     "text": [
      "Model: \"sequential\"\n",
      "_________________________________________________________________\n",
      "Layer (type)                 Output Shape              Param #   \n",
      "=================================================================\n",
      "lstm (LSTM)                  (None, 100, 50)           10400     \n",
      "_________________________________________________________________\n",
      "lstm_1 (LSTM)                (None, 100, 50)           20200     \n",
      "_________________________________________________________________\n",
      "lstm_2 (LSTM)                (None, 50)                20200     \n",
      "_________________________________________________________________\n",
      "dense (Dense)                (None, 1)                 51        \n",
      "=================================================================\n",
      "Total params: 50,851\n",
      "Trainable params: 50,851\n",
      "Non-trainable params: 0\n",
      "_________________________________________________________________\n"
     ]
    }
   ],
   "source": [
    "model.summary()"
   ]
  },
  {
   "cell_type": "code",
   "execution_count": 25,
   "metadata": {},
   "outputs": [
    {
     "name": "stdout",
     "output_type": "stream",
     "text": [
      "Epoch 1/100\n",
      "9/9 [==============================] - 5s 195ms/step - loss: 0.1814 - val_loss: 0.0676\n",
      "Epoch 2/100\n",
      "9/9 [==============================] - 1s 106ms/step - loss: 0.0275 - val_loss: 0.0035\n",
      "Epoch 3/100\n",
      "9/9 [==============================] - 1s 103ms/step - loss: 0.0166 - val_loss: 0.0198\n",
      "Epoch 4/100\n",
      "9/9 [==============================] - 1s 105ms/step - loss: 0.0107 - val_loss: 0.0027\n",
      "Epoch 5/100\n",
      "9/9 [==============================] - 1s 105ms/step - loss: 0.0081 - val_loss: 0.0061\n",
      "Epoch 6/100\n",
      "9/9 [==============================] - 1s 106ms/step - loss: 0.0058 - val_loss: 0.0025\n",
      "Epoch 7/100\n",
      "9/9 [==============================] - 1s 111ms/step - loss: 0.0051 - val_loss: 0.0026\n",
      "Epoch 8/100\n",
      "9/9 [==============================] - 1s 106ms/step - loss: 0.0046 - val_loss: 0.0027\n",
      "Epoch 9/100\n",
      "9/9 [==============================] - 1s 108ms/step - loss: 0.0045 - val_loss: 0.0033\n",
      "Epoch 10/100\n",
      "9/9 [==============================] - 1s 106ms/step - loss: 0.0043 - val_loss: 0.0030\n",
      "Epoch 11/100\n",
      "9/9 [==============================] - 1s 106ms/step - loss: 0.0042 - val_loss: 0.0026\n",
      "Epoch 12/100\n",
      "9/9 [==============================] - 1s 108ms/step - loss: 0.0041 - val_loss: 0.0026\n",
      "Epoch 13/100\n",
      "9/9 [==============================] - 1s 109ms/step - loss: 0.0041 - val_loss: 0.0026\n",
      "Epoch 14/100\n",
      "9/9 [==============================] - 1s 108ms/step - loss: 0.0041 - val_loss: 0.0027\n",
      "Epoch 15/100\n",
      "9/9 [==============================] - 1s 110ms/step - loss: 0.0042 - val_loss: 0.0027\n",
      "Epoch 16/100\n",
      "9/9 [==============================] - 1s 109ms/step - loss: 0.0042 - val_loss: 0.0031\n",
      "Epoch 17/100\n",
      "9/9 [==============================] - 1s 114ms/step - loss: 0.0039 - val_loss: 0.0027\n",
      "Epoch 18/100\n",
      "9/9 [==============================] - 1s 116ms/step - loss: 0.0038 - val_loss: 0.0026\n",
      "Epoch 19/100\n",
      "9/9 [==============================] - 1s 115ms/step - loss: 0.0035 - val_loss: 0.0026\n",
      "Epoch 20/100\n",
      "9/9 [==============================] - 1s 110ms/step - loss: 0.0035 - val_loss: 0.0025\n",
      "Epoch 21/100\n",
      "9/9 [==============================] - 1s 110ms/step - loss: 0.0034 - val_loss: 0.0025\n",
      "Epoch 22/100\n",
      "9/9 [==============================] - 1s 110ms/step - loss: 0.0033 - val_loss: 0.0024\n",
      "Epoch 23/100\n",
      "9/9 [==============================] - 1s 111ms/step - loss: 0.0033 - val_loss: 0.0024\n",
      "Epoch 24/100\n",
      "9/9 [==============================] - 1s 112ms/step - loss: 0.0034 - val_loss: 0.0024\n",
      "Epoch 25/100\n",
      "9/9 [==============================] - 1s 112ms/step - loss: 0.0033 - val_loss: 0.0024\n",
      "Epoch 26/100\n",
      "9/9 [==============================] - 1s 113ms/step - loss: 0.0032 - val_loss: 0.0025\n",
      "Epoch 27/100\n",
      "9/9 [==============================] - 1s 111ms/step - loss: 0.0031 - val_loss: 0.0024\n",
      "Epoch 28/100\n",
      "9/9 [==============================] - 1s 113ms/step - loss: 0.0031 - val_loss: 0.0025\n",
      "Epoch 29/100\n",
      "9/9 [==============================] - 1s 114ms/step - loss: 0.0032 - val_loss: 0.0023\n",
      "Epoch 30/100\n",
      "9/9 [==============================] - 1s 113ms/step - loss: 0.0030 - val_loss: 0.0023\n",
      "Epoch 31/100\n",
      "9/9 [==============================] - 1s 112ms/step - loss: 0.0029 - val_loss: 0.0024\n",
      "Epoch 32/100\n",
      "9/9 [==============================] - 1s 113ms/step - loss: 0.0028 - val_loss: 0.0024\n",
      "Epoch 33/100\n",
      "9/9 [==============================] - 1s 112ms/step - loss: 0.0030 - val_loss: 0.0025\n",
      "Epoch 34/100\n",
      "9/9 [==============================] - 1s 117ms/step - loss: 0.0029 - val_loss: 0.0023\n",
      "Epoch 35/100\n",
      "9/9 [==============================] - 1s 112ms/step - loss: 0.0028 - val_loss: 0.0023\n",
      "Epoch 36/100\n",
      "9/9 [==============================] - 1s 113ms/step - loss: 0.0028 - val_loss: 0.0024\n",
      "Epoch 37/100\n",
      "9/9 [==============================] - 1s 113ms/step - loss: 0.0027 - val_loss: 0.0023\n",
      "Epoch 38/100\n",
      "9/9 [==============================] - 1s 113ms/step - loss: 0.0027 - val_loss: 0.0022\n",
      "Epoch 39/100\n",
      "9/9 [==============================] - 1s 114ms/step - loss: 0.0029 - val_loss: 0.0023\n",
      "Epoch 40/100\n",
      "9/9 [==============================] - 1s 113ms/step - loss: 0.0029 - val_loss: 0.0023\n",
      "Epoch 41/100\n",
      "9/9 [==============================] - 1s 113ms/step - loss: 0.0026 - val_loss: 0.0022\n",
      "Epoch 42/100\n",
      "9/9 [==============================] - 1s 113ms/step - loss: 0.0025 - val_loss: 0.0022\n",
      "Epoch 43/100\n",
      "9/9 [==============================] - 1s 113ms/step - loss: 0.0026 - val_loss: 0.0022\n",
      "Epoch 44/100\n",
      "9/9 [==============================] - 1s 113ms/step - loss: 0.0025 - val_loss: 0.0023\n",
      "Epoch 45/100\n",
      "9/9 [==============================] - 1s 112ms/step - loss: 0.0024 - val_loss: 0.0023\n",
      "Epoch 46/100\n",
      "9/9 [==============================] - 1s 113ms/step - loss: 0.0025 - val_loss: 0.0023\n",
      "Epoch 47/100\n",
      "9/9 [==============================] - 1s 114ms/step - loss: 0.0024 - val_loss: 0.0023\n",
      "Epoch 48/100\n",
      "9/9 [==============================] - 1s 114ms/step - loss: 0.0023 - val_loss: 0.0023\n",
      "Epoch 49/100\n",
      "9/9 [==============================] - 1s 117ms/step - loss: 0.0024 - val_loss: 0.0024\n",
      "Epoch 50/100\n",
      "9/9 [==============================] - 1s 115ms/step - loss: 0.0023 - val_loss: 0.0022\n",
      "Epoch 51/100\n",
      "9/9 [==============================] - 1s 113ms/step - loss: 0.0022 - val_loss: 0.0021\n",
      "Epoch 52/100\n",
      "9/9 [==============================] - 1s 114ms/step - loss: 0.0023 - val_loss: 0.0023\n",
      "Epoch 53/100\n",
      "9/9 [==============================] - 1s 114ms/step - loss: 0.0023 - val_loss: 0.0022\n",
      "Epoch 54/100\n",
      "9/9 [==============================] - 1s 115ms/step - loss: 0.0023 - val_loss: 0.0030\n",
      "Epoch 55/100\n",
      "9/9 [==============================] - 1s 115ms/step - loss: 0.0025 - val_loss: 0.0020\n",
      "Epoch 56/100\n",
      "9/9 [==============================] - 1s 116ms/step - loss: 0.0023 - val_loss: 0.0025\n",
      "Epoch 57/100\n",
      "9/9 [==============================] - 1s 116ms/step - loss: 0.0021 - val_loss: 0.0021\n",
      "Epoch 58/100\n",
      "9/9 [==============================] - 1s 115ms/step - loss: 0.0020 - val_loss: 0.0020\n",
      "Epoch 59/100\n",
      "9/9 [==============================] - 1s 120ms/step - loss: 0.0022 - val_loss: 0.0028\n",
      "Epoch 60/100\n",
      "9/9 [==============================] - 1s 116ms/step - loss: 0.0022 - val_loss: 0.0020\n",
      "Epoch 61/100\n",
      "9/9 [==============================] - 1s 116ms/step - loss: 0.0021 - val_loss: 0.0024\n",
      "Epoch 62/100\n",
      "9/9 [==============================] - 1s 117ms/step - loss: 0.0020 - val_loss: 0.0022\n",
      "Epoch 63/100\n",
      "9/9 [==============================] - 1s 116ms/step - loss: 0.0019 - val_loss: 0.0020\n",
      "Epoch 64/100\n",
      "9/9 [==============================] - 1s 116ms/step - loss: 0.0019 - val_loss: 0.0022\n",
      "Epoch 65/100\n",
      "9/9 [==============================] - 1s 116ms/step - loss: 0.0018 - val_loss: 0.0020\n",
      "Epoch 66/100\n",
      "9/9 [==============================] - 1s 117ms/step - loss: 0.0019 - val_loss: 0.0019\n",
      "Epoch 67/100\n",
      "9/9 [==============================] - 1s 116ms/step - loss: 0.0020 - val_loss: 0.0021\n",
      "Epoch 68/100\n",
      "9/9 [==============================] - 1s 117ms/step - loss: 0.0017 - val_loss: 0.0018\n",
      "Epoch 69/100\n",
      "9/9 [==============================] - 1s 116ms/step - loss: 0.0020 - val_loss: 0.0020\n",
      "Epoch 70/100\n",
      "9/9 [==============================] - 1s 116ms/step - loss: 0.0017 - val_loss: 0.0020\n",
      "Epoch 71/100\n",
      "9/9 [==============================] - 1s 117ms/step - loss: 0.0018 - val_loss: 0.0024\n",
      "Epoch 72/100\n",
      "9/9 [==============================] - 1s 117ms/step - loss: 0.0016 - val_loss: 0.0018\n",
      "Epoch 73/100\n",
      "9/9 [==============================] - 1s 117ms/step - loss: 0.0018 - val_loss: 0.0023\n",
      "Epoch 74/100\n",
      "9/9 [==============================] - 1s 118ms/step - loss: 0.0018 - val_loss: 0.0018\n",
      "Epoch 75/100\n",
      "9/9 [==============================] - 1s 117ms/step - loss: 0.0018 - val_loss: 0.0022\n",
      "Epoch 76/100\n",
      "9/9 [==============================] - 1s 117ms/step - loss: 0.0019 - val_loss: 0.0018\n",
      "Epoch 77/100\n",
      "9/9 [==============================] - 1s 117ms/step - loss: 0.0016 - val_loss: 0.0019\n",
      "Epoch 78/100\n",
      "9/9 [==============================] - 1s 120ms/step - loss: 0.0014 - val_loss: 0.0021\n",
      "Epoch 79/100\n",
      "9/9 [==============================] - 1s 119ms/step - loss: 0.0014 - val_loss: 0.0018\n",
      "Epoch 80/100\n",
      "9/9 [==============================] - 1s 117ms/step - loss: 0.0012 - val_loss: 0.0017\n",
      "Epoch 81/100\n",
      "9/9 [==============================] - 1s 123ms/step - loss: 0.0012 - val_loss: 0.0019\n",
      "Epoch 82/100\n",
      "9/9 [==============================] - 1s 117ms/step - loss: 0.0011 - val_loss: 0.0019\n",
      "Epoch 83/100\n",
      "9/9 [==============================] - 1s 117ms/step - loss: 0.0012 - val_loss: 0.0021\n",
      "Epoch 84/100\n",
      "9/9 [==============================] - 1s 118ms/step - loss: 0.0012 - val_loss: 0.0015\n",
      "Epoch 85/100\n",
      "9/9 [==============================] - 1s 116ms/step - loss: 0.0011 - val_loss: 0.0017\n",
      "Epoch 86/100\n",
      "9/9 [==============================] - 1s 117ms/step - loss: 0.0011 - val_loss: 0.0018\n",
      "Epoch 87/100\n",
      "9/9 [==============================] - 1s 116ms/step - loss: 0.0013 - val_loss: 0.0026\n",
      "Epoch 88/100\n",
      "9/9 [==============================] - 1s 119ms/step - loss: 0.0015 - val_loss: 0.0015\n",
      "Epoch 89/100\n",
      "9/9 [==============================] - 1s 116ms/step - loss: 0.0011 - val_loss: 0.0018\n",
      "Epoch 90/100\n",
      "9/9 [==============================] - 1s 118ms/step - loss: 0.0012 - val_loss: 0.0018\n",
      "Epoch 91/100\n",
      "9/9 [==============================] - 1s 124ms/step - loss: 0.0011 - val_loss: 0.0015\n",
      "Epoch 92/100\n",
      "9/9 [==============================] - 1s 121ms/step - loss: 0.0011 - val_loss: 0.0021\n",
      "Epoch 93/100\n",
      "9/9 [==============================] - 1s 118ms/step - loss: 0.0011 - val_loss: 0.0017\n",
      "Epoch 94/100\n",
      "9/9 [==============================] - 1s 118ms/step - loss: 0.0010 - val_loss: 0.0016\n",
      "Epoch 95/100\n",
      "9/9 [==============================] - 1s 120ms/step - loss: 0.0010 - val_loss: 0.0016\n",
      "Epoch 96/100\n",
      "9/9 [==============================] - 1s 121ms/step - loss: 0.0010 - val_loss: 0.0015\n",
      "Epoch 97/100\n",
      "9/9 [==============================] - 1s 123ms/step - loss: 0.0011 - val_loss: 0.0019\n",
      "Epoch 98/100\n",
      "9/9 [==============================] - 1s 127ms/step - loss: 0.0010 - val_loss: 0.0014\n",
      "Epoch 99/100\n",
      "9/9 [==============================] - 1s 123ms/step - loss: 9.8068e-04 - val_loss: 0.0015\n",
      "Epoch 100/100\n",
      "9/9 [==============================] - 1s 119ms/step - loss: 0.0010 - val_loss: 0.0014\n"
     ]
    },
    {
     "data": {
      "text/plain": [
       "<keras.callbacks.History at 0x211dcc83580>"
      ]
     },
     "execution_count": 25,
     "metadata": {},
     "output_type": "execute_result"
    }
   ],
   "source": [
    "model.fit(X_train,y_train,validation_data=(X_test,ytest),epochs=100,batch_size=64,verbose=1)"
   ]
  },
  {
   "cell_type": "code",
   "execution_count": 26,
   "metadata": {},
   "outputs": [],
   "source": [
    "### Lets Do the prediction and check performance metrics\n",
    "train_predict=model.predict(X_train)\n",
    "test_predict=model.predict(X_test)"
   ]
  },
  {
   "cell_type": "code",
   "execution_count": 27,
   "metadata": {},
   "outputs": [],
   "source": [
    "##Transformback to original form\n",
    "train_predict=scaler.inverse_transform(train_predict)\n",
    "test_predict=scaler.inverse_transform(test_predict)"
   ]
  },
  {
   "cell_type": "code",
   "execution_count": 28,
   "metadata": {},
   "outputs": [
    {
     "data": {
      "text/plain": [
       "256.48582964562644"
      ]
     },
     "execution_count": 28,
     "metadata": {},
     "output_type": "execute_result"
    }
   ],
   "source": [
    "### Calculate RMSE performance metrics\n",
    "import math\n",
    "from sklearn.metrics import mean_squared_error\n",
    "math.sqrt(mean_squared_error(y_train,train_predict))"
   ]
  },
  {
   "cell_type": "code",
   "execution_count": 29,
   "metadata": {},
   "outputs": [
    {
     "data": {
      "text/plain": [
       "215.25885731605914"
      ]
     },
     "execution_count": 29,
     "metadata": {},
     "output_type": "execute_result"
    }
   ],
   "source": [
    "### Test Data RMSE\n",
    "math.sqrt(mean_squared_error(ytest,test_predict))"
   ]
  },
  {
   "cell_type": "code",
   "execution_count": 30,
   "metadata": {},
   "outputs": [
    {
     "data": {
      "image/png": "[encoded data removed]",
      "text/plain": [
       "<Figure size 432x288 with 1 Axes>"
      ]
     },
     "metadata": {
      "needs_background": "light"
     },
     "output_type": "display_data"
    }
   ],
   "source": [
    "### Plotting \n",
    "# shift train predictions for plotting\n",
    "look_back=100\n",
    "trainPredictPlot = numpy.empty_like(df1)\n",
    "trainPredictPlot[:, :] = np.nan\n",
    "trainPredictPlot[look_back:len(train_predict)+look_back, :] = train_predict\n",
    "# shift test predictions for plotting\n",
    "testPredictPlot = numpy.empty_like(df1)\n",
    "testPredictPlot[:, :] = numpy.nan\n",
    "testPredictPlot[len(train_predict)+(look_back*2)+1:len(df1)-1, :] = test_predict\n",
    "# plot baseline and predictions\n",
    "plt.plot(scaler.inverse_transform(df1))\n",
    "plt.plot(trainPredictPlot)\n",
    "plt.plot(testPredictPlot)\n",
    "plt.show()"
   ]
  },
  {
   "cell_type": "code",
   "execution_count": 31,
   "metadata": {},
   "outputs": [
    {
     "data": {
      "text/plain": [
       "350"
      ]
     },
     "execution_count": 31,
     "metadata": {},
     "output_type": "execute_result"
    }
   ],
   "source": [
    "len(test_data)"
   ]
  },
  {
   "cell_type": "code",
   "execution_count": 32,
   "metadata": {},
   "outputs": [
    {
     "data": {
      "text/plain": [
       "250"
      ]
     },
     "execution_count": 32,
     "metadata": {},
     "output_type": "execute_result"
    }
   ],
   "source": [
    "350-100 ## here we see that since for predicting the open price of 19thJan 2022,we will use past 100 records to predict the price on jan 19th\n"
   ]
  },
  {
   "cell_type": "code",
   "execution_count": 33,
   "metadata": {},
   "outputs": [
    {
     "data": {
      "text/plain": [
       "(1, 100)"
      ]
     },
     "execution_count": 33,
     "metadata": {},
     "output_type": "execute_result"
    }
   ],
   "source": [
    "x_input=test_data[250:].reshape(1,-1)\n",
    "x_input.shape\n"
   ]
  },
  {
   "cell_type": "code",
   "execution_count": 34,
   "metadata": {},
   "outputs": [],
   "source": [
    "temp_input=list(x_input)\n",
    "temp_input=temp_input[0].tolist()"
   ]
  },
  {
   "cell_type": "code",
   "execution_count": 35,
   "metadata": {},
   "outputs": [
    {
     "data": {
      "text/plain": [
       "[0.33380960172426477,\n",
       " 0.3258073508022835,\n",
       " 0.33152326923741116,\n",
       " 0.3432409194730218,\n",
       " 0.36010286141305003,\n",
       " 0.3486710245427945,\n",
       " 0.3529579633691403,\n",
       " 0.36010286141305003,\n",
       " 0.3595312346823397,\n",
       " 0.36724775945695975,\n",
       " 0.3603886747784052,\n",
       " 0.37353530462279794,\n",
       " 0.38239490842285095,\n",
       " 0.3949699987545271,\n",
       " 0.3941125586584616,\n",
       " 0.4858530669858613,\n",
       " 0.4744212301156058,\n",
       " 0.49699909049076163,\n",
       " 0.545870210554703,\n",
       " 0.5544440882073945,\n",
       " 0.5487281697722669,\n",
       " 0.524721329788329,\n",
       " 0.5250071431536839,\n",
       " 0.5030008222912447,\n",
       " 0.5252928693010454,\n",
       " 0.4984280700995437,\n",
       " 0.5030008222912447,\n",
       " 0.5052871547780983,\n",
       " 0.4961417376126901,\n",
       " 0.4858530669858613,\n",
       " 0.49585592424733493,\n",
       " 0.4801371485507334,\n",
       " 0.5178622451097742,\n",
       " 0.5404401054849303,\n",
       " 0.6016004152971989,\n",
       " 0.645898783169439,\n",
       " 0.6481851156562927,\n",
       " 0.5598741932771673,\n",
       " 0.5715918435127779,\n",
       " 0.5527292952332575,\n",
       " 0.49214061215169924,\n",
       " 0.49214061215169924,\n",
       " 0.5272934756405377,\n",
       " 0.4978565305868271,\n",
       " 0.44012571950483903,\n",
       " 0.4352671539477829,\n",
       " 0.4572734748102224,\n",
       " 0.4458416379399667,\n",
       " 0.43926836662676727,\n",
       " 0.4669905187063409,\n",
       " 0.46784795880240615,\n",
       " 0.4541297022273033,\n",
       " 0.4709916441673315,\n",
       " 0.47556439635903247,\n",
       " 0.491283172055634,\n",
       " 0.520434390961983,\n",
       " 0.5030008222912447,\n",
       " 0.5258644960317557,\n",
       " 0.5138610324307898,\n",
       " 0.4638467461234218,\n",
       " 0.4827092944029422,\n",
       " 0.45155755637509454,\n",
       " 0.46241776651463995,\n",
       " 0.42297796419945566,\n",
       " 0.42297796419945566,\n",
       " 0.42297796419945566,\n",
       " 0.42240633746874534,\n",
       " 0.44012571950483903,\n",
       " 0.4209773578599635,\n",
       " 0.40525858216336197,\n",
       " 0.4172620457643278,\n",
       " 0.4286938826345835,\n",
       " 0.5041439885346714,\n",
       " 0.5144326591615002,\n",
       " 0.4972849038561168,\n",
       " 0.4687053116804779,\n",
       " 0.4458416379399667,\n",
       " 0.4275507163911566,\n",
       " 0.390111433197471,\n",
       " 0.3772506167184334,\n",
       " 0.3772506167184334,\n",
       " 0.3766789899877231,\n",
       " 0.40011429045894464,\n",
       " 0.40240062294579826,\n",
       " 0.40011429045894464,\n",
       " 0.41154612732920015,\n",
       " 0.39211203953696316,\n",
       " 0.39382674529310646,\n",
       " 0.4004001038242996,\n",
       " 0.4086881681116362,\n",
       " 0.409545520989708,\n",
       " 0.4058302088940723,\n",
       " 0.41040296108577323,\n",
       " 0.41097450059848983,\n",
       " 0.4306944889740757,\n",
       " 0.4258359234170196,\n",
       " 0.43383817433900107,\n",
       " 0.434123987704356,\n",
       " 0.4264075501477299,\n",
       " 0.4378393870179854]"
      ]
     },
     "execution_count": 35,
     "metadata": {},
     "output_type": "execute_result"
    }
   ],
   "source": [
    "temp_input"
   ]
  },
  {
   "cell_type": "code",
   "execution_count": 36,
   "metadata": {},
   "outputs": [
    {
     "name": "stdout",
     "output_type": "stream",
     "text": [
      "[0.41835603]\n",
      "101\n",
      "1 day input [0.32580735 0.33152327 0.34324092 0.36010286 0.34867102 0.35295796\n",
      " 0.36010286 0.35953123 0.36724776 0.36038867 0.3735353  0.38239491\n",
      " 0.39497    0.39411256 0.48585307 0.47442123 0.49699909 0.54587021\n",
      " 0.55444409 0.54872817 0.52472133 0.52500714 0.50300082 0.52529287\n",
      " 0.49842807 0.50300082 0.50528715 0.49614174 0.48585307 0.49585592\n",
      " 0.48013715 0.51786225 0.54044011 0.60160042 0.64589878 0.64818512\n",
      " 0.55987419 0.57159184 0.5527293  0.49214061 0.49214061 0.52729348\n",
      " 0.49785653 0.44012572 0.43526715 0.45727347 0.44584164 0.43926837\n",
      " 0.46699052 0.46784796 0.4541297  0.47099164 0.4755644  0.49128317\n",
      " 0.52043439 0.50300082 0.5258645  0.51386103 0.46384675 0.48270929\n",
      " 0.45155756 0.46241777 0.42297796 0.42297796 0.42297796 0.42240634\n",
      " 0.44012572 0.42097736 0.40525858 0.41726205 0.42869388 0.50414399\n",
      " 0.51443266 0.4972849  0.46870531 0.44584164 0.42755072 0.39011143\n",
      " 0.37725062 0.37725062 0.37667899 0.40011429 0.40240062 0.40011429\n",
      " 0.41154613 0.39211204 0.39382675 0.4004001  0.40868817 0.40954552\n",
      " 0.40583021 0.41040296 0.4109745  0.43069449 0.42583592 0.43383817\n",
      " 0.43412399 0.42640755 0.43783939 0.41835603]\n",
      "1 day output [[0.41686097]]\n",
      "2 day input [0.33152327 0.34324092 0.36010286 0.34867102 0.35295796 0.36010286\n",
      " 0.35953123 0.36724776 0.36038867 0.3735353  0.38239491 0.39497\n",
      " 0.39411256 0.48585307 0.47442123 0.49699909 0.54587021 0.55444409\n",
      " 0.54872817 0.52472133 0.52500714 0.50300082 0.52529287 0.49842807\n",
      " 0.50300082 0.50528715 0.49614174 0.48585307 0.49585592 0.48013715\n",
      " 0.51786225 0.54044011 0.60160042 0.64589878 0.64818512 0.55987419\n",
      " 0.57159184 0.5527293  0.49214061 0.49214061 0.52729348 0.49785653\n",
      " 0.44012572 0.43526715 0.45727347 0.44584164 0.43926837 0.46699052\n",
      " 0.46784796 0.4541297  0.47099164 0.4755644  0.49128317 0.52043439\n",
      " 0.50300082 0.5258645  0.51386103 0.46384675 0.48270929 0.45155756\n",
      " 0.46241777 0.42297796 0.42297796 0.42297796 0.42240634 0.44012572\n",
      " 0.42097736 0.40525858 0.41726205 0.42869388 0.50414399 0.51443266\n",
      " 0.4972849  0.46870531 0.44584164 0.42755072 0.39011143 0.37725062\n",
      " 0.37725062 0.37667899 0.40011429 0.40240062 0.40011429 0.41154613\n",
      " 0.39211204 0.39382675 0.4004001  0.40868817 0.40954552 0.40583021\n",
      " 0.41040296 0.4109745  0.43069449 0.42583592 0.43383817 0.43412399\n",
      " 0.42640755 0.43783939 0.41835603 0.41686097]\n",
      "2 day output [[0.41221842]]\n",
      "3 day input [0.34324092 0.36010286 0.34867102 0.35295796 0.36010286 0.35953123\n",
      " 0.36724776 0.36038867 0.3735353  0.38239491 0.39497    0.39411256\n",
      " 0.48585307 0.47442123 0.49699909 0.54587021 0.55444409 0.54872817\n",
      " 0.52472133 0.52500714 0.50300082 0.52529287 0.49842807 0.50300082\n",
      " 0.50528715 0.49614174 0.48585307 0.49585592 0.48013715 0.51786225\n",
      " 0.54044011 0.60160042 0.64589878 0.64818512 0.55987419 0.57159184\n",
      " 0.5527293  0.49214061 0.49214061 0.52729348 0.49785653 0.44012572\n",
      " 0.43526715 0.45727347 0.44584164 0.43926837 0.46699052 0.46784796\n",
      " 0.4541297  0.47099164 0.4755644  0.49128317 0.52043439 0.50300082\n",
      " 0.5258645  0.51386103 0.46384675 0.48270929 0.45155756 0.46241777\n",
      " 0.42297796 0.42297796 0.42297796 0.42240634 0.44012572 0.42097736\n",
      " 0.40525858 0.41726205 0.42869388 0.50414399 0.51443266 0.4972849\n",
      " 0.46870531 0.44584164 0.42755072 0.39011143 0.37725062 0.37725062\n",
      " 0.37667899 0.40011429 0.40240062 0.40011429 0.41154613 0.39211204\n",
      " 0.39382675 0.4004001  0.40868817 0.40954552 0.40583021 0.41040296\n",
      " 0.4109745  0.43069449 0.42583592 0.43383817 0.43412399 0.42640755\n",
      " 0.43783939 0.41835603 0.41686097 0.41221842]\n",
      "3 day output [[0.40568918]]\n",
      "4 day input [0.36010286 0.34867102 0.35295796 0.36010286 0.35953123 0.36724776\n",
      " 0.36038867 0.3735353  0.38239491 0.39497    0.39411256 0.48585307\n",
      " 0.47442123 0.49699909 0.54587021 0.55444409 0.54872817 0.52472133\n",
      " 0.52500714 0.50300082 0.52529287 0.49842807 0.50300082 0.50528715\n",
      " 0.49614174 0.48585307 0.49585592 0.48013715 0.51786225 0.54044011\n",
      " 0.60160042 0.64589878 0.64818512 0.55987419 0.57159184 0.5527293\n",
      " 0.49214061 0.49214061 0.52729348 0.49785653 0.44012572 0.43526715\n",
      " 0.45727347 0.44584164 0.43926837 0.46699052 0.46784796 0.4541297\n",
      " 0.47099164 0.4755644  0.49128317 0.52043439 0.50300082 0.5258645\n",
      " 0.51386103 0.46384675 0.48270929 0.45155756 0.46241777 0.42297796\n",
      " 0.42297796 0.42297796 0.42240634 0.44012572 0.42097736 0.40525858\n",
      " 0.41726205 0.42869388 0.50414399 0.51443266 0.4972849  0.46870531\n",
      " 0.44584164 0.42755072 0.39011143 0.37725062 0.37725062 0.37667899\n",
      " 0.40011429 0.40240062 0.40011429 0.41154613 0.39211204 0.39382675\n",
      " 0.4004001  0.40868817 0.40954552 0.40583021 0.41040296 0.4109745\n",
      " 0.43069449 0.42583592 0.43383817 0.43412399 0.42640755 0.43783939\n",
      " 0.41835603 0.41686097 0.41221842 0.40568918]\n",
      "4 day output [[0.39829698]]\n",
      "5 day input [0.34867102 0.35295796 0.36010286 0.35953123 0.36724776 0.36038867\n",
      " 0.3735353  0.38239491 0.39497    0.39411256 0.48585307 0.47442123\n",
      " 0.49699909 0.54587021 0.55444409 0.54872817 0.52472133 0.52500714\n",
      " 0.50300082 0.52529287 0.49842807 0.50300082 0.50528715 0.49614174\n",
      " 0.48585307 0.49585592 0.48013715 0.51786225 0.54044011 0.60160042\n",
      " 0.64589878 0.64818512 0.55987419 0.57159184 0.5527293  0.49214061\n",
      " 0.49214061 0.52729348 0.49785653 0.44012572 0.43526715 0.45727347\n",
      " 0.44584164 0.43926837 0.46699052 0.46784796 0.4541297  0.47099164\n",
      " 0.4755644  0.49128317 0.52043439 0.50300082 0.5258645  0.51386103\n",
      " 0.46384675 0.48270929 0.45155756 0.46241777 0.42297796 0.42297796\n",
      " 0.42297796 0.42240634 0.44012572 0.42097736 0.40525858 0.41726205\n",
      " 0.42869388 0.50414399 0.51443266 0.4972849  0.46870531 0.44584164\n",
      " 0.42755072 0.39011143 0.37725062 0.37725062 0.37667899 0.40011429\n",
      " 0.40240062 0.40011429 0.41154613 0.39211204 0.39382675 0.4004001\n",
      " 0.40868817 0.40954552 0.40583021 0.41040296 0.4109745  0.43069449\n",
      " 0.42583592 0.43383817 0.43412399 0.42640755 0.43783939 0.41835603\n",
      " 0.41686097 0.41221842 0.40568918 0.39829698]\n",
      "5 day output [[0.39070097]]\n",
      "6 day input [0.35295796 0.36010286 0.35953123 0.36724776 0.36038867 0.3735353\n",
      " 0.38239491 0.39497    0.39411256 0.48585307 0.47442123 0.49699909\n",
      " 0.54587021 0.55444409 0.54872817 0.52472133 0.52500714 0.50300082\n",
      " 0.52529287 0.49842807 0.50300082 0.50528715 0.49614174 0.48585307\n",
      " 0.49585592 0.48013715 0.51786225 0.54044011 0.60160042 0.64589878\n",
      " 0.64818512 0.55987419 0.57159184 0.5527293  0.49214061 0.49214061\n",
      " 0.52729348 0.49785653 0.44012572 0.43526715 0.45727347 0.44584164\n",
      " 0.43926837 0.46699052 0.46784796 0.4541297  0.47099164 0.4755644\n",
      " 0.49128317 0.52043439 0.50300082 0.5258645  0.51386103 0.46384675\n",
      " 0.48270929 0.45155756 0.46241777 0.42297796 0.42297796 0.42297796\n",
      " 0.42240634 0.44012572 0.42097736 0.40525858 0.41726205 0.42869388\n",
      " 0.50414399 0.51443266 0.4972849  0.46870531 0.44584164 0.42755072\n",
      " 0.39011143 0.37725062 0.37725062 0.37667899 0.40011429 0.40240062\n",
      " 0.40011429 0.41154613 0.39211204 0.39382675 0.4004001  0.40868817\n",
      " 0.40954552 0.40583021 0.41040296 0.4109745  0.43069449 0.42583592\n",
      " 0.43383817 0.43412399 0.42640755 0.43783939 0.41835603 0.41686097\n",
      " 0.41221842 0.40568918 0.39829698 0.39070097]\n",
      "6 day output [[0.38327157]]\n",
      "7 day input [0.36010286 0.35953123 0.36724776 0.36038867 0.3735353  0.38239491\n",
      " 0.39497    0.39411256 0.48585307 0.47442123 0.49699909 0.54587021\n",
      " 0.55444409 0.54872817 0.52472133 0.52500714 0.50300082 0.52529287\n",
      " 0.49842807 0.50300082 0.50528715 0.49614174 0.48585307 0.49585592\n",
      " 0.48013715 0.51786225 0.54044011 0.60160042 0.64589878 0.64818512\n",
      " 0.55987419 0.57159184 0.5527293  0.49214061 0.49214061 0.52729348\n",
      " 0.49785653 0.44012572 0.43526715 0.45727347 0.44584164 0.43926837\n",
      " 0.46699052 0.46784796 0.4541297  0.47099164 0.4755644  0.49128317\n",
      " 0.52043439 0.50300082 0.5258645  0.51386103 0.46384675 0.48270929\n",
      " 0.45155756 0.46241777 0.42297796 0.42297796 0.42297796 0.42240634\n",
      " 0.44012572 0.42097736 0.40525858 0.41726205 0.42869388 0.50414399\n",
      " 0.51443266 0.4972849  0.46870531 0.44584164 0.42755072 0.39011143\n",
      " 0.37725062 0.37725062 0.37667899 0.40011429 0.40240062 0.40011429\n",
      " 0.41154613 0.39211204 0.39382675 0.4004001  0.40868817 0.40954552\n",
      " 0.40583021 0.41040296 0.4109745  0.43069449 0.42583592 0.43383817\n",
      " 0.43412399 0.42640755 0.43783939 0.41835603 0.41686097 0.41221842\n",
      " 0.40568918 0.39829698 0.39070097 0.38327157]\n",
      "7 day output [[0.3761987]]\n",
      "8 day input [0.35953123 0.36724776 0.36038867 0.3735353  0.38239491 0.39497\n",
      " 0.39411256 0.48585307 0.47442123 0.49699909 0.54587021 0.55444409\n",
      " 0.54872817 0.52472133 0.52500714 0.50300082 0.52529287 0.49842807\n",
      " 0.50300082 0.50528715 0.49614174 0.48585307 0.49585592 0.48013715\n",
      " 0.51786225 0.54044011 0.60160042 0.64589878 0.64818512 0.55987419\n",
      " 0.57159184 0.5527293  0.49214061 0.49214061 0.52729348 0.49785653\n",
      " 0.44012572 0.43526715 0.45727347 0.44584164 0.43926837 0.46699052\n",
      " 0.46784796 0.4541297  0.47099164 0.4755644  0.49128317 0.52043439\n",
      " 0.50300082 0.5258645  0.51386103 0.46384675 0.48270929 0.45155756\n",
      " 0.46241777 0.42297796 0.42297796 0.42297796 0.42240634 0.44012572\n",
      " 0.42097736 0.40525858 0.41726205 0.42869388 0.50414399 0.51443266\n",
      " 0.4972849  0.46870531 0.44584164 0.42755072 0.39011143 0.37725062\n",
      " 0.37725062 0.37667899 0.40011429 0.40240062 0.40011429 0.41154613\n",
      " 0.39211204 0.39382675 0.4004001  0.40868817 0.40954552 0.40583021\n",
      " 0.41040296 0.4109745  0.43069449 0.42583592 0.43383817 0.43412399\n",
      " 0.42640755 0.43783939 0.41835603 0.41686097 0.41221842 0.40568918\n",
      " 0.39829698 0.39070097 0.38327157 0.37619871]\n",
      "8 day output [[0.36957]]\n",
      "9 day input [0.36724776 0.36038867 0.3735353  0.38239491 0.39497    0.39411256\n",
      " 0.48585307 0.47442123 0.49699909 0.54587021 0.55444409 0.54872817\n",
      " 0.52472133 0.52500714 0.50300082 0.52529287 0.49842807 0.50300082\n",
      " 0.50528715 0.49614174 0.48585307 0.49585592 0.48013715 0.51786225\n",
      " 0.54044011 0.60160042 0.64589878 0.64818512 0.55987419 0.57159184\n",
      " 0.5527293  0.49214061 0.49214061 0.52729348 0.49785653 0.44012572\n",
      " 0.43526715 0.45727347 0.44584164 0.43926837 0.46699052 0.46784796\n",
      " 0.4541297  0.47099164 0.4755644  0.49128317 0.52043439 0.50300082\n",
      " 0.5258645  0.51386103 0.46384675 0.48270929 0.45155756 0.46241777\n",
      " 0.42297796 0.42297796 0.42297796 0.42240634 0.44012572 0.42097736\n",
      " 0.40525858 0.41726205 0.42869388 0.50414399 0.51443266 0.4972849\n",
      " 0.46870531 0.44584164 0.42755072 0.39011143 0.37725062 0.37725062\n",
      " 0.37667899 0.40011429 0.40240062 0.40011429 0.41154613 0.39211204\n",
      " 0.39382675 0.4004001  0.40868817 0.40954552 0.40583021 0.41040296\n",
      " 0.4109745  0.43069449 0.42583592 0.43383817 0.43412399 0.42640755\n",
      " 0.43783939 0.41835603 0.41686097 0.41221842 0.40568918 0.39829698\n",
      " 0.39070097 0.38327157 0.37619871 0.36956999]\n",
      "9 day output [[0.3634139]]\n",
      "10 day input [0.36038867 0.3735353  0.38239491 0.39497    0.39411256 0.48585307\n",
      " 0.47442123 0.49699909 0.54587021 0.55444409 0.54872817 0.52472133\n",
      " 0.52500714 0.50300082 0.52529287 0.49842807 0.50300082 0.50528715\n",
      " 0.49614174 0.48585307 0.49585592 0.48013715 0.51786225 0.54044011\n",
      " 0.60160042 0.64589878 0.64818512 0.55987419 0.57159184 0.5527293\n",
      " 0.49214061 0.49214061 0.52729348 0.49785653 0.44012572 0.43526715\n",
      " 0.45727347 0.44584164 0.43926837 0.46699052 0.46784796 0.4541297\n",
      " 0.47099164 0.4755644  0.49128317 0.52043439 0.50300082 0.5258645\n",
      " 0.51386103 0.46384675 0.48270929 0.45155756 0.46241777 0.42297796\n",
      " 0.42297796 0.42297796 0.42240634 0.44012572 0.42097736 0.40525858\n",
      " 0.41726205 0.42869388 0.50414399 0.51443266 0.4972849  0.46870531\n",
      " 0.44584164 0.42755072 0.39011143 0.37725062 0.37725062 0.37667899\n",
      " 0.40011429 0.40240062 0.40011429 0.41154613 0.39211204 0.39382675\n",
      " 0.4004001  0.40868817 0.40954552 0.40583021 0.41040296 0.4109745\n",
      " 0.43069449 0.42583592 0.43383817 0.43412399 0.42640755 0.43783939\n",
      " 0.41835603 0.41686097 0.41221842 0.40568918 0.39829698 0.39070097\n",
      " 0.38327157 0.37619871 0.36956999 0.3634139 ]\n",
      "10 day output [[0.35771963]]\n",
      "11 day input [0.3735353  0.38239491 0.39497    0.39411256 0.48585307 0.47442123\n",
      " 0.49699909 0.54587021 0.55444409 0.54872817 0.52472133 0.52500714\n",
      " 0.50300082 0.52529287 0.49842807 0.50300082 0.50528715 0.49614174\n",
      " 0.48585307 0.49585592 0.48013715 0.51786225 0.54044011 0.60160042\n",
      " 0.64589878 0.64818512 0.55987419 0.57159184 0.5527293  0.49214061\n",
      " 0.49214061 0.52729348 0.49785653 0.44012572 0.43526715 0.45727347\n",
      " 0.44584164 0.43926837 0.46699052 0.46784796 0.4541297  0.47099164\n",
      " 0.4755644  0.49128317 0.52043439 0.50300082 0.5258645  0.51386103\n",
      " 0.46384675 0.48270929 0.45155756 0.46241777 0.42297796 0.42297796\n",
      " 0.42297796 0.42240634 0.44012572 0.42097736 0.40525858 0.41726205\n",
      " 0.42869388 0.50414399 0.51443266 0.4972849  0.46870531 0.44584164\n",
      " 0.42755072 0.39011143 0.37725062 0.37725062 0.37667899 0.40011429\n",
      " 0.40240062 0.40011429 0.41154613 0.39211204 0.39382675 0.4004001\n",
      " 0.40868817 0.40954552 0.40583021 0.41040296 0.4109745  0.43069449\n",
      " 0.42583592 0.43383817 0.43412399 0.42640755 0.43783939 0.41835603\n",
      " 0.41686097 0.41221842 0.40568918 0.39829698 0.39070097 0.38327157\n",
      " 0.37619871 0.36956999 0.3634139  0.35771963]\n",
      "11 day output [[0.3524466]]\n",
      "12 day input [0.38239491 0.39497    0.39411256 0.48585307 0.47442123 0.49699909\n",
      " 0.54587021 0.55444409 0.54872817 0.52472133 0.52500714 0.50300082\n",
      " 0.52529287 0.49842807 0.50300082 0.50528715 0.49614174 0.48585307\n",
      " 0.49585592 0.48013715 0.51786225 0.54044011 0.60160042 0.64589878\n",
      " 0.64818512 0.55987419 0.57159184 0.5527293  0.49214061 0.49214061\n",
      " 0.52729348 0.49785653 0.44012572 0.43526715 0.45727347 0.44584164\n",
      " 0.43926837 0.46699052 0.46784796 0.4541297  0.47099164 0.4755644\n",
      " 0.49128317 0.52043439 0.50300082 0.5258645  0.51386103 0.46384675\n",
      " 0.48270929 0.45155756 0.46241777 0.42297796 0.42297796 0.42297796\n",
      " 0.42240634 0.44012572 0.42097736 0.40525858 0.41726205 0.42869388\n",
      " 0.50414399 0.51443266 0.4972849  0.46870531 0.44584164 0.42755072\n",
      " 0.39011143 0.37725062 0.37725062 0.37667899 0.40011429 0.40240062\n",
      " 0.40011429 0.41154613 0.39211204 0.39382675 0.4004001  0.40868817\n",
      " 0.40954552 0.40583021 0.41040296 0.4109745  0.43069449 0.42583592\n",
      " 0.43383817 0.43412399 0.42640755 0.43783939 0.41835603 0.41686097\n",
      " 0.41221842 0.40568918 0.39829698 0.39070097 0.38327157 0.37619871\n",
      " 0.36956999 0.3634139  0.35771963 0.35244659]\n",
      "12 day output [[0.34753004]]\n",
      "13 day input [0.39497    0.39411256 0.48585307 0.47442123 0.49699909 0.54587021\n",
      " 0.55444409 0.54872817 0.52472133 0.52500714 0.50300082 0.52529287\n",
      " 0.49842807 0.50300082 0.50528715 0.49614174 0.48585307 0.49585592\n",
      " 0.48013715 0.51786225 0.54044011 0.60160042 0.64589878 0.64818512\n",
      " 0.55987419 0.57159184 0.5527293  0.49214061 0.49214061 0.52729348\n",
      " 0.49785653 0.44012572 0.43526715 0.45727347 0.44584164 0.43926837\n",
      " 0.46699052 0.46784796 0.4541297  0.47099164 0.4755644  0.49128317\n",
      " 0.52043439 0.50300082 0.5258645  0.51386103 0.46384675 0.48270929\n",
      " 0.45155756 0.46241777 0.42297796 0.42297796 0.42297796 0.42240634\n",
      " 0.44012572 0.42097736 0.40525858 0.41726205 0.42869388 0.50414399\n",
      " 0.51443266 0.4972849  0.46870531 0.44584164 0.42755072 0.39011143\n",
      " 0.37725062 0.37725062 0.37667899 0.40011429 0.40240062 0.40011429\n",
      " 0.41154613 0.39211204 0.39382675 0.4004001  0.40868817 0.40954552\n",
      " 0.40583021 0.41040296 0.4109745  0.43069449 0.42583592 0.43383817\n",
      " 0.43412399 0.42640755 0.43783939 0.41835603 0.41686097 0.41221842\n",
      " 0.40568918 0.39829698 0.39070097 0.38327157 0.37619871 0.36956999\n",
      " 0.3634139  0.35771963 0.35244659 0.34753004]\n",
      "13 day output [[0.34288642]]\n",
      "14 day input [0.39411256 0.48585307 0.47442123 0.49699909 0.54587021 0.55444409\n",
      " 0.54872817 0.52472133 0.52500714 0.50300082 0.52529287 0.49842807\n",
      " 0.50300082 0.50528715 0.49614174 0.48585307 0.49585592 0.48013715\n",
      " 0.51786225 0.54044011 0.60160042 0.64589878 0.64818512 0.55987419\n",
      " 0.57159184 0.5527293  0.49214061 0.49214061 0.52729348 0.49785653\n",
      " 0.44012572 0.43526715 0.45727347 0.44584164 0.43926837 0.46699052\n",
      " 0.46784796 0.4541297  0.47099164 0.4755644  0.49128317 0.52043439\n",
      " 0.50300082 0.5258645  0.51386103 0.46384675 0.48270929 0.45155756\n",
      " 0.46241777 0.42297796 0.42297796 0.42297796 0.42240634 0.44012572\n",
      " 0.42097736 0.40525858 0.41726205 0.42869388 0.50414399 0.51443266\n",
      " 0.4972849  0.46870531 0.44584164 0.42755072 0.39011143 0.37725062\n",
      " 0.37725062 0.37667899 0.40011429 0.40240062 0.40011429 0.41154613\n",
      " 0.39211204 0.39382675 0.4004001  0.40868817 0.40954552 0.40583021\n",
      " 0.41040296 0.4109745  0.43069449 0.42583592 0.43383817 0.43412399\n",
      " 0.42640755 0.43783939 0.41835603 0.41686097 0.41221842 0.40568918\n",
      " 0.39829698 0.39070097 0.38327157 0.37619871 0.36956999 0.3634139\n",
      " 0.35771963 0.35244659 0.34753004 0.34288642]\n",
      "14 day output [[0.338422]]\n",
      "15 day input [0.48585307 0.47442123 0.49699909 0.54587021 0.55444409 0.54872817\n",
      " 0.52472133 0.52500714 0.50300082 0.52529287 0.49842807 0.50300082\n",
      " 0.50528715 0.49614174 0.48585307 0.49585592 0.48013715 0.51786225\n",
      " 0.54044011 0.60160042 0.64589878 0.64818512 0.55987419 0.57159184\n",
      " 0.5527293  0.49214061 0.49214061 0.52729348 0.49785653 0.44012572\n",
      " 0.43526715 0.45727347 0.44584164 0.43926837 0.46699052 0.46784796\n",
      " 0.4541297  0.47099164 0.4755644  0.49128317 0.52043439 0.50300082\n",
      " 0.5258645  0.51386103 0.46384675 0.48270929 0.45155756 0.46241777\n",
      " 0.42297796 0.42297796 0.42297796 0.42240634 0.44012572 0.42097736\n",
      " 0.40525858 0.41726205 0.42869388 0.50414399 0.51443266 0.4972849\n",
      " 0.46870531 0.44584164 0.42755072 0.39011143 0.37725062 0.37725062\n",
      " 0.37667899 0.40011429 0.40240062 0.40011429 0.41154613 0.39211204\n",
      " 0.39382675 0.4004001  0.40868817 0.40954552 0.40583021 0.41040296\n",
      " 0.4109745  0.43069449 0.42583592 0.43383817 0.43412399 0.42640755\n",
      " 0.43783939 0.41835603 0.41686097 0.41221842 0.40568918 0.39829698\n",
      " 0.39070097 0.38327157 0.37619871 0.36956999 0.3634139  0.35771963\n",
      " 0.35244659 0.34753004 0.34288642 0.338422  ]\n",
      "15 day output [[0.33403906]]\n",
      "16 day input [0.47442123 0.49699909 0.54587021 0.55444409 0.54872817 0.52472133\n",
      " 0.52500714 0.50300082 0.52529287 0.49842807 0.50300082 0.50528715\n",
      " 0.49614174 0.48585307 0.49585592 0.48013715 0.51786225 0.54044011\n",
      " 0.60160042 0.64589878 0.64818512 0.55987419 0.57159184 0.5527293\n",
      " 0.49214061 0.49214061 0.52729348 0.49785653 0.44012572 0.43526715\n",
      " 0.45727347 0.44584164 0.43926837 0.46699052 0.46784796 0.4541297\n",
      " 0.47099164 0.4755644  0.49128317 0.52043439 0.50300082 0.5258645\n",
      " 0.51386103 0.46384675 0.48270929 0.45155756 0.46241777 0.42297796\n",
      " 0.42297796 0.42297796 0.42240634 0.44012572 0.42097736 0.40525858\n",
      " 0.41726205 0.42869388 0.50414399 0.51443266 0.4972849  0.46870531\n",
      " 0.44584164 0.42755072 0.39011143 0.37725062 0.37725062 0.37667899\n",
      " 0.40011429 0.40240062 0.40011429 0.41154613 0.39211204 0.39382675\n",
      " 0.4004001  0.40868817 0.40954552 0.40583021 0.41040296 0.4109745\n",
      " 0.43069449 0.42583592 0.43383817 0.43412399 0.42640755 0.43783939\n",
      " 0.41835603 0.41686097 0.41221842 0.40568918 0.39829698 0.39070097\n",
      " 0.38327157 0.37619871 0.36956999 0.3634139  0.35771963 0.35244659\n",
      " 0.34753004 0.34288642 0.338422   0.33403906]\n",
      "16 day output [[0.32964334]]\n",
      "17 day input [0.49699909 0.54587021 0.55444409 0.54872817 0.52472133 0.52500714\n",
      " 0.50300082 0.52529287 0.49842807 0.50300082 0.50528715 0.49614174\n",
      " 0.48585307 0.49585592 0.48013715 0.51786225 0.54044011 0.60160042\n",
      " 0.64589878 0.64818512 0.55987419 0.57159184 0.5527293  0.49214061\n",
      " 0.49214061 0.52729348 0.49785653 0.44012572 0.43526715 0.45727347\n",
      " 0.44584164 0.43926837 0.46699052 0.46784796 0.4541297  0.47099164\n",
      " 0.4755644  0.49128317 0.52043439 0.50300082 0.5258645  0.51386103\n",
      " 0.46384675 0.48270929 0.45155756 0.46241777 0.42297796 0.42297796\n",
      " 0.42297796 0.42240634 0.44012572 0.42097736 0.40525858 0.41726205\n",
      " 0.42869388 0.50414399 0.51443266 0.4972849  0.46870531 0.44584164\n",
      " 0.42755072 0.39011143 0.37725062 0.37725062 0.37667899 0.40011429\n",
      " 0.40240062 0.40011429 0.41154613 0.39211204 0.39382675 0.4004001\n",
      " 0.40868817 0.40954552 0.40583021 0.41040296 0.4109745  0.43069449\n",
      " 0.42583592 0.43383817 0.43412399 0.42640755 0.43783939 0.41835603\n",
      " 0.41686097 0.41221842 0.40568918 0.39829698 0.39070097 0.38327157\n",
      " 0.37619871 0.36956999 0.3634139  0.35771963 0.35244659 0.34753004\n",
      " 0.34288642 0.338422   0.33403906 0.32964334]\n",
      "17 day output [[0.32515085]]\n",
      "18 day input [0.54587021 0.55444409 0.54872817 0.52472133 0.52500714 0.50300082\n",
      " 0.52529287 0.49842807 0.50300082 0.50528715 0.49614174 0.48585307\n",
      " 0.49585592 0.48013715 0.51786225 0.54044011 0.60160042 0.64589878\n",
      " 0.64818512 0.55987419 0.57159184 0.5527293  0.49214061 0.49214061\n",
      " 0.52729348 0.49785653 0.44012572 0.43526715 0.45727347 0.44584164\n",
      " 0.43926837 0.46699052 0.46784796 0.4541297  0.47099164 0.4755644\n",
      " 0.49128317 0.52043439 0.50300082 0.5258645  0.51386103 0.46384675\n",
      " 0.48270929 0.45155756 0.46241777 0.42297796 0.42297796 0.42297796\n",
      " 0.42240634 0.44012572 0.42097736 0.40525858 0.41726205 0.42869388\n",
      " 0.50414399 0.51443266 0.4972849  0.46870531 0.44584164 0.42755072\n",
      " 0.39011143 0.37725062 0.37725062 0.37667899 0.40011429 0.40240062\n",
      " 0.40011429 0.41154613 0.39211204 0.39382675 0.4004001  0.40868817\n",
      " 0.40954552 0.40583021 0.41040296 0.4109745  0.43069449 0.42583592\n",
      " 0.43383817 0.43412399 0.42640755 0.43783939 0.41835603 0.41686097\n",
      " 0.41221842 0.40568918 0.39829698 0.39070097 0.38327157 0.37619871\n",
      " 0.36956999 0.3634139  0.35771963 0.35244659 0.34753004 0.34288642\n",
      " 0.338422   0.33403906 0.32964334 0.32515085]\n",
      "18 day output [[0.3204926]]\n",
      "19 day input [0.55444409 0.54872817 0.52472133 0.52500714 0.50300082 0.52529287\n",
      " 0.49842807 0.50300082 0.50528715 0.49614174 0.48585307 0.49585592\n",
      " 0.48013715 0.51786225 0.54044011 0.60160042 0.64589878 0.64818512\n",
      " 0.55987419 0.57159184 0.5527293  0.49214061 0.49214061 0.52729348\n",
      " 0.49785653 0.44012572 0.43526715 0.45727347 0.44584164 0.43926837\n",
      " 0.46699052 0.46784796 0.4541297  0.47099164 0.4755644  0.49128317\n",
      " 0.52043439 0.50300082 0.5258645  0.51386103 0.46384675 0.48270929\n",
      " 0.45155756 0.46241777 0.42297796 0.42297796 0.42297796 0.42240634\n",
      " 0.44012572 0.42097736 0.40525858 0.41726205 0.42869388 0.50414399\n",
      " 0.51443266 0.4972849  0.46870531 0.44584164 0.42755072 0.39011143\n",
      " 0.37725062 0.37725062 0.37667899 0.40011429 0.40240062 0.40011429\n",
      " 0.41154613 0.39211204 0.39382675 0.4004001  0.40868817 0.40954552\n",
      " 0.40583021 0.41040296 0.4109745  0.43069449 0.42583592 0.43383817\n",
      " 0.43412399 0.42640755 0.43783939 0.41835603 0.41686097 0.41221842\n",
      " 0.40568918 0.39829698 0.39070097 0.38327157 0.37619871 0.36956999\n",
      " 0.3634139  0.35771963 0.35244659 0.34753004 0.34288642 0.338422\n",
      " 0.33403906 0.32964334 0.32515085 0.3204926 ]\n",
      "19 day output [[0.31561843]]\n",
      "20 day input [0.54872817 0.52472133 0.52500714 0.50300082 0.52529287 0.49842807\n",
      " 0.50300082 0.50528715 0.49614174 0.48585307 0.49585592 0.48013715\n",
      " 0.51786225 0.54044011 0.60160042 0.64589878 0.64818512 0.55987419\n",
      " 0.57159184 0.5527293  0.49214061 0.49214061 0.52729348 0.49785653\n",
      " 0.44012572 0.43526715 0.45727347 0.44584164 0.43926837 0.46699052\n",
      " 0.46784796 0.4541297  0.47099164 0.4755644  0.49128317 0.52043439\n",
      " 0.50300082 0.5258645  0.51386103 0.46384675 0.48270929 0.45155756\n",
      " 0.46241777 0.42297796 0.42297796 0.42297796 0.42240634 0.44012572\n",
      " 0.42097736 0.40525858 0.41726205 0.42869388 0.50414399 0.51443266\n",
      " 0.4972849  0.46870531 0.44584164 0.42755072 0.39011143 0.37725062\n",
      " 0.37725062 0.37667899 0.40011429 0.40240062 0.40011429 0.41154613\n",
      " 0.39211204 0.39382675 0.4004001  0.40868817 0.40954552 0.40583021\n",
      " 0.41040296 0.4109745  0.43069449 0.42583592 0.43383817 0.43412399\n",
      " 0.42640755 0.43783939 0.41835603 0.41686097 0.41221842 0.40568918\n",
      " 0.39829698 0.39070097 0.38327157 0.37619871 0.36956999 0.3634139\n",
      " 0.35771963 0.35244659 0.34753004 0.34288642 0.338422   0.33403906\n",
      " 0.32964334 0.32515085 0.3204926  0.31561843]\n",
      "20 day output [[0.31049913]]\n",
      "21 day input [0.52472133 0.52500714 0.50300082 0.52529287 0.49842807 0.50300082\n",
      " 0.50528715 0.49614174 0.48585307 0.49585592 0.48013715 0.51786225\n",
      " 0.54044011 0.60160042 0.64589878 0.64818512 0.55987419 0.57159184\n",
      " 0.5527293  0.49214061 0.49214061 0.52729348 0.49785653 0.44012572\n",
      " 0.43526715 0.45727347 0.44584164 0.43926837 0.46699052 0.46784796\n",
      " 0.4541297  0.47099164 0.4755644  0.49128317 0.52043439 0.50300082\n",
      " 0.5258645  0.51386103 0.46384675 0.48270929 0.45155756 0.46241777\n",
      " 0.42297796 0.42297796 0.42297796 0.42240634 0.44012572 0.42097736\n",
      " 0.40525858 0.41726205 0.42869388 0.50414399 0.51443266 0.4972849\n",
      " 0.46870531 0.44584164 0.42755072 0.39011143 0.37725062 0.37725062\n",
      " 0.37667899 0.40011429 0.40240062 0.40011429 0.41154613 0.39211204\n",
      " 0.39382675 0.4004001  0.40868817 0.40954552 0.40583021 0.41040296\n",
      " 0.4109745  0.43069449 0.42583592 0.43383817 0.43412399 0.42640755\n",
      " 0.43783939 0.41835603 0.41686097 0.41221842 0.40568918 0.39829698\n",
      " 0.39070097 0.38327157 0.37619871 0.36956999 0.3634139  0.35771963\n",
      " 0.35244659 0.34753004 0.34288642 0.338422   0.33403906 0.32964334\n",
      " 0.32515085 0.3204926  0.31561843 0.31049913]\n",
      "21 day output [[0.3051269]]\n",
      "22 day input [0.52500714 0.50300082 0.52529287 0.49842807 0.50300082 0.50528715\n",
      " 0.49614174 0.48585307 0.49585592 0.48013715 0.51786225 0.54044011\n",
      " 0.60160042 0.64589878 0.64818512 0.55987419 0.57159184 0.5527293\n",
      " 0.49214061 0.49214061 0.52729348 0.49785653 0.44012572 0.43526715\n",
      " 0.45727347 0.44584164 0.43926837 0.46699052 0.46784796 0.4541297\n",
      " 0.47099164 0.4755644  0.49128317 0.52043439 0.50300082 0.5258645\n",
      " 0.51386103 0.46384675 0.48270929 0.45155756 0.46241777 0.42297796\n",
      " 0.42297796 0.42297796 0.42240634 0.44012572 0.42097736 0.40525858\n",
      " 0.41726205 0.42869388 0.50414399 0.51443266 0.4972849  0.46870531\n",
      " 0.44584164 0.42755072 0.39011143 0.37725062 0.37725062 0.37667899\n",
      " 0.40011429 0.40240062 0.40011429 0.41154613 0.39211204 0.39382675\n",
      " 0.4004001  0.40868817 0.40954552 0.40583021 0.41040296 0.4109745\n",
      " 0.43069449 0.42583592 0.43383817 0.43412399 0.42640755 0.43783939\n",
      " 0.41835603 0.41686097 0.41221842 0.40568918 0.39829698 0.39070097\n",
      " 0.38327157 0.37619871 0.36956999 0.3634139  0.35771963 0.35244659\n",
      " 0.34753004 0.34288642 0.338422   0.33403906 0.32964334 0.32515085\n",
      " 0.3204926  0.31561843 0.31049913 0.30512691]\n",
      "22 day output [[0.29951453]]\n",
      "23 day input [0.50300082 0.52529287 0.49842807 0.50300082 0.50528715 0.49614174\n",
      " 0.48585307 0.49585592 0.48013715 0.51786225 0.54044011 0.60160042\n",
      " 0.64589878 0.64818512 0.55987419 0.57159184 0.5527293  0.49214061\n",
      " 0.49214061 0.52729348 0.49785653 0.44012572 0.43526715 0.45727347\n",
      " 0.44584164 0.43926837 0.46699052 0.46784796 0.4541297  0.47099164\n",
      " 0.4755644  0.49128317 0.52043439 0.50300082 0.5258645  0.51386103\n",
      " 0.46384675 0.48270929 0.45155756 0.46241777 0.42297796 0.42297796\n",
      " 0.42297796 0.42240634 0.44012572 0.42097736 0.40525858 0.41726205\n",
      " 0.42869388 0.50414399 0.51443266 0.4972849  0.46870531 0.44584164\n",
      " 0.42755072 0.39011143 0.37725062 0.37725062 0.37667899 0.40011429\n",
      " 0.40240062 0.40011429 0.41154613 0.39211204 0.39382675 0.4004001\n",
      " 0.40868817 0.40954552 0.40583021 0.41040296 0.4109745  0.43069449\n",
      " 0.42583592 0.43383817 0.43412399 0.42640755 0.43783939 0.41835603\n",
      " 0.41686097 0.41221842 0.40568918 0.39829698 0.39070097 0.38327157\n",
      " 0.37619871 0.36956999 0.3634139  0.35771963 0.35244659 0.34753004\n",
      " 0.34288642 0.338422   0.33403906 0.32964334 0.32515085 0.3204926\n",
      " 0.31561843 0.31049913 0.30512691 0.29951453]\n",
      "23 day output [[0.29369342]]\n",
      "24 day input [0.52529287 0.49842807 0.50300082 0.50528715 0.49614174 0.48585307\n",
      " 0.49585592 0.48013715 0.51786225 0.54044011 0.60160042 0.64589878\n",
      " 0.64818512 0.55987419 0.57159184 0.5527293  0.49214061 0.49214061\n",
      " 0.52729348 0.49785653 0.44012572 0.43526715 0.45727347 0.44584164\n",
      " 0.43926837 0.46699052 0.46784796 0.4541297  0.47099164 0.4755644\n",
      " 0.49128317 0.52043439 0.50300082 0.5258645  0.51386103 0.46384675\n",
      " 0.48270929 0.45155756 0.46241777 0.42297796 0.42297796 0.42297796\n",
      " 0.42240634 0.44012572 0.42097736 0.40525858 0.41726205 0.42869388\n",
      " 0.50414399 0.51443266 0.4972849  0.46870531 0.44584164 0.42755072\n",
      " 0.39011143 0.37725062 0.37725062 0.37667899 0.40011429 0.40240062\n",
      " 0.40011429 0.41154613 0.39211204 0.39382675 0.4004001  0.40868817\n",
      " 0.40954552 0.40583021 0.41040296 0.4109745  0.43069449 0.42583592\n",
      " 0.43383817 0.43412399 0.42640755 0.43783939 0.41835603 0.41686097\n",
      " 0.41221842 0.40568918 0.39829698 0.39070097 0.38327157 0.37619871\n",
      " 0.36956999 0.3634139  0.35771963 0.35244659 0.34753004 0.34288642\n",
      " 0.338422   0.33403906 0.32964334 0.32515085 0.3204926  0.31561843\n",
      " 0.31049913 0.30512691 0.29951453 0.29369342]\n",
      "24 day output [[0.28771067]]\n",
      "25 day input [0.49842807 0.50300082 0.50528715 0.49614174 0.48585307 0.49585592\n",
      " 0.48013715 0.51786225 0.54044011 0.60160042 0.64589878 0.64818512\n",
      " 0.55987419 0.57159184 0.5527293  0.49214061 0.49214061 0.52729348\n",
      " 0.49785653 0.44012572 0.43526715 0.45727347 0.44584164 0.43926837\n",
      " 0.46699052 0.46784796 0.4541297  0.47099164 0.4755644  0.49128317\n",
      " 0.52043439 0.50300082 0.5258645  0.51386103 0.46384675 0.48270929\n",
      " 0.45155756 0.46241777 0.42297796 0.42297796 0.42297796 0.42240634\n",
      " 0.44012572 0.42097736 0.40525858 0.41726205 0.42869388 0.50414399\n",
      " 0.51443266 0.4972849  0.46870531 0.44584164 0.42755072 0.39011143\n",
      " 0.37725062 0.37725062 0.37667899 0.40011429 0.40240062 0.40011429\n",
      " 0.41154613 0.39211204 0.39382675 0.4004001  0.40868817 0.40954552\n",
      " 0.40583021 0.41040296 0.4109745  0.43069449 0.42583592 0.43383817\n",
      " 0.43412399 0.42640755 0.43783939 0.41835603 0.41686097 0.41221842\n",
      " 0.40568918 0.39829698 0.39070097 0.38327157 0.37619871 0.36956999\n",
      " 0.3634139  0.35771963 0.35244659 0.34753004 0.34288642 0.338422\n",
      " 0.33403906 0.32964334 0.32515085 0.3204926  0.31561843 0.31049913\n",
      " 0.30512691 0.29951453 0.29369342 0.28771067]\n",
      "25 day output [[0.28162494]]\n",
      "26 day input [0.50300082 0.50528715 0.49614174 0.48585307 0.49585592 0.48013715\n",
      " 0.51786225 0.54044011 0.60160042 0.64589878 0.64818512 0.55987419\n",
      " 0.57159184 0.5527293  0.49214061 0.49214061 0.52729348 0.49785653\n",
      " 0.44012572 0.43526715 0.45727347 0.44584164 0.43926837 0.46699052\n",
      " 0.46784796 0.4541297  0.47099164 0.4755644  0.49128317 0.52043439\n",
      " 0.50300082 0.5258645  0.51386103 0.46384675 0.48270929 0.45155756\n",
      " 0.46241777 0.42297796 0.42297796 0.42297796 0.42240634 0.44012572\n",
      " 0.42097736 0.40525858 0.41726205 0.42869388 0.50414399 0.51443266\n",
      " 0.4972849  0.46870531 0.44584164 0.42755072 0.39011143 0.37725062\n",
      " 0.37725062 0.37667899 0.40011429 0.40240062 0.40011429 0.41154613\n",
      " 0.39211204 0.39382675 0.4004001  0.40868817 0.40954552 0.40583021\n",
      " 0.41040296 0.4109745  0.43069449 0.42583592 0.43383817 0.43412399\n",
      " 0.42640755 0.43783939 0.41835603 0.41686097 0.41221842 0.40568918\n",
      " 0.39829698 0.39070097 0.38327157 0.37619871 0.36956999 0.3634139\n",
      " 0.35771963 0.35244659 0.34753004 0.34288642 0.338422   0.33403906\n",
      " 0.32964334 0.32515085 0.3204926  0.31561843 0.31049913 0.30512691\n",
      " 0.29951453 0.29369342 0.28771067 0.28162494]\n",
      "26 day output [[0.27550334]]\n",
      "27 day input [0.50528715 0.49614174 0.48585307 0.49585592 0.48013715 0.51786225\n",
      " 0.54044011 0.60160042 0.64589878 0.64818512 0.55987419 0.57159184\n",
      " 0.5527293  0.49214061 0.49214061 0.52729348 0.49785653 0.44012572\n",
      " 0.43526715 0.45727347 0.44584164 0.43926837 0.46699052 0.46784796\n",
      " 0.4541297  0.47099164 0.4755644  0.49128317 0.52043439 0.50300082\n",
      " 0.5258645  0.51386103 0.46384675 0.48270929 0.45155756 0.46241777\n",
      " 0.42297796 0.42297796 0.42297796 0.42240634 0.44012572 0.42097736\n",
      " 0.40525858 0.41726205 0.42869388 0.50414399 0.51443266 0.4972849\n",
      " 0.46870531 0.44584164 0.42755072 0.39011143 0.37725062 0.37725062\n",
      " 0.37667899 0.40011429 0.40240062 0.40011429 0.41154613 0.39211204\n",
      " 0.39382675 0.4004001  0.40868817 0.40954552 0.40583021 0.41040296\n",
      " 0.4109745  0.43069449 0.42583592 0.43383817 0.43412399 0.42640755\n",
      " 0.43783939 0.41835603 0.41686097 0.41221842 0.40568918 0.39829698\n",
      " 0.39070097 0.38327157 0.37619871 0.36956999 0.3634139  0.35771963\n",
      " 0.35244659 0.34753004 0.34288642 0.338422   0.33403906 0.32964334\n",
      " 0.32515085 0.3204926  0.31561843 0.31049913 0.30512691 0.29951453\n",
      " 0.29369342 0.28771067 0.28162494 0.27550334]\n",
      "27 day output [[0.26941648]]\n",
      "28 day input [0.49614174 0.48585307 0.49585592 0.48013715 0.51786225 0.54044011\n",
      " 0.60160042 0.64589878 0.64818512 0.55987419 0.57159184 0.5527293\n",
      " 0.49214061 0.49214061 0.52729348 0.49785653 0.44012572 0.43526715\n",
      " 0.45727347 0.44584164 0.43926837 0.46699052 0.46784796 0.4541297\n",
      " 0.47099164 0.4755644  0.49128317 0.52043439 0.50300082 0.5258645\n",
      " 0.51386103 0.46384675 0.48270929 0.45155756 0.46241777 0.42297796\n",
      " 0.42297796 0.42297796 0.42240634 0.44012572 0.42097736 0.40525858\n",
      " 0.41726205 0.42869388 0.50414399 0.51443266 0.4972849  0.46870531\n",
      " 0.44584164 0.42755072 0.39011143 0.37725062 0.37725062 0.37667899\n",
      " 0.40011429 0.40240062 0.40011429 0.41154613 0.39211204 0.39382675\n",
      " 0.4004001  0.40868817 0.40954552 0.40583021 0.41040296 0.4109745\n",
      " 0.43069449 0.42583592 0.43383817 0.43412399 0.42640755 0.43783939\n",
      " 0.41835603 0.41686097 0.41221842 0.40568918 0.39829698 0.39070097\n",
      " 0.38327157 0.37619871 0.36956999 0.3634139  0.35771963 0.35244659\n",
      " 0.34753004 0.34288642 0.338422   0.33403906 0.32964334 0.32515085\n",
      " 0.3204926  0.31561843 0.31049913 0.30512691 0.29951453 0.29369342\n",
      " 0.28771067 0.28162494 0.27550334 0.26941648]\n",
      "28 day output [[0.2634352]]\n",
      "29 day input [0.48585307 0.49585592 0.48013715 0.51786225 0.54044011 0.60160042\n",
      " 0.64589878 0.64818512 0.55987419 0.57159184 0.5527293  0.49214061\n",
      " 0.49214061 0.52729348 0.49785653 0.44012572 0.43526715 0.45727347\n",
      " 0.44584164 0.43926837 0.46699052 0.46784796 0.4541297  0.47099164\n",
      " 0.4755644  0.49128317 0.52043439 0.50300082 0.5258645  0.51386103\n",
      " 0.46384675 0.48270929 0.45155756 0.46241777 0.42297796 0.42297796\n",
      " 0.42297796 0.42240634 0.44012572 0.42097736 0.40525858 0.41726205\n",
      " 0.42869388 0.50414399 0.51443266 0.4972849  0.46870531 0.44584164\n",
      " 0.42755072 0.39011143 0.37725062 0.37725062 0.37667899 0.40011429\n",
      " 0.40240062 0.40011429 0.41154613 0.39211204 0.39382675 0.4004001\n",
      " 0.40868817 0.40954552 0.40583021 0.41040296 0.4109745  0.43069449\n",
      " 0.42583592 0.43383817 0.43412399 0.42640755 0.43783939 0.41835603\n",
      " 0.41686097 0.41221842 0.40568918 0.39829698 0.39070097 0.38327157\n",
      " 0.37619871 0.36956999 0.3634139  0.35771963 0.35244659 0.34753004\n",
      " 0.34288642 0.338422   0.33403906 0.32964334 0.32515085 0.3204926\n",
      " 0.31561843 0.31049913 0.30512691 0.29951453 0.29369342 0.28771067\n",
      " 0.28162494 0.27550334 0.26941648 0.26343521]\n",
      "29 day output [[0.25762695]]\n",
      "[[0.4183560311794281], [0.416860967874527], [0.4122184216976166], [0.40568917989730835], [0.398296982049942], [0.39070096611976624], [0.38327157497406006], [0.3761987090110779], [0.3695699870586395], [0.36341390013694763], [0.35771963000297546], [0.352446585893631], [0.3475300371646881], [0.34288641810417175], [0.3384220004081726], [0.3340390622615814], [0.3296433389186859], [0.32515084743499756], [0.32049259543418884], [0.3156184256076813], [0.3104991316795349], [0.3051269054412842], [0.2995145320892334], [0.2936934232711792], [0.28771066665649414], [0.2816249430179596], [0.27550333738327026], [0.269416481256485], [0.2634352147579193], [0.2576269507408142]]\n"
     ]
    }
   ],
   "source": [
    "# demonstrate prediction for next 30 days\n",
    "from numpy import array\n",
    "\n",
    "lst_output=[]\n",
    "n_steps=100\n",
    "i=0\n",
    "while(i<30):\n",
    "    \n",
    "    if(len(temp_input)>100):\n",
    "        #print(temp_input)\n",
    "        x_input=np.array(temp_input[1:])\n",
    "        print(\"{} day input {}\".format(i,x_input))\n",
    "        x_input=x_input.reshape(1,-1)\n",
    "        x_input = x_input.reshape((1, n_steps, 1))\n",
    "        #print(x_input)\n",
    "        yhat = model.predict(x_input, verbose=0)\n",
    "        print(\"{} day output {}\".format(i,yhat))\n",
    "        temp_input.extend(yhat[0].tolist())\n",
    "        temp_input=temp_input[1:]\n",
    "        #print(temp_input)\n",
    "        lst_output.extend(yhat.tolist())\n",
    "        i=i+1\n",
    "    else:\n",
    "        x_input = x_input.reshape((1, n_steps,1))\n",
    "        yhat = model.predict(x_input, verbose=0)\n",
    "        print(yhat[0])\n",
    "        temp_input.extend(yhat[0].tolist())\n",
    "        print(len(temp_input))\n",
    "        lst_output.extend(yhat.tolist())\n",
    "        i=i+1\n",
    "    \n",
    "\n",
    "print(lst_output)"
   ]
  },
  {
   "cell_type": "code",
   "execution_count": 37,
   "metadata": {},
   "outputs": [],
   "source": [
    "day_new=np.arange(1,101)\n",
    "day_pred=np.arange(101,131)"
   ]
  },
  {
   "cell_type": "code",
   "execution_count": 38,
   "metadata": {},
   "outputs": [
    {
     "data": {
      "text/plain": [
       "(100,)"
      ]
     },
     "execution_count": 38,
     "metadata": {},
     "output_type": "execute_result"
    }
   ],
   "source": [
    "day_new.shape"
   ]
  },
  {
   "cell_type": "code",
   "execution_count": 39,
   "metadata": {},
   "outputs": [],
   "source": [
    "import matplotlib.pyplot as plt"
   ]
  },
  {
   "cell_type": "code",
   "execution_count": 40,
   "metadata": {},
   "outputs": [
    {
     "data": {
      "text/plain": [
       "1000"
      ]
     },
     "execution_count": 40,
     "metadata": {},
     "output_type": "execute_result"
    }
   ],
   "source": [
    "len(df1)"
   ]
  },
  {
   "cell_type": "code",
   "execution_count": 41,
   "metadata": {},
   "outputs": [
    {
     "data": {
      "text/plain": [
       "900"
      ]
     },
     "execution_count": 41,
     "metadata": {},
     "output_type": "execute_result"
    }
   ],
   "source": [
    "1000-100"
   ]
  },
  {
   "cell_type": "code",
   "execution_count": 42,
   "metadata": {},
   "outputs": [
    {
     "data": {
      "text/plain": [
       "[<matplotlib.lines.Line2D at 0x21201327cd0>]"
      ]
     },
     "execution_count": 42,
     "metadata": {},
     "output_type": "execute_result"
    },
    {
     "data": {
      "image/png": "[encoded data removed]",
      "text/plain": [
       "<Figure size 432x288 with 1 Axes>"
      ]
     },
     "metadata": {
      "needs_background": "light"
     },
     "output_type": "display_data"
    }
   ],
   "source": [
    "plt.plot(day_new,scaler.inverse_transform(df1[900:]))\n",
    "plt.plot(day_pred,scaler.inverse_transform(lst_output))"
   ]
  },
  {
   "cell_type": "code",
   "execution_count": 53,
   "metadata": {},
   "outputs": [
    {
     "data": {
      "text/plain": [
       "[<matplotlib.lines.Line2D at 0x2120355c220>]"
      ]
     },
     "execution_count": 53,
     "metadata": {},
     "output_type": "execute_result"
    },
    {
     "data": {
      "image/png": "[encoded data removed]",
      "text/plain": [
       "<Figure size 432x288 with 1 Axes>"
      ]
     },
     "metadata": {
      "needs_background": "light"
     },
     "output_type": "display_data"
    }
   ],
   "source": [
    "df3=df1.tolist()\n",
    "df3.extend(lst_output)\n",
    "plt.plot(df3[950:])\n"
   ]
  },
  {
   "cell_type": "code",
   "execution_count": 51,
   "metadata": {},
   "outputs": [],
   "source": [
    "df3=scaler.inverse_transform(df3).tolist()"
   ]
  },
  {
   "cell_type": "code",
   "execution_count": 52,
   "metadata": {},
   "outputs": [
    {
     "data": {
      "text/plain": [
       "[<matplotlib.lines.Line2D at 0x21203501850>]"
      ]
     },
     "execution_count": 52,
     "metadata": {},
     "output_type": "execute_result"
    },
    {
     "data": {
      "image/png": "[encoded data removed]",
      "text/plain": [
       "<Figure size 432x288 with 1 Axes>"
      ]
     },
     "metadata": {
      "needs_background": "light"
     },
     "output_type": "display_data"
    }
   ],
   "source": [
    "plt.plot(df3)"
   ]
  },
  {
   "cell_type": "code",
   "execution_count": null,
   "metadata": {},
   "outputs": [],
   "source": [
    " "
   ]
  }
 ],
 "metadata": {
  "kernelspec": {
   "display_name": "Python 3",
   "language": "python",
   "name": "python3"
  },
  "language_info": {
   "codemirror_mode": {
    "name": "ipython",
    "version": 3
   },
   "file_extension": ".py",
   "mimetype": "text/x-python",
   "name": "python",
   "nbconvert_exporter": "python",
   "pygments_lexer": "ipython3",
   "version": "3.8.3"
  }
 },
 "nbformat": 4,
 "nbformat_minor": 4
}
